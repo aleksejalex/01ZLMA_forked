{
  "nbformat": 4,
  "nbformat_minor": 0,
  "metadata": {
    "colab": {
      "name": "01ZLMA_ex08_Binary_Data_2.ipynb",
      "private_outputs": true,
      "provenance": [],
      "collapsed_sections": [],
      "authorship_tag": "ABX9TyOS6EtqeFrFULJJ+5TG1tiq",
      "include_colab_link": true
    },
    "kernelspec": {
      "name": "ir",
      "display_name": "R"
    },
    "language_info": {
      "name": "R"
    }
  },
  "cells": [
    {
      "cell_type": "markdown",
      "metadata": {
        "id": "view-in-github",
        "colab_type": "text"
      },
      "source": [
        "<a href=\"https://colab.research.google.com/github/francji1/01ZLMA/blob/main/R/01ZLMA_ex08_Binary_Data_2.ipynb\" target=\"_parent\"><img src=\"https://colab.research.google.com/assets/colab-badge.svg\" alt=\"Open In Colab\"/></a>"
      ]
    },
    {
      "cell_type": "markdown",
      "metadata": {
        "id": "oD47O_0VwUBm"
      },
      "source": [
        "Exercise 08 of the course 01ZLMA. \n",
        "\n",
        "# GLM for Discrete response - Binary Data Analysis (02)\n",
        "\n",
        "Alternative and Binomial responses"
      ]
    },
    {
      "cell_type": "markdown",
      "metadata": {
        "lines_to_next_cell": 0,
        "id": "l2EHCMAWUHT6"
      },
      "source": [
        "**Bernoulli (Alternative) Model**\n",
        "\n",
        "$$Y_{i,j} \\sim Be(\\pi_i) \\ i = 1,\\ldots,K \\ \\text{and} \\ j = 1,\\ldots, n_i.$$\n",
        "$K$ is number of groups, $n_i$ is number of observations in group $i$ and $\\sum_{i=1}^{K} = N$\n",
        "$$ E[Y_{i,j}] = \\pi_i \\ \\text{and} \\ g(\\pi_i) = \\eta_i =x_i^T \\beta $$\n",
        "\n",
        "\n",
        "**Binomial Model**\n",
        "$$Y_i = \\sum_{j=1}^{n_i} Y_{i,j} \\sim Bi(n_i, \\pi_i)$$"
      ]
    },
    {
      "cell_type": "markdown",
      "metadata": {
        "id": "urFC1XzcWd1t"
      },
      "source": [
        "**Without continuos covariate (only factor variables)**\n",
        "\n",
        "$K$ is constant and $n_i \\rightarrow \\infty $\n",
        "\n",
        "**With at least one continuos covariate**\n",
        "\n",
        "$n_i \\approx 1$ ( $n_i$ is small enough) and $K \\rightarrow \\infty$\n",
        "\n"
      ]
    },
    {
      "cell_type": "markdown",
      "metadata": {
        "id": "lSgD34dQW1cE"
      },
      "source": [
        "## Link functions for binary data\n",
        "\n",
        "**Logistic function:**\n",
        "\n",
        "The logistic function is the canonical link function for binary responses, and it is CDF of the standard logistic distribution.\n",
        "\n",
        "$$\\pi_i = \\frac{1}{1+e^{-x_i^T \\beta}} $$ \n",
        "\n",
        "\n",
        "**Probit function:**\n",
        "\n",
        "The CDF of the normal distribution. \n",
        "$$\\pi_i = \\Phi({x_i^T \\beta}) $$ \n",
        "\n",
        "\n",
        "**Cauchit function:**\n",
        "\n",
        "The CDF of the Cauchy distribution\n",
        "\n",
        "$$\\pi_i = \\frac{1}{\\pi}\\text{arctan}(x_i^T \\beta) + \\frac{1}{2} $$ \n",
        "\n",
        "\n",
        "**Complementary log-log (cloglog) function:**\n",
        "\n",
        "The inverse of the conditional log-log function (CDF of the Gumbel distribution)\n",
        "\n",
        "$$\\pi_i = 1 − e^{-e^{x_i^T \\beta}}$$\n",
        "\n",
        "The counter part of the cloglog function is log-log link function."
      ]
    },
    {
      "cell_type": "code",
      "metadata": {
        "id": "Jv5SOQ0TUHT7"
      },
      "source": [
        "library(tidyverse)\n",
        "install.packages(\"latex2exp\")\n",
        "library(latex2exp)\n",
        "\n",
        "#library(Matrix)\n",
        "#library(MASS)"
      ],
      "execution_count": null,
      "outputs": []
    },
    {
      "cell_type": "code",
      "metadata": {
        "id": "Kuwb1LB6l7XU"
      },
      "source": [
        "map(c(\"logit\", \"probit\", \"cauchit\", \"cloglog\"),  make.link) %>%\n",
        "map_df(\n",
        "  function(link) {\n",
        "    tibble(x = seq(-5, 5, length.out = 101),\n",
        "           y = link$linkinv(x),\n",
        "           link_name = link$name)\n",
        "  }\n",
        "  ) %>%\n",
        "  ggplot(aes(x = x, y = y, colour = link_name)) +\n",
        "  geom_line()+\n",
        "  ylab(TeX(\"$\\\\pi_i$\"))+\n",
        "  xlab(TeX(\"$x_i^T \\\\beta$\"))"
      ],
      "execution_count": null,
      "outputs": []
    },
    {
      "cell_type": "markdown",
      "metadata": {
        "id": "dnlQ4vEGYGOH"
      },
      "source": [
        "## Logistic regression with Titanic dataset\n",
        "\n",
        "https://www.kaggle.com/c/titanic/data\n",
        "\n",
        "| Variable |                 Definition                 |                       Key                      |\n",
        "|:--------:|:------------------------------------------:|:----------------------------------------------:|\n",
        "| survival | Survival                                   | 0 = No, 1 = Yes                                |\n",
        "| pclass   | Ticket class                               | 1 = 1st, 2 = 2nd, 3 = 3rd                      |\n",
        "| sex      | Sex                                        |                                                |\n",
        "| Age      | Age in years                               |                                                |\n",
        "| sibsp    | # of siblings / spouses aboard the Titanic |                                                |\n",
        "| parch    | # of parents / children aboard the Titanic |                                                |\n",
        "| ticket   | Ticket number                              |                                                |\n",
        "| fare     | Passenger fare                             |                                                |\n",
        "| cabin    | Cabin number                               |                                                |\n",
        "| embarked | Port of Embarkation                        | C = Cherbourg, Q = Queenstown, S = Southampton |"
      ]
    },
    {
      "cell_type": "code",
      "metadata": {
        "id": "VxBIs-aDYMxd"
      },
      "source": [
        "install.packages(\"titanic\")\n",
        "library(titanic)\n",
        "knitr::kable(summary(titanic_train))"
      ],
      "execution_count": null,
      "outputs": []
    },
    {
      "cell_type": "code",
      "metadata": {
        "id": "AfwAohjgfMvg"
      },
      "source": [
        "knitr::kable(summary(titanic_test))"
      ],
      "execution_count": null,
      "outputs": []
    },
    {
      "cell_type": "code",
      "metadata": {
        "id": "A6mYQYtd3EW_"
      },
      "source": [
        ""
      ],
      "execution_count": null,
      "outputs": []
    },
    {
      "cell_type": "markdown",
      "metadata": {
        "id": "v4KddgL4vP3f"
      },
      "source": [
        "# Fast and furios solution of the HW from the previous Ex07\n",
        "\n",
        "Consider a model with continuos variables `age`, `fare`, and any factor variable. \n",
        "\n",
        "* Create factor `age`, which takes values 1 (child) and 0 (adult).\n",
        "* Create factor from varaible `fare` by spliting into 10 groups with approx same number of observations.\n",
        "* What percentage is the chance of survival lower for adult compare to child? \n",
        "* Depends the probability of survival on fare? Test it.\n",
        "* Assume that the chance of survival increases with exponential increasig fare. How the chance of survival increased if the person spent an extra 10 pound for a ticket? \n",
        "* Build a model where the probabilty of survival depends on both `age` and `fare`. Are both covariates significant?\n",
        "* "
      ]
    },
    {
      "cell_type": "code",
      "metadata": {
        "id": "evtbuvpla6W8"
      },
      "source": [
        "? quantile"
      ],
      "execution_count": null,
      "outputs": []
    },
    {
      "cell_type": "code",
      "metadata": {
        "id": "ZtEboSVjZ-wD"
      },
      "source": [
        "data_HW <- titanic_train %>%\n",
        "  dplyr::select(Survived,Age,Fare,Pclass,Sex,Embarked)\n",
        "\n",
        "data_HW %>% mutate_if(is.character,as.factor) %>% summary() %>%  knitr::kable()\n",
        "\n",
        "data_HW <- data_HW %>%\n",
        "  filter(Embarked %in% c(\"C\",\"Q\",\"S\")) %>%\n",
        "  transmute(survived = as.factor(Survived),\n",
        "            survived_num = Survived,\n",
        "            age  = cut(Age, breaks=c(-Inf, 16, Inf), labels=c(\"child\",\"adult\")),\n",
        "            age_num = Age,\n",
        "            fare = Fare,\n",
        "            fare_quantile = ntile(Fare, 8),\n",
        "            fare_quantile2 = cut(Fare, quantile(Fare, prob = seq(0,1,length = 9), type = 8)), \n",
        "            class = as.factor(Pclass),\n",
        "            sex = as.factor(Sex),\n",
        "            embarked = as.factor(Embarked)) %>%\n",
        "  drop_na()          \n",
        "\n",
        "data_HW %>% summary() %>%  knitr::kable()       \n",
        "str(data_HW)\n"
      ],
      "execution_count": null,
      "outputs": []
    },
    {
      "cell_type": "code",
      "metadata": {
        "id": "UT2_FST2eRRX"
      },
      "source": [
        "install.packages(\"GGally\")\n",
        "library(GGally)\n",
        "options(repr.plot.width=16, repr.plot.height=12)\n",
        "ggpairs(data_HW)"
      ],
      "execution_count": null,
      "outputs": []
    },
    {
      "cell_type": "code",
      "metadata": {
        "id": "5-BI4OLoxaBT"
      },
      "source": [
        "# Simple Logistic Regression model with all discrete covariates fare,sex, agewithout interactions\n",
        "mod_HW1=glm(survived~age+sex+fare_quantile2,family=binomial(link = \"logit\"),data_HW) #\n",
        "summary(mod_HW1)"
      ],
      "execution_count": null,
      "outputs": []
    },
    {
      "cell_type": "code",
      "metadata": {
        "id": "rkW40xpk6Ysr"
      },
      "source": [
        "#Function to estimate OR with lower and upper limit of 95% CI for OR\n",
        "OR_coef <- function(variable,model,CI){\n",
        "  param <- coef(model)\n",
        "  where <- grep(variable,names(param))[1]\n",
        "  beta  <- param[where]\n",
        "  se <- summary(model)$coef[where,2]\n",
        "  or <- exp(beta)\n",
        "  ci <- exp(beta+c(-1,1)*qnorm(CI/2+0.5)*se)\n",
        "  out <- data.frame(ci[1],or, ci[2])\n",
        "  names(out) <- c(\"LCL\",\"OR\",\"UCL\")\n",
        "  out\n",
        "}\n",
        "OR_coef(\"age\",mod_HW1,0.95)"
      ],
      "execution_count": null,
      "outputs": []
    },
    {
      "cell_type": "markdown",
      "metadata": {
        "id": "lTedw3KV5ASe"
      },
      "source": [
        "The chances of drowning were almost twice as high in the group of adults as in the group of children. "
      ]
    },
    {
      "cell_type": "code",
      "metadata": {
        "id": "tY9zl_bg6MiD"
      },
      "source": [
        "# Check model with factorized Fare\n",
        "mod_HW0=glm(survived~age+sex,family=binomial(link = \"logit\"),data_HW) #\n",
        "mod_HW1=glm(survived~age+sex+fare_quantile2,family=binomial(link = \"logit\"),data_HW) #\n",
        "mod_HW2=glm(survived~age+sex+fare,family=binomial(link = \"logit\"),data_HW) #\n",
        "summary(mod_HW1)\n"
      ],
      "execution_count": null,
      "outputs": []
    },
    {
      "cell_type": "markdown",
      "metadata": {
        "id": "T30L1viF7Q-S"
      },
      "source": [
        "Yes, covariate `fare` is statisticaly significant in the model. But it's better to test it with Deviation test (LRT) compare to Wald tests from summary() function."
      ]
    },
    {
      "cell_type": "code",
      "source": [
        "anova(mod_HW1,mod_HW0,test=\"Chisq\")\n",
        "drop1(mod_HW1,test=\"Chisq\")"
      ],
      "metadata": {
        "id": "VyMp7aHXKJfo"
      },
      "execution_count": null,
      "outputs": []
    },
    {
      "cell_type": "markdown",
      "source": [
        "Confirmed."
      ],
      "metadata": {
        "id": "B1HsxUawKTm0"
      }
    },
    {
      "cell_type": "code",
      "metadata": {
        "id": "oRepJ3yu69GW"
      },
      "source": [
        "# Fare as continuous variable\n",
        "mod_HW3=glm(survived~I(fare/10),family=binomial(link = \"logit\"),data_HW) #\n",
        "\n",
        "mod_HW4=glm(survived~I(fare/10)+sex+age,family=binomial(link = \"logit\"),data_HW) #\n",
        "#summary(mod_HW4)\n",
        "exp(coef(mod_HW3))\n",
        "exp(coef(mod_HW4))"
      ],
      "execution_count": null,
      "outputs": []
    },
    {
      "cell_type": "markdown",
      "metadata": {
        "id": "NIPQPETQ9VW3"
      },
      "source": [
        "The chance of survival increased by 12.9% with the ticket price 10 pounds higher.\n",
        "\n",
        "Question: What can you say about Causality? Does a higher price result in a greater chance of survival?\n",
        "\n"
      ]
    },
    {
      "cell_type": "code",
      "metadata": {
        "id": "YBtFn99v-a1l"
      },
      "source": [
        "# Model without sex variable\n",
        "mod_HW5=glm(survived~I(fare/10)+I(age_num/10),family=binomial(link = \"logit\"),data_HW) #\n",
        "summary(mod_HW5)"
      ],
      "execution_count": null,
      "outputs": []
    },
    {
      "cell_type": "markdown",
      "metadata": {
        "id": "TsI7nUG5A_EU"
      },
      "source": [
        "## Binomial data approach"
      ]
    },
    {
      "cell_type": "code",
      "metadata": {
        "id": "OvPH1Bk_cKws"
      },
      "source": [
        "#data_HW"
      ],
      "execution_count": null,
      "outputs": []
    },
    {
      "cell_type": "code",
      "metadata": {
        "id": "d3XCOTx6BHsU"
      },
      "source": [
        "data_HW_bin <- data_HW %>%\n",
        "  group_by(sex,age,fare_quantile2) %>%\n",
        "  summarise(n = n(),\n",
        "         m = sum(survived_num)\n",
        "        )\n",
        " data_HW_bin        "
      ],
      "execution_count": null,
      "outputs": []
    },
    {
      "cell_type": "markdown",
      "metadata": {
        "id": "SK0WpYLlfm_e"
      },
      "source": [
        "### Some additional questions "
      ]
    },
    {
      "cell_type": "markdown",
      "metadata": {
        "id": "2ylHJMd-oa-G"
      },
      "source": [
        "**Estimate** null model and compare obtained probality of survived with estimated probability from survived-not survived ratio."
      ]
    },
    {
      "cell_type": "code",
      "metadata": {
        "id": "Ehy03B2vfl0N"
      },
      "source": [
        "mod_0 = glm(cbind(m,n-m)~1,family=binomial(link=\"logit\"),data = data_HW_bin)\n",
        "#summary(mod_0)\n",
        "invlogit = function(x) return(exp(x)/(1+exp(x))) # inverse logit function\n",
        "p0_model = invlogit(coef(mod_0))\n",
        "\n",
        "# Probability of survive\n",
        "p0_stat = sum(data_HW_bin$m)/sum(data_HW_bin$n)\n",
        "print(cbind(p0_model,p0_stat))\n",
        "\n",
        "# Chance of survive\n",
        "exp(coef(mod_0))\n",
        "p0_stat/(1-p0_stat)"
      ],
      "execution_count": null,
      "outputs": []
    },
    {
      "cell_type": "markdown",
      "metadata": {
        "id": "0iIY61MRpCYf"
      },
      "source": [
        "Estimate model with one covariate factorized `fare` and compare OR computed directly from estimated regression coefficient with OR compputed from probabilities of survived for each group."
      ]
    },
    {
      "cell_type": "code",
      "metadata": {
        "id": "0OUqDr3ThQyJ"
      },
      "source": [
        "mod_fare = glm(cbind(m,n-m)~fare_quantile2,family=binomial(link=\"logit\"),data = data_HW_bin)\n",
        "#summary(mod_fare)\n",
        "anova(mod_fare,mod_0,test=\"Chisq\") \n",
        "# Fare price is highly significant in the model.\n",
        "exp(coef(mod_fare)) %>% knitr::kable()\n",
        "\n",
        "\n"
      ],
      "execution_count": null,
      "outputs": []
    },
    {
      "cell_type": "markdown",
      "source": [
        "Question: Assume you spent 25 pounds for a ticket. What is your chance to survive compare to someone who spent only 5 pounds?"
      ],
      "metadata": {
        "id": "TALfAE7YM7Ei"
      }
    },
    {
      "cell_type": "code",
      "source": [
        "# Compute probability of survival:\n",
        "invlogit(coef(mod_fare)[1]) \n",
        "invlogit(coef(mod_fare)[1]+coef(mod_fare)[-1]) %>% knitr::kable()\n"
      ],
      "metadata": {
        "id": "a_Y18QCbMf7o"
      },
      "execution_count": null,
      "outputs": []
    },
    {
      "cell_type": "code",
      "metadata": {
        "id": "fCwisWk0iOp1"
      },
      "source": [
        "# Check: odds ratio computed by hands.\n",
        "Pr_1<- (invlogit(coef(mod_fare)[1]))\n",
        "Pr_8 <- (invlogit(coef(mod_fare)[1] +coef(mod_fare)[8]))\n",
        "\n",
        "OR_1 <- Pr_1/(1-Pr_1)\n",
        "OR_8 <- Pr_8/(1-Pr_8)\n",
        "OR_8/OR_1\n",
        "(exp(coef(mod_fare)[8]) == OR_8/OR_1)\n"
      ],
      "execution_count": null,
      "outputs": []
    },
    {
      "cell_type": "markdown",
      "metadata": {
        "id": "KmSHzexSuPcQ"
      },
      "source": [
        "**Estimate saturated model**\n",
        "\n",
        "If we have  fixed number of parameters,  saturated model obtain every  \"observation\" and residual deviance of this saturated model is \"zero\". \n"
      ]
    },
    {
      "cell_type": "code",
      "metadata": {
        "id": "-W1s8tr0Adyc"
      },
      "source": [
        "mod_HW_sat=glm(cbind(m,n-m)~fare_quantile2*age*sex,family=binomial(link = \"logit\"),data_HW_bin) #\n",
        "summary(mod_HW_sat)"
      ],
      "execution_count": null,
      "outputs": []
    },
    {
      "cell_type": "markdown",
      "metadata": {
        "id": "CchPO_1oFoij"
      },
      "source": [
        "\n",
        "We can test other models against saturated one."
      ]
    },
    {
      "cell_type": "code",
      "metadata": {
        "id": "2G4T-YwJFnHd"
      },
      "source": [
        "mod_HW_bin1=glm(cbind(m,n-m)~fare_quantile2+age+sex,family=binomial(link = \"logit\"),data_HW_bin) #\n",
        "summary(mod_HW_bin1)"
      ],
      "execution_count": null,
      "outputs": []
    },
    {
      "cell_type": "code",
      "metadata": {
        "id": "XsqLCkGnGSj6"
      },
      "source": [
        "drop1(mod_HW_sat, test=\"Chisq\")\n",
        "anova(mod_HW_sat,mod_HW_bin1, test=\"Chisq\")\n"
      ],
      "execution_count": null,
      "outputs": []
    },
    {
      "cell_type": "markdown",
      "metadata": {
        "id": "_redlhPCHH0J"
      },
      "source": [
        "## Question:\n",
        "* How do you interpret previous result?\n",
        "* Is simplier aditive model without interactions good enough?"
      ]
    },
    {
      "cell_type": "code",
      "metadata": {
        "id": "qmEvNZN5HG69"
      },
      "source": [
        ""
      ],
      "execution_count": null,
      "outputs": []
    },
    {
      "cell_type": "markdown",
      "metadata": {
        "id": "EnmxNtfiu2lK"
      },
      "source": [
        "## Residual analysis"
      ]
    },
    {
      "cell_type": "code",
      "metadata": {
        "id": "XgUrBZH4v5dJ"
      },
      "source": [
        "# start with simple model\n",
        "\n",
        "mod_1=glm(survived~age_num+sex+class,family=binomial(link = \"logit\"),data_HW) #\n",
        "summary(mod_1)\n",
        "\n",
        "#mod_1=glm(survived~sex +fare,family=binomial(link = \"logit\"),data_HW) #\n",
        "#summary(mod_1)\n"
      ],
      "execution_count": null,
      "outputs": []
    },
    {
      "cell_type": "code",
      "metadata": {
        "id": "bCWKf4lfwas4"
      },
      "source": [
        "res_resp <- residuals(mod_1, type=\"response\")\n",
        "res_work <- residuals(mod_1, type=\"working\")\n",
        "res_pear <- residuals(mod_1, type=\"pearson\")\n",
        "#cbind(res_resp,res_work,res_pear)"
      ],
      "execution_count": null,
      "outputs": []
    },
    {
      "cell_type": "markdown",
      "metadata": {
        "id": "mBrkKrII_aa_"
      },
      "source": [
        "By default, residuals.glm defaults to `type=\"deviance\"`. A perfect fit of a datapoint (which never occurs) gives a deviance of zero as \"log(1) =0\". A poorly fitting point has a large residual deviance."
      ]
    },
    {
      "cell_type": "code",
      "metadata": {
        "id": "h7JWKBk4yuRF"
      },
      "source": [
        "par(mfrow=c(1,2))\n",
        "plot(mod_1)"
      ],
      "execution_count": null,
      "outputs": []
    },
    {
      "cell_type": "markdown",
      "metadata": {
        "id": "tYsJUO9wAb1E"
      },
      "source": [
        "All plots look funny. What do you think, is there any problem in the model?"
      ]
    },
    {
      "cell_type": "markdown",
      "metadata": {
        "id": "pfM3W9zGA_0p"
      },
      "source": [
        "\n",
        "* The **Residuals vs Fitted** plot can help you see, for example, if there are curvilinear trends that you missed. But the fit of a logistic regression is curvilinear by nature, so you can have odd looking trends in the residuals with nothing amiss.\n",
        "* The **Normal Q-Q** plot helps you detect if your residuals are normally distributed. But the deviance residuals don't have to be normally distributed for the model to be valid, so the normality / non-normality of the residuals doesn't necessarily tell you anything.\n",
        "* The **Scale-Location** plot can help you identify heteroscedasticity. But logistic regression models are pretty much heteroscedastic by nature.\n",
        "* The **Residuals vs Leverage** can help you identify possible outliers. But outliers in logistic regression don't necessarily manifest in the same way as in linear regression, so this plot may or may not be helpful in identifying them.\n",
        "\n",
        "source:https://stats.stackexchange.com/questions/121490/interpretation-of-plot-glm-model\n"
      ]
    },
    {
      "cell_type": "code",
      "metadata": {
        "id": "j7BG0M8YyuUJ"
      },
      "source": [
        "plot(mod_1,which=1)"
      ],
      "execution_count": null,
      "outputs": []
    },
    {
      "cell_type": "code",
      "metadata": {
        "id": "gD6A7ebJyuW7"
      },
      "source": [
        "plot(data_HW$age_num,residuals(mod_1),col=c(\"blue\",\"red\")[1+data_HW$survived_num])\n",
        "lines(lowess(data_HW$age_num,residuals(mod_1)),col=\"black\",lwd=2)\n",
        "lines(lowess(data_HW$age_num[data_HW$survived_num==0],residuals(mod_1)[data_HW$survived_num==0]),col=\"blue\")\n",
        "lines(lowess(data_HW$age_num[data_HW$survived_num==1],residuals(mod_1)[data_HW$survived_num==1]),col=\"red\")\n",
        "abline(h=0,lty=2,col=\"grey\")"
      ],
      "execution_count": null,
      "outputs": []
    },
    {
      "cell_type": "code",
      "metadata": {
        "id": "8gEexODqyuZw"
      },
      "source": [
        ""
      ],
      "execution_count": null,
      "outputs": []
    },
    {
      "cell_type": "code",
      "metadata": {
        "id": "699nkaZ2yucr"
      },
      "source": [
        "data_HW_mod <- data_HW %>%\n",
        "  mutate(fitted = mod_1$fitted.values,\n",
        "         #fitted = predict(mod_1, newdata = data_HW, type = \"response\"),\n",
        "         predict = as.factor(ifelse(fitted > 0.5, \"1\", \"0\")),\n",
        "         r_deviance_std =rstandard(mod_1, type = \"deviance\"),\n",
        "         r_pearson_std = rstandard(mod_1, type = \"pearson\") )\n",
        "head(data_HW_mod)"
      ],
      "execution_count": null,
      "outputs": []
    },
    {
      "cell_type": "code",
      "source": [
        ""
      ],
      "metadata": {
        "id": "LdOeCOC-Puzf"
      },
      "execution_count": null,
      "outputs": []
    },
    {
      "cell_type": "code",
      "metadata": {
        "id": "MvxzoUKoyuia"
      },
      "source": [
        "library(ggplot2)\n",
        "install.packages(\"gridExtra\")\n",
        "library(gridExtra)\n",
        "\n",
        "p1 <- ggplot(data_HW_mod, aes(x = age_num,y = fitted, color = sex, shape = class)) + \n",
        "      geom_point() \n",
        "p2 <- ggplot(data_HW_mod, aes(x = age_num,y = r_deviance_std, color = sex, shape = class)) + \n",
        "      geom_point() \n",
        "grid.arrange(p1, p2, nrow = 1)"
      ],
      "execution_count": null,
      "outputs": []
    },
    {
      "cell_type": "code",
      "metadata": {
        "id": "4MVktHiqyuk9"
      },
      "source": [
        "p1 <- ggplot(data_HW_mod, aes(x = age_num,y = fitted, color = survived)) + \n",
        "      geom_point() \n",
        "p2 <- ggplot(data_HW_mod, aes(x = age_num,y = r_deviance_std, color = survived)) + \n",
        "      geom_point() \n",
        "grid.arrange(p1, p2, nrow = 1)"
      ],
      "execution_count": null,
      "outputs": []
    },
    {
      "cell_type": "code",
      "metadata": {
        "id": "7Uydx4Gbyuou"
      },
      "source": [
        ""
      ],
      "execution_count": null,
      "outputs": []
    },
    {
      "cell_type": "code",
      "metadata": {
        "id": "FvbwSkYS9jIQ"
      },
      "source": [
        ""
      ],
      "execution_count": null,
      "outputs": []
    },
    {
      "cell_type": "markdown",
      "metadata": {
        "id": "B8A_m1M7GHfc"
      },
      "source": [
        "## Post hoc analysis by quality of fitted values"
      ]
    },
    {
      "cell_type": "code",
      "metadata": {
        "id": "B1y5b5Sc9jLe"
      },
      "source": [
        "# Fit a  model\n",
        "table(data_HW_mod$predict, data_HW$survived)"
      ],
      "execution_count": null,
      "outputs": []
    },
    {
      "cell_type": "code",
      "metadata": {
        "id": "ipcId_Ol9jOY"
      },
      "source": [
        "install.packages(\"caret\")\n",
        "library(caret)\n",
        "install.packages(\"e1071\")\n",
        "library(e1071)\n",
        "install.packages(\"tidymodels\")\n",
        "library(tidymodels)\n",
        " "
      ],
      "execution_count": null,
      "outputs": []
    },
    {
      "cell_type": "code",
      "metadata": {
        "id": "f0VMvxaaCIkV"
      },
      "source": [
        "confusionMatrix(data_HW_mod$predict, data_HW_mod$survived, positive = \"1\")"
      ],
      "execution_count": null,
      "outputs": []
    },
    {
      "cell_type": "code",
      "metadata": {
        "id": "JbXyE9byGQ13"
      },
      "source": [
        "ggplot(data_HW_mod, aes(x=fitted, color=survived)) +\n",
        "  geom_histogram(fill=\"white\",aes(y=..density..), alpha=0.1, position=\"identity\") +\n",
        "   geom_density(aes(y=..density..))\n",
        "\n",
        "# Overlaid histograms\n",
        "#ggplot(df, aes(x=weight, color=sex)) +\n",
        "#  geom_histogram(fill=\"white\", alpha=0.5, position=\"identity\")"
      ],
      "execution_count": null,
      "outputs": []
    },
    {
      "cell_type": "code",
      "metadata": {
        "id": "82ROBD5ICInN"
      },
      "source": [
        "data_HW_mod <- data_HW_mod %>%\n",
        "  mutate(predict_04 = as.factor(ifelse(fitted > 0.4, \"1\", \"0\")) )\n",
        "head(data_HW_mod)\n",
        "confusionMatrix(data_HW_mod$predict_04, data_HW_mod$survived, positive = \"1\")"
      ],
      "execution_count": null,
      "outputs": []
    },
    {
      "cell_type": "code",
      "metadata": {
        "id": "rcvHrJ61CIqv"
      },
      "source": [
        "(332+232)/(332 + 55 + + 86 + 232) # Accuracy from Confusion Matrix"
      ],
      "execution_count": null,
      "outputs": []
    },
    {
      "cell_type": "code",
      "metadata": {
        "id": "AbXPDa5L9jTc"
      },
      "source": [
        ""
      ],
      "execution_count": null,
      "outputs": []
    },
    {
      "cell_type": "markdown",
      "metadata": {
        "id": "8HDo1IxQLGxd"
      },
      "source": [
        "## Use test data"
      ]
    },
    {
      "cell_type": "code",
      "metadata": {
        "id": "DPguRPRVLpIw"
      },
      "source": [
        "head(titanic_test)"
      ],
      "execution_count": null,
      "outputs": []
    },
    {
      "cell_type": "code",
      "metadata": {
        "id": "AumkO643J2nz"
      },
      "source": [
        "data_test <- titanic_test %>%\n",
        "  dplyr::select(Age,Fare,Pclass,Sex,Embarked) %>%\n",
        "  filter(Embarked %in% c(\"C\",\"Q\",\"S\")) %>%\n",
        "  drop_na %>%\n",
        "  transmute(age  = cut(Age, breaks=c(-Inf, 16, Inf), labels=c(\"child\",\"adult\")),\n",
        "            age_num = Age,\n",
        "            fare = Fare,\n",
        "            fare_quantile = ntile(Fare, 8),\n",
        "            fare_quantile2 = cut(Fare, quantile(Fare, prob = seq(0,1,length = 9), type = 8)), \n",
        "            class = as.factor(Pclass),\n",
        "            sex = as.factor(Sex),\n",
        "            embarked = as.factor(Embarked)) %>%\n",
        "  drop_na \n",
        "  summary(data_test)"
      ],
      "execution_count": null,
      "outputs": []
    },
    {
      "cell_type": "code",
      "metadata": {
        "id": "eyl9UkO3J2tU"
      },
      "source": [
        ""
      ],
      "execution_count": null,
      "outputs": []
    },
    {
      "cell_type": "code",
      "metadata": {
        "id": "WjptemJqJ2qp"
      },
      "source": [
        "## Plot train\n",
        "\n",
        "data_test <- data_test %>%\n",
        "  mutate(fitted = predict(mod_1, newdata = data_test, type = \"response\"),\n",
        "         predict = as.factor(ifelse(fitted > 0.5, \"1\", \"0\")) ) %>%\n",
        "         arrange(age_num)\n",
        "head(data_test)\n",
        "\n",
        "\n",
        "plt <- ggplot(data_test, aes(x = age_num, y = fitted, colour = sex:class)) +\n",
        "    geom_line() +\n",
        "    geom_rug(aes(y = survived_num, colour = survived), data = data_HW_mod) +\n",
        "    #scale_colour_discrete(name = 'Survived') +\n",
        "    labs(x = 'Age', y = 'Probability of survived')\n",
        "plt\n",
        "\n"
      ],
      "execution_count": null,
      "outputs": []
    },
    {
      "cell_type": "code",
      "metadata": {
        "id": "6fsoPecdQRVj"
      },
      "source": [
        "data_test_select <- data_test %>%\n",
        "  dplyr::filter(sex == \"male\",\n",
        "               class == \"2\")\n",
        "\n",
        "plt <- ggplot(data_test_select, aes(x = age_num, y = fitted)) +\n",
        "    geom_line() +\n",
        "    geom_rug(aes(y = survived_num, colour = survived), data = data_HW_mod) +\n",
        "    #scale_colour_discrete(name = 'Survived') +\n",
        "    labs(x = 'Age', y = 'Probability of survived')\n",
        "plt\n"
      ],
      "execution_count": null,
      "outputs": []
    },
    {
      "cell_type": "markdown",
      "metadata": {
        "id": "Y9jQj8n4Qs3G"
      },
      "source": [
        "Wrong way to plot confidence interval"
      ]
    },
    {
      "cell_type": "code",
      "metadata": {
        "id": "uuy1Yd6jVYKI"
      },
      "source": [
        "#plt <- ggplot(data_test, aes(x = age_num, y = fitted, colour = sex:class)) +\n",
        "#    geom_line() +\n",
        "#    geom_rug(aes(y = survived_num, colour = survived), data = data_HW_mod) +\n",
        "#    #scale_colour_discrete(name = 'Survived') +\n",
        "#    labs(x = 'Age', y = 'Probability of survived')\n",
        "#plt"
      ],
      "execution_count": null,
      "outputs": []
    },
    {
      "cell_type": "code",
      "metadata": {
        "id": "eTmmVknMJ2v-"
      },
      "source": [
        "## add standard errors and compute a 95% interval the wrong way\n",
        "data_test_select <- data_test_select %>%\n",
        "  mutate(wrong_se = predict(mod_1, newdata = data_test_select, type = 'response',se.fit = TRUE)$se.fit,\n",
        "         wrong_upr = fitted + (2 * wrong_se),\n",
        "         wrong_lwr = fitted - (2 * wrong_se))\n",
        "\n",
        "plt + geom_ribbon(data = data_test_select, aes(ymin = wrong_lwr, ymax = wrong_upr),\n",
        "                  alpha = 0.1)\n",
        "\n",
        "\n"
      ],
      "execution_count": null,
      "outputs": []
    },
    {
      "cell_type": "code",
      "metadata": {
        "id": "7shmtwpQJ2yc"
      },
      "source": [
        ""
      ],
      "execution_count": null,
      "outputs": []
    },
    {
      "cell_type": "markdown",
      "metadata": {
        "id": "kKOeZKUDR_2T"
      },
      "source": [
        "Right way"
      ]
    },
    {
      "cell_type": "code",
      "metadata": {
        "id": "wAQ0XDOiSpVk"
      },
      "source": [
        "#predict(mod_1, data_test_select, se.fit = TRUE)\n"
      ],
      "execution_count": null,
      "outputs": []
    },
    {
      "cell_type": "code",
      "metadata": {
        "id": "Ocg3o-RhJ21V"
      },
      "source": [
        "ilink <- family(mod_1)$linkinv\n",
        "quant_t <- qt(0.025, df = df.residual(mod_1), lower.tail = FALSE)\n",
        "quant_n <- qnorm(0.005, lower.tail = FALSE)\n",
        "## add fit and se.fit on the **link** scale\n",
        "data_test_select <- data_test_select %>%\n",
        "   mutate(fit_link = predict(mod_1, data_test_select, se.fit = TRUE)$fit,\n",
        "          se_link  = predict(mod_1, data_test_select, se.fit = TRUE)$se.fit,\n",
        "          fit  = ilink(fit_link),\n",
        "          fit_ul = ilink(fit_link + (quant_n * se_link)),\n",
        "          fit_ll = ilink(fit_link - (quant_n * se_link)))\n",
        "## show\n",
        "head(data_test_select)\n",
        "\n",
        "plt + geom_ribbon(data = data_test_select,\n",
        "                  aes(ymin = fit_ll, ymax = fit_ul),\n",
        "                  alpha = 0.1)\n",
        "\n"
      ],
      "execution_count": null,
      "outputs": []
    },
    {
      "cell_type": "code",
      "metadata": {
        "id": "2uC0XLPVSCIJ"
      },
      "source": [
        ""
      ],
      "execution_count": null,
      "outputs": []
    },
    {
      "cell_type": "code",
      "metadata": {
        "id": "7e2Q3iN_SCLK"
      },
      "source": [
        ""
      ],
      "execution_count": null,
      "outputs": []
    },
    {
      "cell_type": "markdown",
      "metadata": {
        "id": "btwAWoSYZOUX"
      },
      "source": [
        "Binary classification"
      ]
    },
    {
      "cell_type": "markdown",
      "metadata": {
        "id": "87o4YqSPZSOc"
      },
      "source": [
        "https://en.wikipedia.org/wiki/Binary_classification\n",
        "\n",
        "https://en.wikipedia.org/wiki/Sensitivity_and_specificity\n",
        "\n",
        "https://en.wikipedia.org/wiki/Receiver_operating_characteristic\n",
        "\n"
      ]
    },
    {
      "cell_type": "markdown",
      "metadata": {
        "id": "M2qBbWteZdBj"
      },
      "source": [
        "In R many different packages:\n",
        "\n",
        "https://rviews.rstudio.com/2019/03/01/some-r-packages-for-roc-curves/\n",
        "\n",
        "https://cran.r-project.org/web/packages/ROCit/index.html\n",
        "\n",
        "https://cran.r-project.org/web/packages/pROC/index.html\n",
        "\n",
        "https://cran.r-project.org/web/packages/ROCR/"
      ]
    },
    {
      "cell_type": "code",
      "metadata": {
        "id": "bKZ3Ug3HSCNq"
      },
      "source": [
        "install.packages(\"pROC\")\n",
        "library(pROC)"
      ],
      "execution_count": null,
      "outputs": []
    },
    {
      "cell_type": "markdown",
      "metadata": {
        "id": "Li1Kkmp5cUm5"
      },
      "source": [
        "Intro with pROC: https://rpubs.com/Wangzf/pROC"
      ]
    },
    {
      "cell_type": "code",
      "metadata": {
        "id": "XLe_aF7_SCQp"
      },
      "source": [
        "plot.roc(data_HW_mod$survived, data_HW_mod$fitted,          # data\n",
        "         percent = TRUE,                    # show all values in percent\n",
        "         #partial.auc=c(100, 90), \n",
        "         #partial.auc.correct=True,          # define a partial AUC (pAUC)\n",
        "         print.auc=TRUE,                    \n",
        "         #display pAUC value on the plot with following options:\n",
        "         #print.auc.pattern = \"Corrected pAUC (100-90%% SP):\\n%.1f%%\",\n",
        "         #print.auc.col = \"#1c61b6\",\n",
        "         #auc.polygon = TRUE, \n",
        "         #auc.polygon.col = \"#1c61b6\",       # show pAUC as a polygon\n",
        "         #max.auc.polygon = TRUE, \n",
        "         #max.auc.polygon.col = \"#1c61b622\", # also show the 100% polygon\n",
        "         main = \"Partial AUC (pAUC)\")\n",
        "\n"
      ],
      "execution_count": null,
      "outputs": []
    },
    {
      "cell_type": "code",
      "metadata": {
        "id": "ZqVP5s9DbnqN"
      },
      "source": [
        "plot.roc(data_HW_mod$survived, data_HW_mod$fitted,          # data\n",
        "         percent = TRUE,                    # show all values in percent\n",
        "         partial.auc=c(100, 90), \n",
        "         partial.auc.correct=TRUE,          # define a partial AUC (pAUC)\n",
        "         print.auc=TRUE,                    \n",
        "         #display pAUC value on the plot with following options:\n",
        "         print.auc.pattern = \"Corrected pAUC (100-90%% SP):\\n%.1f%%\",\n",
        "         print.auc.col = \"#1c61b6\",\n",
        "         auc.polygon = TRUE, \n",
        "         auc.polygon.col = \"#1c61b6\",       # show pAUC as a polygon\n",
        "         max.auc.polygon = TRUE, \n",
        "         max.auc.polygon.col = \"#1c61b622\", # also show the 100% polygon\n",
        "         main = \"Partial AUC (pAUC)\")\n",
        "plot.roc(data_HW_mod$survived, data_HW_mod$fitted,\n",
        "         percent = TRUE, \n",
        "         add = TRUE, \n",
        "         type = \"n\",                        # add to plot, but don't re-add the ROC itself (useless)\n",
        "         partial.auc = c(100, 90), \n",
        "         partial.auc.correct = TRUE,\n",
        "         partial.auc.focus = \"se\",          # focus pAUC on the sensitivity\n",
        "         print.auc = TRUE, \n",
        "         print.auc.pattern = \"Corrected pAUC (100-90%% SE):\\n%.1f%%\", \n",
        "         print.auc.col = \"#008600\",\n",
        "         print.auc.y = 40,                  # do not print auc over the previous one\n",
        "         auc.polygon = TRUE, \n",
        "         auc.polygon.col = \"#008600\",\n",
        "         max.auc.polygon = TRUE, \n",
        "         max.auc.polygon.col = \"#00860022\")"
      ],
      "execution_count": null,
      "outputs": []
    },
    {
      "cell_type": "code",
      "metadata": {
        "id": "Z6qGXKSpvLFH"
      },
      "source": [
        "install.packages(\"ROCR\")\n",
        "library(ROCR)\n",
        "pr <- prediction(data_HW_mod$fitted, data_HW_mod$survived)\n",
        "prf <- performance(pr, measure = \"tpr\", x.measure = \"fpr\")\n",
        "plot(prf)\n",
        "#? performance\n",
        "auc <- performance(pr, measure = \"auc\")\n",
        "auc <- auc@y.values[[1]]\n",
        "auc"
      ],
      "execution_count": null,
      "outputs": []
    },
    {
      "cell_type": "code",
      "metadata": {
        "id": "5FEIj8REhxZt"
      },
      "source": [
        ""
      ],
      "execution_count": null,
      "outputs": []
    },
    {
      "cell_type": "markdown",
      "metadata": {
        "id": "76UBUNIMcthh"
      },
      "source": [
        "## Your Turn :\n",
        "\n",
        "* Compute a new variable `nrelatives = sibsp + parch`\n",
        "* Fit model with this new variable (you can try use it as continuous or as factor (change levels)) and `sex, age, fare, class, embarked`\n",
        "* Try to use `step` function to find the \"best\" model.\n",
        "* Validate the model. Are all variables significant? If you have any numerical variable, does it need any transformation?\n",
        "* Plot densities of fitted probabilities for survived/not survived and choose optimal threshold.\n",
        "* Compute the confusion matrix and basic statistics and compare results of your model with model mod_1\n",
        "* Plot ROC curve of your model together with ROC curve of mod_1. Which one has larger AUC."
      ]
    },
    {
      "cell_type": "code",
      "metadata": {
        "id": "xCn9FM42tc2P"
      },
      "source": [
        ""
      ],
      "execution_count": null,
      "outputs": []
    }
  ]
}