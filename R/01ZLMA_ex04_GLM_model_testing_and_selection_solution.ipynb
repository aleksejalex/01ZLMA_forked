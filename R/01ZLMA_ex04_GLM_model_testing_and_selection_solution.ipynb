{
  "cells": [
    {
      "cell_type": "markdown",
      "metadata": {
        "id": "view-in-github",
        "colab_type": "text"
      },
      "source": [
        "<a href=\"https://colab.research.google.com/github/francji1/01ZLMA/blob/main/R/01ZLMA_ex04_GLM_model_testing_and_selection_solution.ipynb\" target=\"_parent\"><img src=\"https://colab.research.google.com/assets/colab-badge.svg\" alt=\"Open In Colab\"/></a>"
      ]
    },
    {
      "cell_type": "markdown",
      "id": "6cc8b712-cab3-48c6-bc3c-e5ad4ea007a5",
      "metadata": {
        "tags": [],
        "id": "6cc8b712-cab3-48c6-bc3c-e5ad4ea007a5"
      },
      "source": [
        "# 01ZLMA Exercise 04 - HW Solution \n",
        "\n",
        "## Solution of  Problem 7.5. from: Peter K. Dunn · Gordon K. Smyth\n",
        "Generalized Linear Models With Examples in R\n",
        "https://link.springer.com/content/pdf/10.1007/978-1-4419-0118-7.pdf\n"
      ]
    },
    {
      "cell_type": "markdown",
      "source": [
        "\n",
        "Nambe Mills, Santa Fe, New Mexico [2, 7], is a tableware manufacturer.\n",
        "After casting, items produced by Nambe Mills are shaped, ground, buffed, and\n",
        "polished. In 1989, as an aid to rationalizing production of its 100 products, the company recorded the total grinding and polishing times and the diameter of\n",
        "each item (Table 5.3; data set: nambeware). \n"
      ],
      "metadata": {
        "id": "vn8MGrwnk8Nv"
      },
      "id": "vn8MGrwnk8Nv"
    },
    {
      "cell_type": "markdown",
      "source": [
        "Problem 6.11 from the book:\n",
        "\n",
        "Consider the item price y and the item diameter x. In Problem 5.26, a glm was proposed for these data.\n",
        "\n",
        "1. Fit this GLM using R, and write down the fitted model.\n",
        "2. Determine the standard error for each regression parameter.\n",
        "3. Compute the residual deviance.\n",
        "4. Compute the mean deviance estimate of φ.\n",
        "5. Compute the Pearson estimate of φ."
      ],
      "metadata": {
        "id": "5O66ypDhlIdT"
      },
      "id": "5O66ypDhlIdT"
    },
    {
      "cell_type": "markdown",
      "id": "9c3a22a8-968d-43a5-bf59-72fb705bf4e0",
      "metadata": {
        "id": "9c3a22a8-968d-43a5-bf59-72fb705bf4e0"
      },
      "source": [
        "## Your turn: Problem 7.5 from the book\n",
        "\n",
        "1. Use a Wald test to determine if diameter is significant.\n",
        "2. Use a score test to determine if diameter is significant.\n",
        "3. Use a likelihood ratio test to determine if diameter is significant.\n",
        "296 REFERENCES\n",
        "4. Compare the results from the Wald, score and likelihood ratio tests. Comment.\n",
        "5. Is the saddlepoint approximation expected to be accurate? Explain.\n",
        "6. Is the Central Limit Theorem expected to be accurate? Explain.\n",
        "7. Find the 95% Wald confidence intervals for the regression coefficients.\n",
        "8. Plot the price against diameter, and show the relationship described by\n",
        "the fitted model. Also plot the lines indicating the lower and upper 95%\n",
        "confidence intervals for these fitted value"
      ]
    },
    {
      "cell_type": "code",
      "execution_count": 1,
      "id": "0e3ba27a-f2c7-47ad-8456-26f7f2444f8a",
      "metadata": {
        "tags": [],
        "id": "0e3ba27a-f2c7-47ad-8456-26f7f2444f8a",
        "outputId": "28077742-4e2a-4110-a9c6-fde5493fa15e",
        "colab": {
          "base_uri": "https://localhost:8080/"
        }
      },
      "outputs": [
        {
          "output_type": "stream",
          "name": "stderr",
          "text": [
            "Warning message in system(\"timedatectl\", intern = TRUE):\n",
            "“running command 'timedatectl' had status 1”\n",
            "── \u001b[1mAttaching packages\u001b[22m ─────────────────────────────────────── tidyverse 1.3.1 ──\n",
            "\n",
            "\u001b[32m✔\u001b[39m \u001b[34mggplot2\u001b[39m 3.4.1     \u001b[32m✔\u001b[39m \u001b[34mpurrr  \u001b[39m 1.0.1\n",
            "\u001b[32m✔\u001b[39m \u001b[34mtibble \u001b[39m 3.2.1     \u001b[32m✔\u001b[39m \u001b[34mdplyr  \u001b[39m 1.1.1\n",
            "\u001b[32m✔\u001b[39m \u001b[34mtidyr  \u001b[39m 1.3.0     \u001b[32m✔\u001b[39m \u001b[34mstringr\u001b[39m 1.4.1\n",
            "\u001b[32m✔\u001b[39m \u001b[34mreadr  \u001b[39m 2.1.4     \u001b[32m✔\u001b[39m \u001b[34mforcats\u001b[39m 1.0.0\n",
            "\n",
            "── \u001b[1mConflicts\u001b[22m ────────────────────────────────────────── tidyverse_conflicts() ──\n",
            "\u001b[31m✖\u001b[39m \u001b[34mdplyr\u001b[39m::\u001b[32mfilter()\u001b[39m masks \u001b[34mstats\u001b[39m::filter()\n",
            "\u001b[31m✖\u001b[39m \u001b[34mdplyr\u001b[39m::\u001b[32mlag()\u001b[39m    masks \u001b[34mstats\u001b[39m::lag()\n",
            "\n",
            "\n",
            "Attaching package: ‘lubridate’\n",
            "\n",
            "\n",
            "The following objects are masked from ‘package:base’:\n",
            "\n",
            "    date, intersect, setdiff, union\n",
            "\n",
            "\n",
            "\n",
            "Attaching package: ‘MASS’\n",
            "\n",
            "\n",
            "The following object is masked from ‘package:dplyr’:\n",
            "\n",
            "    select\n",
            "\n",
            "\n",
            "Installing package into ‘/usr/local/lib/R/site-library’\n",
            "(as ‘lib’ is unspecified)\n",
            "\n",
            "Installing package into ‘/usr/local/lib/R/site-library’\n",
            "(as ‘lib’ is unspecified)\n",
            "\n",
            "also installing the dependencies ‘Rcpp’, ‘plyr’, ‘reshape’\n",
            "\n",
            "\n",
            "Registered S3 method overwritten by 'GGally':\n",
            "  method from   \n",
            "  +.gg   ggplot2\n",
            "\n"
          ]
        }
      ],
      "source": [
        "library(tidyverse)\n",
        "library(lubridate)\n",
        "library(MASS)\n",
        "\n",
        "#For sure: set dplyr functions\n",
        "select    <- dplyr::select;\n",
        "rename    <- dplyr::rename;\n",
        "mutate    <- dplyr::mutate; \n",
        "summarize <- dplyr::summarize;\n",
        "arrange   <- dplyr::arrange;\n",
        "slice     <- dplyr::slice;\n",
        "filter    <- dplyr::filter;\n",
        "recode    <- dplyr::recode\n",
        "\n",
        "install.packages(\"GLMsData\")\n",
        "library(GLMsData)\n",
        "\n",
        "install.packages(\"GGally\")\n",
        "library(GGally)"
      ]
    },
    {
      "cell_type": "code",
      "execution_count": 2,
      "id": "9104c374-2900-4e71-bb9f-751257d7a1a1",
      "metadata": {
        "tags": [],
        "id": "9104c374-2900-4e71-bb9f-751257d7a1a1",
        "outputId": "ef01cdab-860d-4751-aaff-5f1403231627",
        "colab": {
          "base_uri": "https://localhost:8080/",
          "height": 407
        }
      },
      "outputs": [
        {
          "output_type": "display_data",
          "data": {
            "text/html": [
              "<table class=\"dataframe\">\n",
              "<caption>A data.frame: 6 × 4</caption>\n",
              "<thead>\n",
              "\t<tr><th></th><th scope=col>Type</th><th scope=col>Diam</th><th scope=col>Time</th><th scope=col>Price</th></tr>\n",
              "\t<tr><th></th><th scope=col>&lt;fct&gt;</th><th scope=col>&lt;dbl&gt;</th><th scope=col>&lt;dbl&gt;</th><th scope=col>&lt;dbl&gt;</th></tr>\n",
              "</thead>\n",
              "<tbody>\n",
              "\t<tr><th scope=row>1</th><td>CassDish</td><td>10.7</td><td>47.65</td><td>144</td></tr>\n",
              "\t<tr><th scope=row>2</th><td>CassDish</td><td>14.0</td><td>63.13</td><td>215</td></tr>\n",
              "\t<tr><th scope=row>3</th><td>CassDish</td><td> 9.0</td><td>58.76</td><td>105</td></tr>\n",
              "\t<tr><th scope=row>4</th><td>Bowl    </td><td> 8.0</td><td>34.88</td><td> 69</td></tr>\n",
              "\t<tr><th scope=row>5</th><td>Dish    </td><td>10.0</td><td>55.53</td><td>134</td></tr>\n",
              "\t<tr><th scope=row>6</th><td>CassDish</td><td>10.5</td><td>43.14</td><td>129</td></tr>\n",
              "</tbody>\n",
              "</table>\n"
            ],
            "text/markdown": "\nA data.frame: 6 × 4\n\n| <!--/--> | Type &lt;fct&gt; | Diam &lt;dbl&gt; | Time &lt;dbl&gt; | Price &lt;dbl&gt; |\n|---|---|---|---|---|\n| 1 | CassDish | 10.7 | 47.65 | 144 |\n| 2 | CassDish | 14.0 | 63.13 | 215 |\n| 3 | CassDish |  9.0 | 58.76 | 105 |\n| 4 | Bowl     |  8.0 | 34.88 |  69 |\n| 5 | Dish     | 10.0 | 55.53 | 134 |\n| 6 | CassDish | 10.5 | 43.14 | 129 |\n\n",
            "text/latex": "A data.frame: 6 × 4\n\\begin{tabular}{r|llll}\n  & Type & Diam & Time & Price\\\\\n  & <fct> & <dbl> & <dbl> & <dbl>\\\\\n\\hline\n\t1 & CassDish & 10.7 & 47.65 & 144\\\\\n\t2 & CassDish & 14.0 & 63.13 & 215\\\\\n\t3 & CassDish &  9.0 & 58.76 & 105\\\\\n\t4 & Bowl     &  8.0 & 34.88 &  69\\\\\n\t5 & Dish     & 10.0 & 55.53 & 134\\\\\n\t6 & CassDish & 10.5 & 43.14 & 129\\\\\n\\end{tabular}\n",
            "text/plain": [
              "  Type     Diam Time  Price\n",
              "1 CassDish 10.7 47.65 144  \n",
              "2 CassDish 14.0 63.13 215  \n",
              "3 CassDish  9.0 58.76 105  \n",
              "4 Bowl      8.0 34.88  69  \n",
              "5 Dish     10.0 55.53 134  \n",
              "6 CassDish 10.5 43.14 129  "
            ]
          },
          "metadata": {}
        },
        {
          "output_type": "display_data",
          "data": {
            "text/plain": [
              "       Type         Diam            Time            Price       \n",
              " Bowl    :23   Min.   : 5.00   Min.   : 12.02   Min.   : 21.50  \n",
              " CassDish:10   1st Qu.: 8.25   1st Qu.: 22.21   1st Qu.: 47.25  \n",
              " Dish    : 7   Median :11.00   Median : 31.46   Median : 75.00  \n",
              " Plate   : 9   Mean   :10.93   Mean   : 35.82   Mean   : 86.38  \n",
              " Tray    :10   3rd Qu.:13.00   3rd Qu.: 45.03   3rd Qu.:107.00  \n",
              "               Max.   :25.00   Max.   :109.38   Max.   :260.00  "
            ]
          },
          "metadata": {}
        }
      ],
      "source": [
        "data(nambeware)\n",
        "head(nambeware)\n",
        "summary(nambeware)\n",
        "?nambeware"
      ]
    },
    {
      "cell_type": "code",
      "execution_count": 3,
      "id": "4fc2cbdb-e89a-4082-a2ea-799b65451da5",
      "metadata": {
        "tags": [],
        "id": "4fc2cbdb-e89a-4082-a2ea-799b65451da5",
        "outputId": "c9618bfc-562a-4616-ea32-ee1376fdd220",
        "colab": {
          "base_uri": "https://localhost:8080/",
          "height": 1000
        }
      },
      "outputs": [
        {
          "output_type": "stream",
          "name": "stderr",
          "text": [
            "\u001b[1m\u001b[22m`geom_smooth()` using formula = 'y ~ x'\n"
          ]
        },
        {
          "output_type": "display_data",
          "data": {
            "text/plain": [
              "plot without title"
            ],
            "image/png": "[encoded data removed]"
          },
          "metadata": {
            "image/png": {
              "width": 1000,
              "height": 1000
            }
          }
        }
      ],
      "source": [
        "options(repr.plot.width = 20, repr.plot.height = 20, repr.plot.res = 100)\n",
        "ggplot(nambeware, aes(x = Diam, y = Price)) + \n",
        "  geom_point(aes(colour = Type)) + \n",
        "  geom_smooth(method = \"loess\") +\n",
        "  labs(title = \"Price vs. Diam\")\n"
      ]
    },
    {
      "cell_type": "code",
      "execution_count": 5,
      "id": "6b29c849-a867-49a8-8155-524dc21eea7c",
      "metadata": {
        "tags": [],
        "id": "6b29c849-a867-49a8-8155-524dc21eea7c",
        "outputId": "4f86991f-16b5-40aa-9506-6e7f4c226ccc",
        "colab": {
          "base_uri": "https://localhost:8080/",
          "height": 131
        }
      },
      "outputs": [
        {
          "output_type": "error",
          "ename": "ERROR",
          "evalue": "ignored",
          "traceback": [
            "Error in summary(model): object 'model' not found\nTraceback:\n",
            "1. summary(model)"
          ]
        }
      ],
      "source": [
        "lm_model <- lm(Price ~ Diam, data=nambeware)\n",
        "summary(model)"
      ]
    },
    {
      "cell_type": "code",
      "execution_count": 6,
      "id": "54c72596-3b58-476b-9cbb-14b3d83ee850",
      "metadata": {
        "tags": [],
        "id": "54c72596-3b58-476b-9cbb-14b3d83ee850",
        "outputId": "2af452ad-c18c-43b4-ada8-0e1ae4c35264",
        "colab": {
          "base_uri": "https://localhost:8080/",
          "height": 131
        }
      },
      "outputs": [
        {
          "output_type": "error",
          "ename": "ERROR",
          "evalue": "ignored",
          "traceback": [
            "Error in plot(model, which = 2): object 'model' not found\nTraceback:\n",
            "1. plot(model, which = 2)"
          ]
        }
      ],
      "source": [
        "plot(model, which = 2)"
      ]
    },
    {
      "cell_type": "code",
      "execution_count": null,
      "id": "2eed8d19-c662-4c0d-a9a9-14dcbf237752",
      "metadata": {
        "tags": [],
        "id": "2eed8d19-c662-4c0d-a9a9-14dcbf237752"
      },
      "outputs": [],
      "source": [
        "plot(model, which = 3)"
      ]
    },
    {
      "cell_type": "code",
      "execution_count": null,
      "id": "e7978590-8d40-41e0-aefc-2bb391efe744",
      "metadata": {
        "tags": [],
        "id": "e7978590-8d40-41e0-aefc-2bb391efe744"
      },
      "outputs": [],
      "source": [
        "model <- glm( Price ~ Diam,\n",
        "                   data=nambeware,\n",
        "                   family = Gamma(link = \"identity\")\n",
        ")\n",
        "summary(model)"
      ]
    },
    {
      "cell_type": "code",
      "execution_count": null,
      "id": "a25b7060-2436-4490-8151-2e260220be1b",
      "metadata": {
        "tags": [],
        "id": "a25b7060-2436-4490-8151-2e260220be1b"
      },
      "outputs": [],
      "source": [
        "cov_mat <- summary(model)$cov.scaled\n",
        "round(cov_mat, digits=3)"
      ]
    },
    {
      "cell_type": "markdown",
      "id": "7c296c60-974d-40b4-b147-8c0b629036f4",
      "metadata": {
        "id": "7c296c60-974d-40b4-b147-8c0b629036f4"
      },
      "source": [
        "![image.png](attachment:a1a22770-d883-4c7c-88b8-1934b4ba8407.png)"
      ]
    },
    {
      "cell_type": "markdown",
      "id": "b1494dbf-648a-4d9d-8fad-4e81bfcf390f",
      "metadata": {
        "id": "b1494dbf-648a-4d9d-8fad-4e81bfcf390f"
      },
      "source": [
        "# Wald Test"
      ]
    },
    {
      "cell_type": "code",
      "execution_count": null,
      "id": "ba9f8517-46b2-4dcf-b048-478fe6622d75",
      "metadata": {
        "tags": [],
        "id": "ba9f8517-46b2-4dcf-b048-478fe6622d75"
      },
      "outputs": [],
      "source": [
        "install.packages(\"aod\")\n",
        "library(aod)"
      ]
    },
    {
      "cell_type": "code",
      "execution_count": null,
      "id": "fe0396a5-945e-476a-9082-85bc98076e2a",
      "metadata": {
        "tags": [],
        "id": "fe0396a5-945e-476a-9082-85bc98076e2a"
      },
      "outputs": [],
      "source": [
        "coef(summary(model))\n",
        "confint(model, \"Diam\")"
      ]
    },
    {
      "cell_type": "code",
      "execution_count": null,
      "id": "52b4bcc5-6205-4e2a-96cb-4e8375071b21",
      "metadata": {
        "tags": [],
        "id": "52b4bcc5-6205-4e2a-96cb-4e8375071b21"
      },
      "outputs": [],
      "source": [
        "wald.test(Sigma = vcov(model), b = coef(model), Terms = 1:1)"
      ]
    },
    {
      "cell_type": "markdown",
      "id": "bb0637f8-0cc3-450e-bb1c-1a4448695b92",
      "metadata": {
        "id": "bb0637f8-0cc3-450e-bb1c-1a4448695b92"
      },
      "source": [
        "# Score Test"
      ]
    },
    {
      "cell_type": "code",
      "execution_count": null,
      "id": "04f4340b-ff62-44ae-baf1-e1b5ee60ab25",
      "metadata": {
        "tags": [],
        "id": "04f4340b-ff62-44ae-baf1-e1b5ee60ab25"
      },
      "outputs": [],
      "source": [
        "install.packages(\"statmod\") \n",
        "library(statmod)"
      ]
    },
    {
      "cell_type": "code",
      "execution_count": null,
      "id": "58f17783-28bf-4349-8c40-b07465d4ae68",
      "metadata": {
        "tags": [],
        "id": "58f17783-28bf-4349-8c40-b07465d4ae68"
      },
      "outputs": [],
      "source": [
        "glm.scoretest(model, nambeware$Diam)"
      ]
    },
    {
      "cell_type": "code",
      "execution_count": null,
      "id": "8e6a5fbf-d3e9-4e0c-b0ee-c65564d295b1",
      "metadata": {
        "tags": [],
        "id": "8e6a5fbf-d3e9-4e0c-b0ee-c65564d295b1"
      },
      "outputs": [],
      "source": [
        "p_val <- 2 * pnorm( abs(z_stat), lower.tail=FALSE)\n",
        "p_val"
      ]
    },
    {
      "cell_type": "markdown",
      "id": "9c8b86b2-2b7d-483b-a750-d2eb220391cc",
      "metadata": {
        "id": "9c8b86b2-2b7d-483b-a750-d2eb220391cc"
      },
      "source": [
        "# LR Test"
      ]
    },
    {
      "cell_type": "code",
      "execution_count": null,
      "id": "da2ed573-fe63-40ba-b564-0cd4116cf993",
      "metadata": {
        "tags": [],
        "id": "da2ed573-fe63-40ba-b564-0cd4116cf993"
      },
      "outputs": [],
      "source": [
        "model_0 <- glm( Price ~ 1, data=nambeware, family = Gamma(link = \"identity\"))\n",
        "model_1 <- glm( Price ~ Diam, data=nambeware, family = Gamma(link = \"identity\"))"
      ]
    },
    {
      "cell_type": "code",
      "execution_count": null,
      "id": "9c9905f1-4a2f-4c78-8bb9-18ec83f65378",
      "metadata": {
        "tags": [],
        "id": "9c9905f1-4a2f-4c78-8bb9-18ec83f65378"
      },
      "outputs": [],
      "source": [
        "print(cbind( \"Dev(m0)\"= deviance(model_0), \"Dev(m1)\" = deviance(model_1) ))\n",
        "\n",
        "print(cbind( \"df(m0)\" = df.residual(model_0), \"df(m1)\" = df.residual(model_1)))\n",
        "\n",
        "L <- deviance(model_0) - deviance(model_1)\n",
        "L\n",
        "\n",
        "pchisq(L, df.residual(model_0) - df.residual(model_1), lower.tail=FALSE )"
      ]
    },
    {
      "cell_type": "markdown",
      "id": "fd6155d4-aeb2-400a-9616-0d50a5373ac6",
      "metadata": {
        "id": "fd6155d4-aeb2-400a-9616-0d50a5373ac6"
      },
      "source": [
        "# Test comparison"
      ]
    },
    {
      "cell_type": "markdown",
      "id": "ef4637ea-a959-41d6-88a5-9d3ac39d7214",
      "metadata": {
        "id": "ef4637ea-a959-41d6-88a5-9d3ac39d7214"
      },
      "source": [
        "The Wald and Score tests give similar p-values. We know that the Wald test is symetric and the Score and the LR tests are not symetric. All of the tests tell us however that the `Diam` parameter is significant in estiamting the `Price` (that it is rightfully nonzero)"
      ]
    },
    {
      "cell_type": "markdown",
      "id": "ce31dc2f-aff8-4f4f-81ac-f797fe93ce1f",
      "metadata": {
        "tags": [],
        "id": "ce31dc2f-aff8-4f4f-81ac-f797fe93ce1f"
      },
      "source": [
        "# Saddle point approximation"
      ]
    },
    {
      "cell_type": "markdown",
      "id": "f93fa511-9fc9-4906-a7d3-33e9f32c15ad",
      "metadata": {
        "id": "f93fa511-9fc9-4906-a7d3-33e9f32c15ad"
      },
      "source": [
        "The saddle point approximation can be thought of as the result of the Wald test (since it gives us the difference of the last two iterations of the convergence). We can say that it is accurate, because the p-value of the Wald test is very small. In other words the data would have to be very specifically drawn if the convergence would be false and the test passed with this p-value."
      ]
    },
    {
      "cell_type": "markdown",
      "id": "7a16d276-c336-421d-bd9e-aeb498de39dc",
      "metadata": {
        "tags": [],
        "id": "7a16d276-c336-421d-bd9e-aeb498de39dc"
      },
      "source": [
        "# CLT"
      ]
    },
    {
      "cell_type": "markdown",
      "id": "2b4c0011-a058-4ca6-9455-a2137dd89b52",
      "metadata": {
        "id": "2b4c0011-a058-4ca6-9455-a2137dd89b52"
      },
      "source": [
        "In fact in these tests we are relying on the CLT to be accurate since these tests are only asymptotic. We can guess whether the CLT should be accurate or not through intuition of the distribution of the parameters (in fact the tests are correct directly (not asymptoticaly) only if the parameters are distributed normaly) and the sample size, which in our case is:"
      ]
    },
    {
      "cell_type": "code",
      "execution_count": null,
      "id": "b6aecb9c-4532-4b89-bad7-f96476c1f65d",
      "metadata": {
        "tags": [],
        "id": "b6aecb9c-4532-4b89-bad7-f96476c1f65d"
      },
      "outputs": [],
      "source": [
        "nrow(nambeware)"
      ]
    },
    {
      "cell_type": "markdown",
      "id": "b425d2d9-8faf-414c-966b-1943bd7a1ecd",
      "metadata": {
        "tags": [],
        "id": "b425d2d9-8faf-414c-966b-1943bd7a1ecd"
      },
      "source": [
        "My guess would be that this amount of samples is sufficient."
      ]
    },
    {
      "cell_type": "markdown",
      "id": "9d70e561-bc7a-47e2-91fb-7d704e39a623",
      "metadata": {
        "id": "9d70e561-bc7a-47e2-91fb-7d704e39a623"
      },
      "source": [
        "# 95% confidence interval"
      ]
    },
    {
      "cell_type": "markdown",
      "id": "64a2466f-7f11-4971-a749-fcdc8937666b",
      "metadata": {
        "tags": [],
        "id": "64a2466f-7f11-4971-a749-fcdc8937666b"
      },
      "source": [
        "Wald statistic confidence intervals are the default for the computing of the confidence intervals of the model coeficients."
      ]
    },
    {
      "cell_type": "code",
      "execution_count": null,
      "id": "94b4ec61-d4b8-4f03-a65f-0dbd412c00c5",
      "metadata": {
        "tags": [],
        "id": "94b4ec61-d4b8-4f03-a65f-0dbd412c00c5"
      },
      "outputs": [],
      "source": [
        "confint(model, \"Diam\", level = 0.95)"
      ]
    },
    {
      "cell_type": "code",
      "execution_count": null,
      "id": "465014eb-8d90-4519-82f5-6a8c9864bb95",
      "metadata": {
        "tags": [],
        "id": "465014eb-8d90-4519-82f5-6a8c9864bb95"
      },
      "outputs": [],
      "source": [
        "coef(model)"
      ]
    },
    {
      "cell_type": "markdown",
      "id": "b08b960a-c746-4c3a-9d3c-d5592189a484",
      "metadata": {
        "tags": [],
        "id": "b08b960a-c746-4c3a-9d3c-d5592189a484"
      },
      "source": [
        "# Fitted model interpretation and the confidence intervals"
      ]
    },
    {
      "cell_type": "code",
      "execution_count": null,
      "id": "adac3e90-5e05-4b8d-b687-2701458f8d55",
      "metadata": {
        "tags": [],
        "id": "adac3e90-5e05-4b8d-b687-2701458f8d55"
      },
      "outputs": [],
      "source": [
        "ggplot(nambeware, aes(x = Diam, y = Price)) + \n",
        "  geom_point(aes(colour = Type)) + \n",
        "  geom_abline(slope = coef(model)[2], intercept = coef(model)[1]) +\n",
        "  geom_abline(slope = confint(model, \"Diam\", level = 0.95)[2], intercept = coef(model)[1], name = \"Prediction\") +\n",
        "  geom_abline(slope = confint(model, \"Diam\", level = 0.95)[1], intercept = coef(model)[1]) +\n",
        "  labs()"
      ]
    },
    {
      "cell_type": "code",
      "source": [],
      "metadata": {
        "id": "lbvX7bPwlcp4"
      },
      "id": "lbvX7bPwlcp4",
      "execution_count": null,
      "outputs": []
    }
  ],
  "metadata": {
    "kernelspec": {
      "display_name": "R",
      "language": "R",
      "name": "ir"
    },
    "language_info": {
      "codemirror_mode": "r",
      "file_extension": ".r",
      "mimetype": "text/x-r-source",
      "name": "R",
      "pygments_lexer": "r",
      "version": "4.2.0"
    },
    "colab": {
      "provenance": [],
      "include_colab_link": true
    }
  },
  "nbformat": 4,
  "nbformat_minor": 5
}