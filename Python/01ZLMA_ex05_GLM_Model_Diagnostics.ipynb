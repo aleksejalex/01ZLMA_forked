{
  "nbformat": 4,
  "nbformat_minor": 0,
  "metadata": {
    "colab": {
      "name": "05ZLMA.ipynb",
      "provenance": []
    },
    "kernelspec": {
      "name": "python3",
      "display_name": "Python 3"
    },
    "language_info": {
      "name": "python"
    }
  },
  "cells": [
    {
      "cell_type": "markdown",
      "source": [
        "# 01ZLMA - Exercise 05\n",
        "\n",
        "Exercise 05 of the course 01ZLMA. "
      ],
      "metadata": {
        "id": "MhexE9S01Pzx"
      }
    },
    {
      "cell_type": "markdown",
      "source": [
        "# Model Diagnostics - Post-hoc analysis of glm\n",
        "\n",
        "How to check if our GLM is sufficient and how to do it in R.\n"
      ],
      "metadata": {
        "id": "oLBpwZ711Q0W"
      }
    },
    {
      "cell_type": "markdown",
      "source": [
        "\n",
        "## Dataset trees\n",
        "\n",
        "The volume y (in cubic feet) of 31 black cherry trees (střemcha pozdní) was measured as well as the height (in feet) and the girth, or diameter,\n",
        "at breast height (in inches). The volume of the tree is related to the volume of timber, which is im\u0002portant economically. \n"
      ],
      "metadata": {
        "id": "VDD7tBET1Vag"
      }
    },
    {
      "cell_type": "code",
      "execution_count": null,
      "metadata": {
        "id": "MoqVyy-v01Ul"
      },
      "outputs": [],
      "source": [
        "import pandas as pd\n",
        "import numpy as np\n",
        "import math\n",
        "import matplotlib.pyplot as plt\n",
        "import seaborn as sns\n",
        "from sklearn.linear_model import LinearRegression\n",
        "from statsmodels.graphics.regressionplots import plot_partregress_grid\n",
        "import statsmodels.formula.api as smf\n",
        "import statsmodels.api as sm\n",
        "from scipy import stats"
      ]
    },
    {
      "cell_type": "code",
      "source": [
        "# import dataset -> put dataset in files in google colab\n",
        "trees = pd.read_excel('/content/trees.xlsx')\n",
        "trees"
      ],
      "metadata": {
        "colab": {
          "base_uri": "https://localhost:8080/",
          "height": 1000
        },
        "id": "3EL19IYP4ok9",
        "outputId": "3e482874-95cd-4c53-9111-9599d810d686"
      },
      "execution_count": null,
      "outputs": [
        {
          "output_type": "execute_result",
          "data": {
            "text/plain": [
              "    Girth  Height  Volume\n",
              "0     8.3      70    10.3\n",
              "1     8.6      65    10.3\n",
              "2     8.8      63    10.2\n",
              "3    10.5      72    16.4\n",
              "4    10.7      81    18.8\n",
              "5    10.8      83    19.7\n",
              "6    11.0      66    15.6\n",
              "7    11.0      75    18.2\n",
              "8    11.1      80    22.6\n",
              "9    11.2      75    19.9\n",
              "10   11.3      79    24.2\n",
              "11   11.4      76    21.0\n",
              "12   11.4      76    21.4\n",
              "13   11.7      69    21.3\n",
              "14   12.0      75    19.1\n",
              "15   12.9      74    22.2\n",
              "16   12.9      85    33.8\n",
              "17   13.3      86    27.4\n",
              "18   13.7      71    25.7\n",
              "19   13.8      64    24.9\n",
              "20   14.0      78    34.5\n",
              "21   14.2      80    31.7\n",
              "22   14.5      74    36.3\n",
              "23   16.0      72    38.3\n",
              "24   16.3      77    42.6\n",
              "25   17.3      81    55.4\n",
              "26   17.5      82    55.7\n",
              "27   17.9      80    58.3\n",
              "28   18.0      80    51.5\n",
              "29   18.0      80    51.0\n",
              "30   20.6      87    77.0"
            ],
            "text/html": [
              "\n",
              "  <div id=\"df-5e1dbcf7-2773-4145-bba5-26fc1496b1f9\">\n",
              "    <div class=\"colab-df-container\">\n",
              "      <div>\n",
              "<style scoped>\n",
              "    .dataframe tbody tr th:only-of-type {\n",
              "        vertical-align: middle;\n",
              "    }\n",
              "\n",
              "    .dataframe tbody tr th {\n",
              "        vertical-align: top;\n",
              "    }\n",
              "\n",
              "    .dataframe thead th {\n",
              "        text-align: right;\n",
              "    }\n",
              "</style>\n",
              "<table border=\"1\" class=\"dataframe\">\n",
              "  <thead>\n",
              "    <tr style=\"text-align: right;\">\n",
              "      <th></th>\n",
              "      <th>Girth</th>\n",
              "      <th>Height</th>\n",
              "      <th>Volume</th>\n",
              "    </tr>\n",
              "  </thead>\n",
              "  <tbody>\n",
              "    <tr>\n",
              "      <th>0</th>\n",
              "      <td>8.3</td>\n",
              "      <td>70</td>\n",
              "      <td>10.3</td>\n",
              "    </tr>\n",
              "    <tr>\n",
              "      <th>1</th>\n",
              "      <td>8.6</td>\n",
              "      <td>65</td>\n",
              "      <td>10.3</td>\n",
              "    </tr>\n",
              "    <tr>\n",
              "      <th>2</th>\n",
              "      <td>8.8</td>\n",
              "      <td>63</td>\n",
              "      <td>10.2</td>\n",
              "    </tr>\n",
              "    <tr>\n",
              "      <th>3</th>\n",
              "      <td>10.5</td>\n",
              "      <td>72</td>\n",
              "      <td>16.4</td>\n",
              "    </tr>\n",
              "    <tr>\n",
              "      <th>4</th>\n",
              "      <td>10.7</td>\n",
              "      <td>81</td>\n",
              "      <td>18.8</td>\n",
              "    </tr>\n",
              "    <tr>\n",
              "      <th>5</th>\n",
              "      <td>10.8</td>\n",
              "      <td>83</td>\n",
              "      <td>19.7</td>\n",
              "    </tr>\n",
              "    <tr>\n",
              "      <th>6</th>\n",
              "      <td>11.0</td>\n",
              "      <td>66</td>\n",
              "      <td>15.6</td>\n",
              "    </tr>\n",
              "    <tr>\n",
              "      <th>7</th>\n",
              "      <td>11.0</td>\n",
              "      <td>75</td>\n",
              "      <td>18.2</td>\n",
              "    </tr>\n",
              "    <tr>\n",
              "      <th>8</th>\n",
              "      <td>11.1</td>\n",
              "      <td>80</td>\n",
              "      <td>22.6</td>\n",
              "    </tr>\n",
              "    <tr>\n",
              "      <th>9</th>\n",
              "      <td>11.2</td>\n",
              "      <td>75</td>\n",
              "      <td>19.9</td>\n",
              "    </tr>\n",
              "    <tr>\n",
              "      <th>10</th>\n",
              "      <td>11.3</td>\n",
              "      <td>79</td>\n",
              "      <td>24.2</td>\n",
              "    </tr>\n",
              "    <tr>\n",
              "      <th>11</th>\n",
              "      <td>11.4</td>\n",
              "      <td>76</td>\n",
              "      <td>21.0</td>\n",
              "    </tr>\n",
              "    <tr>\n",
              "      <th>12</th>\n",
              "      <td>11.4</td>\n",
              "      <td>76</td>\n",
              "      <td>21.4</td>\n",
              "    </tr>\n",
              "    <tr>\n",
              "      <th>13</th>\n",
              "      <td>11.7</td>\n",
              "      <td>69</td>\n",
              "      <td>21.3</td>\n",
              "    </tr>\n",
              "    <tr>\n",
              "      <th>14</th>\n",
              "      <td>12.0</td>\n",
              "      <td>75</td>\n",
              "      <td>19.1</td>\n",
              "    </tr>\n",
              "    <tr>\n",
              "      <th>15</th>\n",
              "      <td>12.9</td>\n",
              "      <td>74</td>\n",
              "      <td>22.2</td>\n",
              "    </tr>\n",
              "    <tr>\n",
              "      <th>16</th>\n",
              "      <td>12.9</td>\n",
              "      <td>85</td>\n",
              "      <td>33.8</td>\n",
              "    </tr>\n",
              "    <tr>\n",
              "      <th>17</th>\n",
              "      <td>13.3</td>\n",
              "      <td>86</td>\n",
              "      <td>27.4</td>\n",
              "    </tr>\n",
              "    <tr>\n",
              "      <th>18</th>\n",
              "      <td>13.7</td>\n",
              "      <td>71</td>\n",
              "      <td>25.7</td>\n",
              "    </tr>\n",
              "    <tr>\n",
              "      <th>19</th>\n",
              "      <td>13.8</td>\n",
              "      <td>64</td>\n",
              "      <td>24.9</td>\n",
              "    </tr>\n",
              "    <tr>\n",
              "      <th>20</th>\n",
              "      <td>14.0</td>\n",
              "      <td>78</td>\n",
              "      <td>34.5</td>\n",
              "    </tr>\n",
              "    <tr>\n",
              "      <th>21</th>\n",
              "      <td>14.2</td>\n",
              "      <td>80</td>\n",
              "      <td>31.7</td>\n",
              "    </tr>\n",
              "    <tr>\n",
              "      <th>22</th>\n",
              "      <td>14.5</td>\n",
              "      <td>74</td>\n",
              "      <td>36.3</td>\n",
              "    </tr>\n",
              "    <tr>\n",
              "      <th>23</th>\n",
              "      <td>16.0</td>\n",
              "      <td>72</td>\n",
              "      <td>38.3</td>\n",
              "    </tr>\n",
              "    <tr>\n",
              "      <th>24</th>\n",
              "      <td>16.3</td>\n",
              "      <td>77</td>\n",
              "      <td>42.6</td>\n",
              "    </tr>\n",
              "    <tr>\n",
              "      <th>25</th>\n",
              "      <td>17.3</td>\n",
              "      <td>81</td>\n",
              "      <td>55.4</td>\n",
              "    </tr>\n",
              "    <tr>\n",
              "      <th>26</th>\n",
              "      <td>17.5</td>\n",
              "      <td>82</td>\n",
              "      <td>55.7</td>\n",
              "    </tr>\n",
              "    <tr>\n",
              "      <th>27</th>\n",
              "      <td>17.9</td>\n",
              "      <td>80</td>\n",
              "      <td>58.3</td>\n",
              "    </tr>\n",
              "    <tr>\n",
              "      <th>28</th>\n",
              "      <td>18.0</td>\n",
              "      <td>80</td>\n",
              "      <td>51.5</td>\n",
              "    </tr>\n",
              "    <tr>\n",
              "      <th>29</th>\n",
              "      <td>18.0</td>\n",
              "      <td>80</td>\n",
              "      <td>51.0</td>\n",
              "    </tr>\n",
              "    <tr>\n",
              "      <th>30</th>\n",
              "      <td>20.6</td>\n",
              "      <td>87</td>\n",
              "      <td>77.0</td>\n",
              "    </tr>\n",
              "  </tbody>\n",
              "</table>\n",
              "</div>\n",
              "      <button class=\"colab-df-convert\" onclick=\"convertToInteractive('df-5e1dbcf7-2773-4145-bba5-26fc1496b1f9')\"\n",
              "              title=\"Convert this dataframe to an interactive table.\"\n",
              "              style=\"display:none;\">\n",
              "        \n",
              "  <svg xmlns=\"http://www.w3.org/2000/svg\" height=\"24px\"viewBox=\"0 0 24 24\"\n",
              "       width=\"24px\">\n",
              "    <path d=\"M0 0h24v24H0V0z\" fill=\"none\"/>\n",
              "    <path d=\"M18.56 5.44l.94 2.06.94-2.06 2.06-.94-2.06-.94-.94-2.06-.94 2.06-2.06.94zm-11 1L8.5 8.5l.94-2.06 2.06-.94-2.06-.94L8.5 2.5l-.94 2.06-2.06.94zm10 10l.94 2.06.94-2.06 2.06-.94-2.06-.94-.94-2.06-.94 2.06-2.06.94z\"/><path d=\"M17.41 7.96l-1.37-1.37c-.4-.4-.92-.59-1.43-.59-.52 0-1.04.2-1.43.59L10.3 9.45l-7.72 7.72c-.78.78-.78 2.05 0 2.83L4 21.41c.39.39.9.59 1.41.59.51 0 1.02-.2 1.41-.59l7.78-7.78 2.81-2.81c.8-.78.8-2.07 0-2.86zM5.41 20L4 18.59l7.72-7.72 1.47 1.35L5.41 20z\"/>\n",
              "  </svg>\n",
              "      </button>\n",
              "      \n",
              "  <style>\n",
              "    .colab-df-container {\n",
              "      display:flex;\n",
              "      flex-wrap:wrap;\n",
              "      gap: 12px;\n",
              "    }\n",
              "\n",
              "    .colab-df-convert {\n",
              "      background-color: #E8F0FE;\n",
              "      border: none;\n",
              "      border-radius: 50%;\n",
              "      cursor: pointer;\n",
              "      display: none;\n",
              "      fill: #1967D2;\n",
              "      height: 32px;\n",
              "      padding: 0 0 0 0;\n",
              "      width: 32px;\n",
              "    }\n",
              "\n",
              "    .colab-df-convert:hover {\n",
              "      background-color: #E2EBFA;\n",
              "      box-shadow: 0px 1px 2px rgba(60, 64, 67, 0.3), 0px 1px 3px 1px rgba(60, 64, 67, 0.15);\n",
              "      fill: #174EA6;\n",
              "    }\n",
              "\n",
              "    [theme=dark] .colab-df-convert {\n",
              "      background-color: #3B4455;\n",
              "      fill: #D2E3FC;\n",
              "    }\n",
              "\n",
              "    [theme=dark] .colab-df-convert:hover {\n",
              "      background-color: #434B5C;\n",
              "      box-shadow: 0px 1px 3px 1px rgba(0, 0, 0, 0.15);\n",
              "      filter: drop-shadow(0px 1px 2px rgba(0, 0, 0, 0.3));\n",
              "      fill: #FFFFFF;\n",
              "    }\n",
              "  </style>\n",
              "\n",
              "      <script>\n",
              "        const buttonEl =\n",
              "          document.querySelector('#df-5e1dbcf7-2773-4145-bba5-26fc1496b1f9 button.colab-df-convert');\n",
              "        buttonEl.style.display =\n",
              "          google.colab.kernel.accessAllowed ? 'block' : 'none';\n",
              "\n",
              "        async function convertToInteractive(key) {\n",
              "          const element = document.querySelector('#df-5e1dbcf7-2773-4145-bba5-26fc1496b1f9');\n",
              "          const dataTable =\n",
              "            await google.colab.kernel.invokeFunction('convertToInteractive',\n",
              "                                                     [key], {});\n",
              "          if (!dataTable) return;\n",
              "\n",
              "          const docLinkHtml = 'Like what you see? Visit the ' +\n",
              "            '<a target=\"_blank\" href=https://colab.research.google.com/notebooks/data_table.ipynb>data table notebook</a>'\n",
              "            + ' to learn more about interactive tables.';\n",
              "          element.innerHTML = '';\n",
              "          dataTable['output_type'] = 'display_data';\n",
              "          await google.colab.output.renderOutput(dataTable, element);\n",
              "          const docLink = document.createElement('div');\n",
              "          docLink.innerHTML = docLinkHtml;\n",
              "          element.appendChild(docLink);\n",
              "        }\n",
              "      </script>\n",
              "    </div>\n",
              "  </div>\n",
              "  "
            ]
          },
          "metadata": {},
          "execution_count": 173
        }
      ]
    },
    {
      "cell_type": "code",
      "source": [
        "# basic graphs of dataset\n",
        "g = sns.PairGrid(trees)\n",
        "g.map_diag(sns.histplot)\n",
        "g.map_offdiag(sns.scatterplot)\n",
        "g.add_legend()"
      ],
      "metadata": {
        "colab": {
          "base_uri": "https://localhost:8080/",
          "height": 563
        },
        "id": "E6gpdM-f4xaP",
        "outputId": "efaafce3-99e6-4f73-82dd-893defe6e12e"
      },
      "execution_count": null,
      "outputs": [
        {
          "output_type": "execute_result",
          "data": {
            "text/plain": [
              "<seaborn.axisgrid.PairGrid at 0x7f11ef7af250>"
            ]
          },
          "metadata": {},
          "execution_count": 174
        },
        {
          "output_type": "display_data",
          "data": {
            "text/plain": [
              "<Figure size 548x540 with 12 Axes>"
            ],
            "image/png": "[encoded data removed]"
          },
          "metadata": {
            "needs_background": "light"
          }
        }
      ]
    },
    {
      "cell_type": "markdown",
      "source": [
        "The relationships between the tree volume and height, and tree volume and girth, both appear non-linear."
      ],
      "metadata": {
        "id": "paWx8TWM45Xl"
      }
    },
    {
      "cell_type": "code",
      "source": [
        "log_trees = trees.copy()\n",
        "log_trees['log_Girth'] = np.log(trees['Girth'])\n",
        "log_trees['log_Height'] = np.log(trees['Height'])\n",
        "log_trees['log_Volume'] = np.log(trees['Volume'])\n",
        "log_trees.head()"
      ],
      "metadata": {
        "colab": {
          "base_uri": "https://localhost:8080/",
          "height": 206
        },
        "id": "SvZ59ck545Ce",
        "outputId": "29619164-deb3-4ba6-d846-bcf375aa11dc"
      },
      "execution_count": null,
      "outputs": [
        {
          "output_type": "execute_result",
          "data": {
            "text/plain": [
              "   Girth  Height  Volume  log_Girth  log_Height  log_Volume\n",
              "0    8.3      70    10.3   2.116256    4.248495    2.332144\n",
              "1    8.6      65    10.3   2.151762    4.174387    2.332144\n",
              "2    8.8      63    10.2   2.174752    4.143135    2.322388\n",
              "3   10.5      72    16.4   2.351375    4.276666    2.797281\n",
              "4   10.7      81    18.8   2.370244    4.394449    2.933857"
            ],
            "text/html": [
              "\n",
              "  <div id=\"df-b8bb96c3-40ec-4431-aa21-980b00fd544d\">\n",
              "    <div class=\"colab-df-container\">\n",
              "      <div>\n",
              "<style scoped>\n",
              "    .dataframe tbody tr th:only-of-type {\n",
              "        vertical-align: middle;\n",
              "    }\n",
              "\n",
              "    .dataframe tbody tr th {\n",
              "        vertical-align: top;\n",
              "    }\n",
              "\n",
              "    .dataframe thead th {\n",
              "        text-align: right;\n",
              "    }\n",
              "</style>\n",
              "<table border=\"1\" class=\"dataframe\">\n",
              "  <thead>\n",
              "    <tr style=\"text-align: right;\">\n",
              "      <th></th>\n",
              "      <th>Girth</th>\n",
              "      <th>Height</th>\n",
              "      <th>Volume</th>\n",
              "      <th>log_Girth</th>\n",
              "      <th>log_Height</th>\n",
              "      <th>log_Volume</th>\n",
              "    </tr>\n",
              "  </thead>\n",
              "  <tbody>\n",
              "    <tr>\n",
              "      <th>0</th>\n",
              "      <td>8.3</td>\n",
              "      <td>70</td>\n",
              "      <td>10.3</td>\n",
              "      <td>2.116256</td>\n",
              "      <td>4.248495</td>\n",
              "      <td>2.332144</td>\n",
              "    </tr>\n",
              "    <tr>\n",
              "      <th>1</th>\n",
              "      <td>8.6</td>\n",
              "      <td>65</td>\n",
              "      <td>10.3</td>\n",
              "      <td>2.151762</td>\n",
              "      <td>4.174387</td>\n",
              "      <td>2.332144</td>\n",
              "    </tr>\n",
              "    <tr>\n",
              "      <th>2</th>\n",
              "      <td>8.8</td>\n",
              "      <td>63</td>\n",
              "      <td>10.2</td>\n",
              "      <td>2.174752</td>\n",
              "      <td>4.143135</td>\n",
              "      <td>2.322388</td>\n",
              "    </tr>\n",
              "    <tr>\n",
              "      <th>3</th>\n",
              "      <td>10.5</td>\n",
              "      <td>72</td>\n",
              "      <td>16.4</td>\n",
              "      <td>2.351375</td>\n",
              "      <td>4.276666</td>\n",
              "      <td>2.797281</td>\n",
              "    </tr>\n",
              "    <tr>\n",
              "      <th>4</th>\n",
              "      <td>10.7</td>\n",
              "      <td>81</td>\n",
              "      <td>18.8</td>\n",
              "      <td>2.370244</td>\n",
              "      <td>4.394449</td>\n",
              "      <td>2.933857</td>\n",
              "    </tr>\n",
              "  </tbody>\n",
              "</table>\n",
              "</div>\n",
              "      <button class=\"colab-df-convert\" onclick=\"convertToInteractive('df-b8bb96c3-40ec-4431-aa21-980b00fd544d')\"\n",
              "              title=\"Convert this dataframe to an interactive table.\"\n",
              "              style=\"display:none;\">\n",
              "        \n",
              "  <svg xmlns=\"http://www.w3.org/2000/svg\" height=\"24px\"viewBox=\"0 0 24 24\"\n",
              "       width=\"24px\">\n",
              "    <path d=\"M0 0h24v24H0V0z\" fill=\"none\"/>\n",
              "    <path d=\"M18.56 5.44l.94 2.06.94-2.06 2.06-.94-2.06-.94-.94-2.06-.94 2.06-2.06.94zm-11 1L8.5 8.5l.94-2.06 2.06-.94-2.06-.94L8.5 2.5l-.94 2.06-2.06.94zm10 10l.94 2.06.94-2.06 2.06-.94-2.06-.94-.94-2.06-.94 2.06-2.06.94z\"/><path d=\"M17.41 7.96l-1.37-1.37c-.4-.4-.92-.59-1.43-.59-.52 0-1.04.2-1.43.59L10.3 9.45l-7.72 7.72c-.78.78-.78 2.05 0 2.83L4 21.41c.39.39.9.59 1.41.59.51 0 1.02-.2 1.41-.59l7.78-7.78 2.81-2.81c.8-.78.8-2.07 0-2.86zM5.41 20L4 18.59l7.72-7.72 1.47 1.35L5.41 20z\"/>\n",
              "  </svg>\n",
              "      </button>\n",
              "      \n",
              "  <style>\n",
              "    .colab-df-container {\n",
              "      display:flex;\n",
              "      flex-wrap:wrap;\n",
              "      gap: 12px;\n",
              "    }\n",
              "\n",
              "    .colab-df-convert {\n",
              "      background-color: #E8F0FE;\n",
              "      border: none;\n",
              "      border-radius: 50%;\n",
              "      cursor: pointer;\n",
              "      display: none;\n",
              "      fill: #1967D2;\n",
              "      height: 32px;\n",
              "      padding: 0 0 0 0;\n",
              "      width: 32px;\n",
              "    }\n",
              "\n",
              "    .colab-df-convert:hover {\n",
              "      background-color: #E2EBFA;\n",
              "      box-shadow: 0px 1px 2px rgba(60, 64, 67, 0.3), 0px 1px 3px 1px rgba(60, 64, 67, 0.15);\n",
              "      fill: #174EA6;\n",
              "    }\n",
              "\n",
              "    [theme=dark] .colab-df-convert {\n",
              "      background-color: #3B4455;\n",
              "      fill: #D2E3FC;\n",
              "    }\n",
              "\n",
              "    [theme=dark] .colab-df-convert:hover {\n",
              "      background-color: #434B5C;\n",
              "      box-shadow: 0px 1px 3px 1px rgba(0, 0, 0, 0.15);\n",
              "      filter: drop-shadow(0px 1px 2px rgba(0, 0, 0, 0.3));\n",
              "      fill: #FFFFFF;\n",
              "    }\n",
              "  </style>\n",
              "\n",
              "      <script>\n",
              "        const buttonEl =\n",
              "          document.querySelector('#df-b8bb96c3-40ec-4431-aa21-980b00fd544d button.colab-df-convert');\n",
              "        buttonEl.style.display =\n",
              "          google.colab.kernel.accessAllowed ? 'block' : 'none';\n",
              "\n",
              "        async function convertToInteractive(key) {\n",
              "          const element = document.querySelector('#df-b8bb96c3-40ec-4431-aa21-980b00fd544d');\n",
              "          const dataTable =\n",
              "            await google.colab.kernel.invokeFunction('convertToInteractive',\n",
              "                                                     [key], {});\n",
              "          if (!dataTable) return;\n",
              "\n",
              "          const docLinkHtml = 'Like what you see? Visit the ' +\n",
              "            '<a target=\"_blank\" href=https://colab.research.google.com/notebooks/data_table.ipynb>data table notebook</a>'\n",
              "            + ' to learn more about interactive tables.';\n",
              "          element.innerHTML = '';\n",
              "          dataTable['output_type'] = 'display_data';\n",
              "          await google.colab.output.renderOutput(dataTable, element);\n",
              "          const docLink = document.createElement('div');\n",
              "          docLink.innerHTML = docLinkHtml;\n",
              "          element.appendChild(docLink);\n",
              "        }\n",
              "      </script>\n",
              "    </div>\n",
              "  </div>\n",
              "  "
            ]
          },
          "metadata": {},
          "execution_count": 175
        }
      ]
    },
    {
      "cell_type": "code",
      "source": [
        "h = sns.PairGrid(log_trees)\n",
        "h.map_diag(sns.histplot)\n",
        "h.map_offdiag(sns.scatterplot)\n",
        "h.add_legend()"
      ],
      "metadata": {
        "colab": {
          "base_uri": "https://localhost:8080/",
          "height": 957
        },
        "id": "7PCA01zQ5DP8",
        "outputId": "97bd48f0-1a9f-4cee-d635-f0c387ab077b"
      },
      "execution_count": null,
      "outputs": [
        {
          "output_type": "execute_result",
          "data": {
            "text/plain": [
              "<seaborn.axisgrid.PairGrid at 0x7f11ef34bb90>"
            ]
          },
          "metadata": {},
          "execution_count": 176
        },
        {
          "output_type": "display_data",
          "data": {
            "text/plain": [
              "<Figure size 1088x1080 with 42 Axes>"
            ],
            "image/png": "[encoded data removed]"
          },
          "metadata": {
            "needs_background": "light"
          }
        }
      ]
    },
    {
      "cell_type": "code",
      "source": [
        "trans_trees = trees.copy()\n",
        "trans_trees['cone'] = (np.pi*(trees['Girth']/12)**2*trees['Height'])/12\n",
        "trans_trees['cylinder'] = (np.pi*(trees['Girth']/12)**2*trees['Height'])/4\n",
        "trans_trees.head()"
      ],
      "metadata": {
        "colab": {
          "base_uri": "https://localhost:8080/",
          "height": 206
        },
        "id": "-QVMNUd75QPV",
        "outputId": "80ee989c-9bbe-4b4e-95bf-439929f00993"
      },
      "execution_count": null,
      "outputs": [
        {
          "output_type": "execute_result",
          "data": {
            "text/plain": [
              "   Girth  Height  Volume       cone   cylinder\n",
              "0    8.3      70    10.3   8.767189  26.301566\n",
              "1    8.6      65    10.3   8.740100  26.220300\n",
              "2    8.8      63    10.2   8.869763  26.609290\n",
              "3   10.5      72    16.4  14.431691  43.295074\n",
              "4   10.7      81    18.8  16.860044  50.580133"
            ],
            "text/html": [
              "\n",
              "  <div id=\"df-f4ad70cf-50fa-446e-83c0-0ff1297981ed\">\n",
              "    <div class=\"colab-df-container\">\n",
              "      <div>\n",
              "<style scoped>\n",
              "    .dataframe tbody tr th:only-of-type {\n",
              "        vertical-align: middle;\n",
              "    }\n",
              "\n",
              "    .dataframe tbody tr th {\n",
              "        vertical-align: top;\n",
              "    }\n",
              "\n",
              "    .dataframe thead th {\n",
              "        text-align: right;\n",
              "    }\n",
              "</style>\n",
              "<table border=\"1\" class=\"dataframe\">\n",
              "  <thead>\n",
              "    <tr style=\"text-align: right;\">\n",
              "      <th></th>\n",
              "      <th>Girth</th>\n",
              "      <th>Height</th>\n",
              "      <th>Volume</th>\n",
              "      <th>cone</th>\n",
              "      <th>cylinder</th>\n",
              "    </tr>\n",
              "  </thead>\n",
              "  <tbody>\n",
              "    <tr>\n",
              "      <th>0</th>\n",
              "      <td>8.3</td>\n",
              "      <td>70</td>\n",
              "      <td>10.3</td>\n",
              "      <td>8.767189</td>\n",
              "      <td>26.301566</td>\n",
              "    </tr>\n",
              "    <tr>\n",
              "      <th>1</th>\n",
              "      <td>8.6</td>\n",
              "      <td>65</td>\n",
              "      <td>10.3</td>\n",
              "      <td>8.740100</td>\n",
              "      <td>26.220300</td>\n",
              "    </tr>\n",
              "    <tr>\n",
              "      <th>2</th>\n",
              "      <td>8.8</td>\n",
              "      <td>63</td>\n",
              "      <td>10.2</td>\n",
              "      <td>8.869763</td>\n",
              "      <td>26.609290</td>\n",
              "    </tr>\n",
              "    <tr>\n",
              "      <th>3</th>\n",
              "      <td>10.5</td>\n",
              "      <td>72</td>\n",
              "      <td>16.4</td>\n",
              "      <td>14.431691</td>\n",
              "      <td>43.295074</td>\n",
              "    </tr>\n",
              "    <tr>\n",
              "      <th>4</th>\n",
              "      <td>10.7</td>\n",
              "      <td>81</td>\n",
              "      <td>18.8</td>\n",
              "      <td>16.860044</td>\n",
              "      <td>50.580133</td>\n",
              "    </tr>\n",
              "  </tbody>\n",
              "</table>\n",
              "</div>\n",
              "      <button class=\"colab-df-convert\" onclick=\"convertToInteractive('df-f4ad70cf-50fa-446e-83c0-0ff1297981ed')\"\n",
              "              title=\"Convert this dataframe to an interactive table.\"\n",
              "              style=\"display:none;\">\n",
              "        \n",
              "  <svg xmlns=\"http://www.w3.org/2000/svg\" height=\"24px\"viewBox=\"0 0 24 24\"\n",
              "       width=\"24px\">\n",
              "    <path d=\"M0 0h24v24H0V0z\" fill=\"none\"/>\n",
              "    <path d=\"M18.56 5.44l.94 2.06.94-2.06 2.06-.94-2.06-.94-.94-2.06-.94 2.06-2.06.94zm-11 1L8.5 8.5l.94-2.06 2.06-.94-2.06-.94L8.5 2.5l-.94 2.06-2.06.94zm10 10l.94 2.06.94-2.06 2.06-.94-2.06-.94-.94-2.06-.94 2.06-2.06.94z\"/><path d=\"M17.41 7.96l-1.37-1.37c-.4-.4-.92-.59-1.43-.59-.52 0-1.04.2-1.43.59L10.3 9.45l-7.72 7.72c-.78.78-.78 2.05 0 2.83L4 21.41c.39.39.9.59 1.41.59.51 0 1.02-.2 1.41-.59l7.78-7.78 2.81-2.81c.8-.78.8-2.07 0-2.86zM5.41 20L4 18.59l7.72-7.72 1.47 1.35L5.41 20z\"/>\n",
              "  </svg>\n",
              "      </button>\n",
              "      \n",
              "  <style>\n",
              "    .colab-df-container {\n",
              "      display:flex;\n",
              "      flex-wrap:wrap;\n",
              "      gap: 12px;\n",
              "    }\n",
              "\n",
              "    .colab-df-convert {\n",
              "      background-color: #E8F0FE;\n",
              "      border: none;\n",
              "      border-radius: 50%;\n",
              "      cursor: pointer;\n",
              "      display: none;\n",
              "      fill: #1967D2;\n",
              "      height: 32px;\n",
              "      padding: 0 0 0 0;\n",
              "      width: 32px;\n",
              "    }\n",
              "\n",
              "    .colab-df-convert:hover {\n",
              "      background-color: #E2EBFA;\n",
              "      box-shadow: 0px 1px 2px rgba(60, 64, 67, 0.3), 0px 1px 3px 1px rgba(60, 64, 67, 0.15);\n",
              "      fill: #174EA6;\n",
              "    }\n",
              "\n",
              "    [theme=dark] .colab-df-convert {\n",
              "      background-color: #3B4455;\n",
              "      fill: #D2E3FC;\n",
              "    }\n",
              "\n",
              "    [theme=dark] .colab-df-convert:hover {\n",
              "      background-color: #434B5C;\n",
              "      box-shadow: 0px 1px 3px 1px rgba(0, 0, 0, 0.15);\n",
              "      filter: drop-shadow(0px 1px 2px rgba(0, 0, 0, 0.3));\n",
              "      fill: #FFFFFF;\n",
              "    }\n",
              "  </style>\n",
              "\n",
              "      <script>\n",
              "        const buttonEl =\n",
              "          document.querySelector('#df-f4ad70cf-50fa-446e-83c0-0ff1297981ed button.colab-df-convert');\n",
              "        buttonEl.style.display =\n",
              "          google.colab.kernel.accessAllowed ? 'block' : 'none';\n",
              "\n",
              "        async function convertToInteractive(key) {\n",
              "          const element = document.querySelector('#df-f4ad70cf-50fa-446e-83c0-0ff1297981ed');\n",
              "          const dataTable =\n",
              "            await google.colab.kernel.invokeFunction('convertToInteractive',\n",
              "                                                     [key], {});\n",
              "          if (!dataTable) return;\n",
              "\n",
              "          const docLinkHtml = 'Like what you see? Visit the ' +\n",
              "            '<a target=\"_blank\" href=https://colab.research.google.com/notebooks/data_table.ipynb>data table notebook</a>'\n",
              "            + ' to learn more about interactive tables.';\n",
              "          element.innerHTML = '';\n",
              "          dataTable['output_type'] = 'display_data';\n",
              "          await google.colab.output.renderOutput(dataTable, element);\n",
              "          const docLink = document.createElement('div');\n",
              "          docLink.innerHTML = docLinkHtml;\n",
              "          element.appendChild(docLink);\n",
              "        }\n",
              "      </script>\n",
              "    </div>\n",
              "  </div>\n",
              "  "
            ]
          },
          "metadata": {},
          "execution_count": 177
        }
      ]
    },
    {
      "cell_type": "code",
      "source": [
        "i = sns.PairGrid(trans_trees)\n",
        "i.map_diag(sns.histplot)\n",
        "i.map_offdiag(sns.scatterplot)"
      ],
      "metadata": {
        "colab": {
          "base_uri": "https://localhost:8080/",
          "height": 916
        },
        "id": "GOffzPk46Nds",
        "outputId": "43ad86ac-e68f-40a6-fee6-390e83e8d4d4"
      },
      "execution_count": null,
      "outputs": [
        {
          "output_type": "execute_result",
          "data": {
            "text/plain": [
              "<seaborn.axisgrid.PairGrid at 0x7f11ef414910>"
            ]
          },
          "metadata": {},
          "execution_count": 178
        },
        {
          "output_type": "display_data",
          "data": {
            "text/plain": [
              "<Figure size 900x900 with 30 Axes>"
            ],
            "image/png": "[encoded data removed]"
          },
          "metadata": {
            "needs_background": "light"
          }
        }
      ]
    },
    {
      "cell_type": "markdown",
      "source": [
        "## Classical Regression analysis approach\n",
        "How we did it last term ..."
      ],
      "metadata": {
        "id": "vvmwNkMf8vtd"
      }
    },
    {
      "cell_type": "markdown",
      "source": [
        "### Model 0 lm()"
      ],
      "metadata": {
        "id": "kFKoiC5b8zdG"
      }
    },
    {
      "cell_type": "code",
      "source": [
        "trees_m0a = smf.ols(formula='log_Volume ~ log_Girth + log_Height', data=log_trees).fit()\n",
        "print(trees_m0a.summary())\n"
      ],
      "metadata": {
        "colab": {
          "base_uri": "https://localhost:8080/"
        },
        "id": "NEdWBnCT808l",
        "outputId": "ba27e5da-7caf-44ee-b2ce-938fde6982bb"
      },
      "execution_count": null,
      "outputs": [
        {
          "output_type": "stream",
          "name": "stdout",
          "text": [
            "                            OLS Regression Results                            \n",
            "==============================================================================\n",
            "Dep. Variable:             log_Volume   R-squared:                       0.978\n",
            "Model:                            OLS   Adj. R-squared:                  0.976\n",
            "Method:                 Least Squares   F-statistic:                     613.2\n",
            "Date:                Thu, 04 Aug 2022   Prob (F-statistic):           7.62e-24\n",
            "Time:                        11:00:19   Log-Likelihood:                 35.356\n",
            "No. Observations:                  31   AIC:                            -64.71\n",
            "Df Residuals:                      28   BIC:                            -60.41\n",
            "Df Model:                           2                                         \n",
            "Covariance Type:            nonrobust                                         \n",
            "==============================================================================\n",
            "                 coef    std err          t      P>|t|      [0.025      0.975]\n",
            "------------------------------------------------------------------------------\n",
            "Intercept     -6.6316      0.800     -8.292      0.000      -8.270      -4.993\n",
            "log_Girth      1.9826      0.075     26.432      0.000       1.829       2.136\n",
            "log_Height     1.1171      0.204      5.464      0.000       0.698       1.536\n",
            "==============================================================================\n",
            "Omnibus:                        1.045   Durbin-Watson:                   2.073\n",
            "Prob(Omnibus):                  0.593   Jarque-Bera (JB):                0.932\n",
            "Skew:                          -0.393   Prob(JB):                        0.628\n",
            "Kurtosis:                       2.679   Cond. No.                         289.\n",
            "==============================================================================\n",
            "\n",
            "Warnings:\n",
            "[1] Standard Errors assume that the covariance matrix of the errors is correctly specified.\n"
          ]
        }
      ]
    },
    {
      "cell_type": "markdown",
      "source": [
        "If we understand given problem, we can find good linear relation with some advanced transformation of independent varialbes."
      ],
      "metadata": {
        "id": "y-rjuMFh9b2t"
      }
    },
    {
      "cell_type": "code",
      "source": [
        "trees_m0b = smf.ols(formula='Volume ~ cone - 1', data=trans_trees).fit()\n",
        "print(trees_m0b.summary())"
      ],
      "metadata": {
        "colab": {
          "base_uri": "https://localhost:8080/"
        },
        "id": "l-Ezbil99d4d",
        "outputId": "22b8e0d1-2350-411f-828e-df99ff6d2360"
      },
      "execution_count": null,
      "outputs": [
        {
          "output_type": "stream",
          "name": "stdout",
          "text": [
            "                                 OLS Regression Results                                \n",
            "=======================================================================================\n",
            "Dep. Variable:                 Volume   R-squared (uncentered):                   0.995\n",
            "Model:                            OLS   Adj. R-squared (uncentered):              0.995\n",
            "Method:                 Least Squares   F-statistic:                              5996.\n",
            "Date:                Thu, 04 Aug 2022   Prob (F-statistic):                    4.14e-36\n",
            "Time:                        11:00:19   Log-Likelihood:                         -71.322\n",
            "No. Observations:                  31   AIC:                                      144.6\n",
            "Df Residuals:                      30   BIC:                                      146.1\n",
            "Df Model:                           1                                                  \n",
            "Covariance Type:            nonrobust                                                  \n",
            "==============================================================================\n",
            "                 coef    std err          t      P>|t|      [0.025      0.975]\n",
            "------------------------------------------------------------------------------\n",
            "cone           1.1595      0.015     77.436      0.000       1.129       1.190\n",
            "==============================================================================\n",
            "Omnibus:                        0.579   Durbin-Watson:                   2.032\n",
            "Prob(Omnibus):                  0.749   Jarque-Bera (JB):                0.656\n",
            "Skew:                           0.115   Prob(JB):                        0.720\n",
            "Kurtosis:                       2.325   Cond. No.                         1.00\n",
            "==============================================================================\n",
            "\n",
            "Warnings:\n",
            "[1] Standard Errors assume that the covariance matrix of the errors is correctly specified.\n"
          ]
        }
      ]
    },
    {
      "cell_type": "code",
      "source": [
        "trees_m0c = smf.ols(formula='Volume ~ cylinder - 1', data=trans_trees).fit()\n",
        "print(trees_m0c.summary())"
      ],
      "metadata": {
        "colab": {
          "base_uri": "https://localhost:8080/"
        },
        "id": "YSMETLXR9zI-",
        "outputId": "649dfb0e-d1de-4e43-bf2a-0aa144513497"
      },
      "execution_count": null,
      "outputs": [
        {
          "output_type": "stream",
          "name": "stdout",
          "text": [
            "                                 OLS Regression Results                                \n",
            "=======================================================================================\n",
            "Dep. Variable:                 Volume   R-squared (uncentered):                   0.995\n",
            "Model:                            OLS   Adj. R-squared (uncentered):              0.995\n",
            "Method:                 Least Squares   F-statistic:                              5996.\n",
            "Date:                Thu, 04 Aug 2022   Prob (F-statistic):                    4.14e-36\n",
            "Time:                        11:00:19   Log-Likelihood:                         -71.322\n",
            "No. Observations:                  31   AIC:                                      144.6\n",
            "Df Residuals:                      30   BIC:                                      146.1\n",
            "Df Model:                           1                                                  \n",
            "Covariance Type:            nonrobust                                                  \n",
            "==============================================================================\n",
            "                 coef    std err          t      P>|t|      [0.025      0.975]\n",
            "------------------------------------------------------------------------------\n",
            "cylinder       0.3865      0.005     77.436      0.000       0.376       0.397\n",
            "==============================================================================\n",
            "Omnibus:                        0.579   Durbin-Watson:                   2.032\n",
            "Prob(Omnibus):                  0.749   Jarque-Bera (JB):                0.656\n",
            "Skew:                           0.115   Prob(JB):                        0.720\n",
            "Kurtosis:                       2.325   Cond. No.                         1.00\n",
            "==============================================================================\n",
            "\n",
            "Warnings:\n",
            "[1] Standard Errors assume that the covariance matrix of the errors is correctly specified.\n"
          ]
        }
      ]
    },
    {
      "cell_type": "markdown",
      "source": [
        "## GLM approach\n",
        "Since response is continuous nonnegative variable, we use `family = gamma`. In the first approach we try canonical link function, which is for gamma distribution: $g(\\mu) = 1/\\mu$."
      ],
      "metadata": {
        "id": "aJZ1jE3Z97aF"
      }
    },
    {
      "cell_type": "markdown",
      "source": [
        "### Model 1 (_m1)"
      ],
      "metadata": {
        "id": "z0bJlp1b9-fv"
      }
    },
    {
      "cell_type": "code",
      "source": [
        "trees_m1 = smf.glm('Volume ~  Girth + Height', data=trees, family=sm.families.Gamma()).fit()\n",
        "print(trees_m1.summary())"
      ],
      "metadata": {
        "colab": {
          "base_uri": "https://localhost:8080/"
        },
        "id": "UHq_6OED96yO",
        "outputId": "6ac86990-6ca7-4377-c145-76319a3e4ecc"
      },
      "execution_count": null,
      "outputs": [
        {
          "output_type": "stream",
          "name": "stdout",
          "text": [
            "                 Generalized Linear Model Regression Results                  \n",
            "==============================================================================\n",
            "Dep. Variable:                 Volume   No. Observations:                   31\n",
            "Model:                            GLM   Df Residuals:                       28\n",
            "Model Family:                   Gamma   Df Model:                            2\n",
            "Link Function:          inverse_power   Scale:                        0.041737\n",
            "Method:                          IRLS   Log-Likelihood:                -96.435\n",
            "Date:                Thu, 04 Aug 2022   Deviance:                       1.3038\n",
            "Time:                        11:00:19   Pearson chi2:                     1.17\n",
            "No. Iterations:                     9                                         \n",
            "Covariance Type:            nonrobust                                         \n",
            "==============================================================================\n",
            "                 coef    std err          z      P>|z|      [0.025      0.975]\n",
            "------------------------------------------------------------------------------\n",
            "Intercept      0.1119      0.017      6.721      0.000       0.079       0.145\n",
            "Girth         -0.0039      0.000     -8.492      0.000      -0.005      -0.003\n",
            "Height        -0.0003      0.000     -0.989      0.323      -0.001       0.000\n",
            "==============================================================================\n"
          ]
        },
        {
          "output_type": "stream",
          "name": "stderr",
          "text": [
            "/usr/local/lib/python3.7/dist-packages/statsmodels/genmod/generalized_linear_model.py:273: DomainWarning: The inverse_power link function does not respect the domain of the Gamma family.\n",
            "  DomainWarning)\n"
          ]
        }
      ]
    },
    {
      "cell_type": "markdown",
      "source": [
        "### Questions:\n",
        "\n",
        "* What can you say from the `summary()` about the model 0? \n",
        "* Do you understand to all numbers and do you know how they were computed?"
      ],
      "metadata": {
        "id": "wEQ17XLA-WBt"
      }
    },
    {
      "cell_type": "markdown",
      "source": [
        "### Tasks\n",
        "\n",
        "* Compute different types of residuals.\n",
        "* Plot residuals vs. fitted values or regressors\n",
        "* Validate used ling function with working responses.\n",
        "* Validate used regressors with Component+Residual, ie Partial Residual Plots"
      ],
      "metadata": {
        "id": "Fimq0m1Y-XaM"
      }
    },
    {
      "cell_type": "markdown",
      "source": [
        "## Residuals\n",
        "Consider  the GLM from for the observations $Y_1,\\ldots,Y_n$ and assume $a_i(\\phi) = a_i \\phi$, where $a_i>0$ are known for $i=1,\\ldots, n$.\n",
        "\n",
        "\n",
        "\n",
        "From estimation of GLMs as Locally Like Linear Regression by using IRLS we can obtain weights $W$ with  *working responses* and compute *working residuals*.\n",
        "\n",
        "**Working residuals**\n",
        "$$e_i = z_i − \\hat{\\eta_i}$$\n",
        "\n",
        "**Pearson residuals**\n",
        "\n",
        "$$ {r_{i}^{P}\n",
        "=\\frac{y_{i}-\\hat{\\mu}_{i}}{\\sqrt{a_i\\, v(\\hat\\mu_i)}}},\\qquad\n",
        "v(\\mu_i)= b^{\\prime\\prime}(\\theta_i) \\mbox{ for } \\theta_i = \\theta(\\mu_i),\n",
        "$$\n",
        "\n",
        "where $v(\\mu_i)$ is called a variance function and $V[Y_i] = a_i \\phi v(\\mu_i)$.\n",
        "The Pearson residual is the response residual scaled with with the estimated standard deviation for the observation.\n",
        "\n",
        "\n",
        "**Pearson standartized residuals**\n",
        "\n",
        "$$\n",
        "{r_{i}^{PS}\n",
        "=}\\frac{y_{i}-\\hat{\\mu}_{i}}{\\sqrt{\\hat{V}[Y_{i}](1-h_{ii})}}\n",
        "=\\frac{y_{i}-\\hat{\\mu}_{i}}{\\sqrt{a_i \\hat\\phi \\, v(\\hat\\mu_i)(1-h_{ii})}}\n",
        "={\\frac{r_{i}^{P}}{\\sqrt{\\hat\\phi(1-h_{ii})}}},\n",
        "$$\n",
        "\n",
        "**Anscombe residuals**\n",
        "\n",
        "For models, where $a_i(\\phi)=1$ \n",
        "$$\n",
        "{r_{i}^{A}=\\frac{A(y_{i})-A(\\hat{\\mu}_{i})}{\\sqrt{\\hat{V}[A(y_{i})]}}},\\quad i=1,...,n\n",
        "$$\n",
        "where\n",
        "$$\n",
        "A(y)=\\int_{-\\infty}^{y}\\frac{d\\mu}{v^{1/3}(\\mu)}.\n",
        "$$\n",
        "\n",
        "**Deviance residual**\n",
        "\n",
        "The deviance residual for the i’th observation is defined as\n",
        "\n",
        "$$\n",
        "{r_{i}^{D}=\\mbox{sign} (y_{i}-\\hat{\\mu}_{i})\\sqrt{D_{i}}},\\quad i=1,...,n, \n",
        "$$\n",
        "where\n",
        "$$ \n",
        "D=\\sum_{i=1}^{n}(r_{i}^{D})^{2} = \\sum_{i=1}^{n}D_{i}=\n",
        "\\sum_{i=1}^{n}\\frac{2}{a_{i}}\\left[y_{i}(\\tilde{\\theta}_{i}-\n",
        "\\hat{\\theta}_{i})-\\left(b(\\tilde{\\theta}_{i})-b(\\hat{\\theta}_{i})\\right)\\right].\n",
        "$$\n",
        "\n",
        "\n",
        "**Deviance standartized residual**\n",
        "$$\n",
        "{r_{i}^{DS}=\\frac{r_{i}^{D}}{\\sqrt{\\hat\\phi(1-h_{ii})}}},\\quad i=1,...,n,\n",
        "$$\n",
        "\n",
        "The deviance residuals are the generalization of the residuals from the classical linear model. They are constructed using the analogy between the deviance and the RSS."
      ],
      "metadata": {
        "id": "8vVHwqTm-Y_O"
      }
    },
    {
      "cell_type": "markdown",
      "source": [
        "Gamma model is necessarily heteroskedastic, because the variance is  proportional to $μ^2$."
      ],
      "metadata": {
        "id": "ekVIu4u4-dpc"
      }
    },
    {
      "cell_type": "code",
      "source": [
        "# Residuals\n",
        "expected = trees_m1.predict(exog=trees) # missing!\n",
        "print(expected)\n",
        "estimates = trees_m1.fittedvalues\n",
        "v = estimates**2 # for gamma distribution used in our model with trees dataset\n",
        "# If we have Poisson distribution, v = estiamtes, Bernouli v = estiamtes(1-estiamtes), ...."
      ],
      "metadata": {
        "colab": {
          "base_uri": "https://localhost:8080/"
        },
        "id": "I0qlBi8S-c7n",
        "outputId": "c857e8e3-a4dc-4254-844d-2503f5872458"
      },
      "execution_count": null,
      "outputs": [
        {
          "output_type": "stream",
          "name": "stdout",
          "text": [
            "0      16.441717\n",
            "1      16.396985\n",
            "2      16.463283\n",
            "3      19.339542\n",
            "4      20.608704\n",
            "5      21.008883\n",
            "6      19.470138\n",
            "7      20.426392\n",
            "8      21.172750\n",
            "9      20.757069\n",
            "10     21.405133\n",
            "11     21.218229\n",
            "12     21.218229\n",
            "13     20.907585\n",
            "14     22.194254\n",
            "15     23.915288\n",
            "16     25.723138\n",
            "17     26.991631\n",
            "18     25.318968\n",
            "19     24.404388\n",
            "20     27.430254\n",
            "21     28.456088\n",
            "22     28.109667\n",
            "23     33.047014\n",
            "24     36.030513\n",
            "25     43.886498\n",
            "26     46.000320\n",
            "27     48.277761\n",
            "28     49.204089\n",
            "29     49.204089\n",
            "30    120.271403\n",
            "dtype: float64\n"
          ]
        }
      ]
    },
    {
      "cell_type": "code",
      "source": [
        "# Response residuals\n",
        "r_response1 = trees_m1.resid_response\n",
        "r_response2 = expected - estimates\n",
        "df = pd.DataFrame(r_response1)\n",
        "df['r_response2'] = r_response2\n",
        "df"
      ],
      "metadata": {
        "colab": {
          "base_uri": "https://localhost:8080/",
          "height": 1000
        },
        "id": "1HLn3XxU_R8d",
        "outputId": "cfe16d13-b102-45a1-b0ab-a4c5407e551b"
      },
      "execution_count": null,
      "outputs": [
        {
          "output_type": "execute_result",
          "data": {
            "text/plain": [
              "            0  r_response2\n",
              "0   -6.141717          0.0\n",
              "1   -6.096985          0.0\n",
              "2   -6.263283          0.0\n",
              "3   -2.939542          0.0\n",
              "4   -1.808704          0.0\n",
              "5   -1.308883          0.0\n",
              "6   -3.870138          0.0\n",
              "7   -2.226392          0.0\n",
              "8    1.427250          0.0\n",
              "9   -0.857069          0.0\n",
              "10   2.794867          0.0\n",
              "11  -0.218229          0.0\n",
              "12   0.181771          0.0\n",
              "13   0.392415          0.0\n",
              "14  -3.094254          0.0\n",
              "15  -1.715288          0.0\n",
              "16   8.076862          0.0\n",
              "17   0.408369          0.0\n",
              "18   0.381032          0.0\n",
              "19   0.495612          0.0\n",
              "20   7.069746          0.0\n",
              "21   3.243912          0.0\n",
              "22   8.190333          0.0\n",
              "23   5.252986          0.0\n",
              "24   6.569487          0.0\n",
              "25  11.513502          0.0\n",
              "26   9.699680          0.0\n",
              "27  10.022239          0.0\n",
              "28   2.295911          0.0\n",
              "29   1.795911          0.0\n",
              "30 -43.271403          0.0"
            ],
            "text/html": [
              "\n",
              "  <div id=\"df-fc284483-1218-4d4d-80f3-fbe51cf08d30\">\n",
              "    <div class=\"colab-df-container\">\n",
              "      <div>\n",
              "<style scoped>\n",
              "    .dataframe tbody tr th:only-of-type {\n",
              "        vertical-align: middle;\n",
              "    }\n",
              "\n",
              "    .dataframe tbody tr th {\n",
              "        vertical-align: top;\n",
              "    }\n",
              "\n",
              "    .dataframe thead th {\n",
              "        text-align: right;\n",
              "    }\n",
              "</style>\n",
              "<table border=\"1\" class=\"dataframe\">\n",
              "  <thead>\n",
              "    <tr style=\"text-align: right;\">\n",
              "      <th></th>\n",
              "      <th>0</th>\n",
              "      <th>r_response2</th>\n",
              "    </tr>\n",
              "  </thead>\n",
              "  <tbody>\n",
              "    <tr>\n",
              "      <th>0</th>\n",
              "      <td>-6.141717</td>\n",
              "      <td>0.0</td>\n",
              "    </tr>\n",
              "    <tr>\n",
              "      <th>1</th>\n",
              "      <td>-6.096985</td>\n",
              "      <td>0.0</td>\n",
              "    </tr>\n",
              "    <tr>\n",
              "      <th>2</th>\n",
              "      <td>-6.263283</td>\n",
              "      <td>0.0</td>\n",
              "    </tr>\n",
              "    <tr>\n",
              "      <th>3</th>\n",
              "      <td>-2.939542</td>\n",
              "      <td>0.0</td>\n",
              "    </tr>\n",
              "    <tr>\n",
              "      <th>4</th>\n",
              "      <td>-1.808704</td>\n",
              "      <td>0.0</td>\n",
              "    </tr>\n",
              "    <tr>\n",
              "      <th>5</th>\n",
              "      <td>-1.308883</td>\n",
              "      <td>0.0</td>\n",
              "    </tr>\n",
              "    <tr>\n",
              "      <th>6</th>\n",
              "      <td>-3.870138</td>\n",
              "      <td>0.0</td>\n",
              "    </tr>\n",
              "    <tr>\n",
              "      <th>7</th>\n",
              "      <td>-2.226392</td>\n",
              "      <td>0.0</td>\n",
              "    </tr>\n",
              "    <tr>\n",
              "      <th>8</th>\n",
              "      <td>1.427250</td>\n",
              "      <td>0.0</td>\n",
              "    </tr>\n",
              "    <tr>\n",
              "      <th>9</th>\n",
              "      <td>-0.857069</td>\n",
              "      <td>0.0</td>\n",
              "    </tr>\n",
              "    <tr>\n",
              "      <th>10</th>\n",
              "      <td>2.794867</td>\n",
              "      <td>0.0</td>\n",
              "    </tr>\n",
              "    <tr>\n",
              "      <th>11</th>\n",
              "      <td>-0.218229</td>\n",
              "      <td>0.0</td>\n",
              "    </tr>\n",
              "    <tr>\n",
              "      <th>12</th>\n",
              "      <td>0.181771</td>\n",
              "      <td>0.0</td>\n",
              "    </tr>\n",
              "    <tr>\n",
              "      <th>13</th>\n",
              "      <td>0.392415</td>\n",
              "      <td>0.0</td>\n",
              "    </tr>\n",
              "    <tr>\n",
              "      <th>14</th>\n",
              "      <td>-3.094254</td>\n",
              "      <td>0.0</td>\n",
              "    </tr>\n",
              "    <tr>\n",
              "      <th>15</th>\n",
              "      <td>-1.715288</td>\n",
              "      <td>0.0</td>\n",
              "    </tr>\n",
              "    <tr>\n",
              "      <th>16</th>\n",
              "      <td>8.076862</td>\n",
              "      <td>0.0</td>\n",
              "    </tr>\n",
              "    <tr>\n",
              "      <th>17</th>\n",
              "      <td>0.408369</td>\n",
              "      <td>0.0</td>\n",
              "    </tr>\n",
              "    <tr>\n",
              "      <th>18</th>\n",
              "      <td>0.381032</td>\n",
              "      <td>0.0</td>\n",
              "    </tr>\n",
              "    <tr>\n",
              "      <th>19</th>\n",
              "      <td>0.495612</td>\n",
              "      <td>0.0</td>\n",
              "    </tr>\n",
              "    <tr>\n",
              "      <th>20</th>\n",
              "      <td>7.069746</td>\n",
              "      <td>0.0</td>\n",
              "    </tr>\n",
              "    <tr>\n",
              "      <th>21</th>\n",
              "      <td>3.243912</td>\n",
              "      <td>0.0</td>\n",
              "    </tr>\n",
              "    <tr>\n",
              "      <th>22</th>\n",
              "      <td>8.190333</td>\n",
              "      <td>0.0</td>\n",
              "    </tr>\n",
              "    <tr>\n",
              "      <th>23</th>\n",
              "      <td>5.252986</td>\n",
              "      <td>0.0</td>\n",
              "    </tr>\n",
              "    <tr>\n",
              "      <th>24</th>\n",
              "      <td>6.569487</td>\n",
              "      <td>0.0</td>\n",
              "    </tr>\n",
              "    <tr>\n",
              "      <th>25</th>\n",
              "      <td>11.513502</td>\n",
              "      <td>0.0</td>\n",
              "    </tr>\n",
              "    <tr>\n",
              "      <th>26</th>\n",
              "      <td>9.699680</td>\n",
              "      <td>0.0</td>\n",
              "    </tr>\n",
              "    <tr>\n",
              "      <th>27</th>\n",
              "      <td>10.022239</td>\n",
              "      <td>0.0</td>\n",
              "    </tr>\n",
              "    <tr>\n",
              "      <th>28</th>\n",
              "      <td>2.295911</td>\n",
              "      <td>0.0</td>\n",
              "    </tr>\n",
              "    <tr>\n",
              "      <th>29</th>\n",
              "      <td>1.795911</td>\n",
              "      <td>0.0</td>\n",
              "    </tr>\n",
              "    <tr>\n",
              "      <th>30</th>\n",
              "      <td>-43.271403</td>\n",
              "      <td>0.0</td>\n",
              "    </tr>\n",
              "  </tbody>\n",
              "</table>\n",
              "</div>\n",
              "      <button class=\"colab-df-convert\" onclick=\"convertToInteractive('df-fc284483-1218-4d4d-80f3-fbe51cf08d30')\"\n",
              "              title=\"Convert this dataframe to an interactive table.\"\n",
              "              style=\"display:none;\">\n",
              "        \n",
              "  <svg xmlns=\"http://www.w3.org/2000/svg\" height=\"24px\"viewBox=\"0 0 24 24\"\n",
              "       width=\"24px\">\n",
              "    <path d=\"M0 0h24v24H0V0z\" fill=\"none\"/>\n",
              "    <path d=\"M18.56 5.44l.94 2.06.94-2.06 2.06-.94-2.06-.94-.94-2.06-.94 2.06-2.06.94zm-11 1L8.5 8.5l.94-2.06 2.06-.94-2.06-.94L8.5 2.5l-.94 2.06-2.06.94zm10 10l.94 2.06.94-2.06 2.06-.94-2.06-.94-.94-2.06-.94 2.06-2.06.94z\"/><path d=\"M17.41 7.96l-1.37-1.37c-.4-.4-.92-.59-1.43-.59-.52 0-1.04.2-1.43.59L10.3 9.45l-7.72 7.72c-.78.78-.78 2.05 0 2.83L4 21.41c.39.39.9.59 1.41.59.51 0 1.02-.2 1.41-.59l7.78-7.78 2.81-2.81c.8-.78.8-2.07 0-2.86zM5.41 20L4 18.59l7.72-7.72 1.47 1.35L5.41 20z\"/>\n",
              "  </svg>\n",
              "      </button>\n",
              "      \n",
              "  <style>\n",
              "    .colab-df-container {\n",
              "      display:flex;\n",
              "      flex-wrap:wrap;\n",
              "      gap: 12px;\n",
              "    }\n",
              "\n",
              "    .colab-df-convert {\n",
              "      background-color: #E8F0FE;\n",
              "      border: none;\n",
              "      border-radius: 50%;\n",
              "      cursor: pointer;\n",
              "      display: none;\n",
              "      fill: #1967D2;\n",
              "      height: 32px;\n",
              "      padding: 0 0 0 0;\n",
              "      width: 32px;\n",
              "    }\n",
              "\n",
              "    .colab-df-convert:hover {\n",
              "      background-color: #E2EBFA;\n",
              "      box-shadow: 0px 1px 2px rgba(60, 64, 67, 0.3), 0px 1px 3px 1px rgba(60, 64, 67, 0.15);\n",
              "      fill: #174EA6;\n",
              "    }\n",
              "\n",
              "    [theme=dark] .colab-df-convert {\n",
              "      background-color: #3B4455;\n",
              "      fill: #D2E3FC;\n",
              "    }\n",
              "\n",
              "    [theme=dark] .colab-df-convert:hover {\n",
              "      background-color: #434B5C;\n",
              "      box-shadow: 0px 1px 3px 1px rgba(0, 0, 0, 0.15);\n",
              "      filter: drop-shadow(0px 1px 2px rgba(0, 0, 0, 0.3));\n",
              "      fill: #FFFFFF;\n",
              "    }\n",
              "  </style>\n",
              "\n",
              "      <script>\n",
              "        const buttonEl =\n",
              "          document.querySelector('#df-fc284483-1218-4d4d-80f3-fbe51cf08d30 button.colab-df-convert');\n",
              "        buttonEl.style.display =\n",
              "          google.colab.kernel.accessAllowed ? 'block' : 'none';\n",
              "\n",
              "        async function convertToInteractive(key) {\n",
              "          const element = document.querySelector('#df-fc284483-1218-4d4d-80f3-fbe51cf08d30');\n",
              "          const dataTable =\n",
              "            await google.colab.kernel.invokeFunction('convertToInteractive',\n",
              "                                                     [key], {});\n",
              "          if (!dataTable) return;\n",
              "\n",
              "          const docLinkHtml = 'Like what you see? Visit the ' +\n",
              "            '<a target=\"_blank\" href=https://colab.research.google.com/notebooks/data_table.ipynb>data table notebook</a>'\n",
              "            + ' to learn more about interactive tables.';\n",
              "          element.innerHTML = '';\n",
              "          dataTable['output_type'] = 'display_data';\n",
              "          await google.colab.output.renderOutput(dataTable, element);\n",
              "          const docLink = document.createElement('div');\n",
              "          docLink.innerHTML = docLinkHtml;\n",
              "          element.appendChild(docLink);\n",
              "        }\n",
              "      </script>\n",
              "    </div>\n",
              "  </div>\n",
              "  "
            ]
          },
          "metadata": {},
          "execution_count": 184
        }
      ]
    },
    {
      "cell_type": "code",
      "source": [
        "# Working residuals\n",
        "r_working1 = trees_m1.resid_working\n",
        "r_working2 = (expected - estimates) / v\n",
        "df['r_working1'] = r_working1\n",
        "df['r_working2'] = r_working2\n",
        "df"
      ],
      "metadata": {
        "colab": {
          "base_uri": "https://localhost:8080/",
          "height": 1000
        },
        "id": "17gp1mugBFe4",
        "outputId": "ffb4e090-9a9e-47bf-bd57-f434e2da6a2e"
      },
      "execution_count": null,
      "outputs": [
        {
          "output_type": "execute_result",
          "data": {
            "text/plain": [
              "            0  r_response2  r_working1  r_working2\n",
              "0   -6.141717          0.0    0.022719         0.0\n",
              "1   -6.096985          0.0    0.022677         0.0\n",
              "2   -6.263283          0.0    0.023108         0.0\n",
              "3   -2.939542          0.0    0.007859         0.0\n",
              "4   -1.808704          0.0    0.004259         0.0\n",
              "5   -1.308883          0.0    0.002965         0.0\n",
              "6   -3.870138          0.0    0.010209         0.0\n",
              "7   -2.226392          0.0    0.005336         0.0\n",
              "8    1.427250          0.0   -0.003184         0.0\n",
              "9   -0.857069          0.0    0.001989         0.0\n",
              "10   2.794867          0.0   -0.006100         0.0\n",
              "11  -0.218229          0.0    0.000485         0.0\n",
              "12   0.181771          0.0   -0.000404         0.0\n",
              "13   0.392415          0.0   -0.000898         0.0\n",
              "14  -3.094254          0.0    0.006282         0.0\n",
              "15  -1.715288          0.0    0.002999         0.0\n",
              "16   8.076862          0.0   -0.012207         0.0\n",
              "17   0.408369          0.0   -0.000561         0.0\n",
              "18   0.381032          0.0   -0.000594         0.0\n",
              "19   0.495612          0.0   -0.000832         0.0\n",
              "20   7.069746          0.0   -0.009396         0.0\n",
              "21   3.243912          0.0   -0.004006         0.0\n",
              "22   8.190333          0.0   -0.010365         0.0\n",
              "23   5.252986          0.0   -0.004810         0.0\n",
              "24   6.569487          0.0   -0.005060         0.0\n",
              "25  11.513502          0.0   -0.005978         0.0\n",
              "26   9.699680          0.0   -0.004584         0.0\n",
              "27  10.022239          0.0   -0.004300         0.0\n",
              "28   2.295911          0.0   -0.000948         0.0\n",
              "29   1.795911          0.0   -0.000742         0.0\n",
              "30 -43.271403          0.0    0.002991         0.0"
            ],
            "text/html": [
              "\n",
              "  <div id=\"df-784658ce-60af-4b86-bcaa-d928282b3730\">\n",
              "    <div class=\"colab-df-container\">\n",
              "      <div>\n",
              "<style scoped>\n",
              "    .dataframe tbody tr th:only-of-type {\n",
              "        vertical-align: middle;\n",
              "    }\n",
              "\n",
              "    .dataframe tbody tr th {\n",
              "        vertical-align: top;\n",
              "    }\n",
              "\n",
              "    .dataframe thead th {\n",
              "        text-align: right;\n",
              "    }\n",
              "</style>\n",
              "<table border=\"1\" class=\"dataframe\">\n",
              "  <thead>\n",
              "    <tr style=\"text-align: right;\">\n",
              "      <th></th>\n",
              "      <th>0</th>\n",
              "      <th>r_response2</th>\n",
              "      <th>r_working1</th>\n",
              "      <th>r_working2</th>\n",
              "    </tr>\n",
              "  </thead>\n",
              "  <tbody>\n",
              "    <tr>\n",
              "      <th>0</th>\n",
              "      <td>-6.141717</td>\n",
              "      <td>0.0</td>\n",
              "      <td>0.022719</td>\n",
              "      <td>0.0</td>\n",
              "    </tr>\n",
              "    <tr>\n",
              "      <th>1</th>\n",
              "      <td>-6.096985</td>\n",
              "      <td>0.0</td>\n",
              "      <td>0.022677</td>\n",
              "      <td>0.0</td>\n",
              "    </tr>\n",
              "    <tr>\n",
              "      <th>2</th>\n",
              "      <td>-6.263283</td>\n",
              "      <td>0.0</td>\n",
              "      <td>0.023108</td>\n",
              "      <td>0.0</td>\n",
              "    </tr>\n",
              "    <tr>\n",
              "      <th>3</th>\n",
              "      <td>-2.939542</td>\n",
              "      <td>0.0</td>\n",
              "      <td>0.007859</td>\n",
              "      <td>0.0</td>\n",
              "    </tr>\n",
              "    <tr>\n",
              "      <th>4</th>\n",
              "      <td>-1.808704</td>\n",
              "      <td>0.0</td>\n",
              "      <td>0.004259</td>\n",
              "      <td>0.0</td>\n",
              "    </tr>\n",
              "    <tr>\n",
              "      <th>5</th>\n",
              "      <td>-1.308883</td>\n",
              "      <td>0.0</td>\n",
              "      <td>0.002965</td>\n",
              "      <td>0.0</td>\n",
              "    </tr>\n",
              "    <tr>\n",
              "      <th>6</th>\n",
              "      <td>-3.870138</td>\n",
              "      <td>0.0</td>\n",
              "      <td>0.010209</td>\n",
              "      <td>0.0</td>\n",
              "    </tr>\n",
              "    <tr>\n",
              "      <th>7</th>\n",
              "      <td>-2.226392</td>\n",
              "      <td>0.0</td>\n",
              "      <td>0.005336</td>\n",
              "      <td>0.0</td>\n",
              "    </tr>\n",
              "    <tr>\n",
              "      <th>8</th>\n",
              "      <td>1.427250</td>\n",
              "      <td>0.0</td>\n",
              "      <td>-0.003184</td>\n",
              "      <td>0.0</td>\n",
              "    </tr>\n",
              "    <tr>\n",
              "      <th>9</th>\n",
              "      <td>-0.857069</td>\n",
              "      <td>0.0</td>\n",
              "      <td>0.001989</td>\n",
              "      <td>0.0</td>\n",
              "    </tr>\n",
              "    <tr>\n",
              "      <th>10</th>\n",
              "      <td>2.794867</td>\n",
              "      <td>0.0</td>\n",
              "      <td>-0.006100</td>\n",
              "      <td>0.0</td>\n",
              "    </tr>\n",
              "    <tr>\n",
              "      <th>11</th>\n",
              "      <td>-0.218229</td>\n",
              "      <td>0.0</td>\n",
              "      <td>0.000485</td>\n",
              "      <td>0.0</td>\n",
              "    </tr>\n",
              "    <tr>\n",
              "      <th>12</th>\n",
              "      <td>0.181771</td>\n",
              "      <td>0.0</td>\n",
              "      <td>-0.000404</td>\n",
              "      <td>0.0</td>\n",
              "    </tr>\n",
              "    <tr>\n",
              "      <th>13</th>\n",
              "      <td>0.392415</td>\n",
              "      <td>0.0</td>\n",
              "      <td>-0.000898</td>\n",
              "      <td>0.0</td>\n",
              "    </tr>\n",
              "    <tr>\n",
              "      <th>14</th>\n",
              "      <td>-3.094254</td>\n",
              "      <td>0.0</td>\n",
              "      <td>0.006282</td>\n",
              "      <td>0.0</td>\n",
              "    </tr>\n",
              "    <tr>\n",
              "      <th>15</th>\n",
              "      <td>-1.715288</td>\n",
              "      <td>0.0</td>\n",
              "      <td>0.002999</td>\n",
              "      <td>0.0</td>\n",
              "    </tr>\n",
              "    <tr>\n",
              "      <th>16</th>\n",
              "      <td>8.076862</td>\n",
              "      <td>0.0</td>\n",
              "      <td>-0.012207</td>\n",
              "      <td>0.0</td>\n",
              "    </tr>\n",
              "    <tr>\n",
              "      <th>17</th>\n",
              "      <td>0.408369</td>\n",
              "      <td>0.0</td>\n",
              "      <td>-0.000561</td>\n",
              "      <td>0.0</td>\n",
              "    </tr>\n",
              "    <tr>\n",
              "      <th>18</th>\n",
              "      <td>0.381032</td>\n",
              "      <td>0.0</td>\n",
              "      <td>-0.000594</td>\n",
              "      <td>0.0</td>\n",
              "    </tr>\n",
              "    <tr>\n",
              "      <th>19</th>\n",
              "      <td>0.495612</td>\n",
              "      <td>0.0</td>\n",
              "      <td>-0.000832</td>\n",
              "      <td>0.0</td>\n",
              "    </tr>\n",
              "    <tr>\n",
              "      <th>20</th>\n",
              "      <td>7.069746</td>\n",
              "      <td>0.0</td>\n",
              "      <td>-0.009396</td>\n",
              "      <td>0.0</td>\n",
              "    </tr>\n",
              "    <tr>\n",
              "      <th>21</th>\n",
              "      <td>3.243912</td>\n",
              "      <td>0.0</td>\n",
              "      <td>-0.004006</td>\n",
              "      <td>0.0</td>\n",
              "    </tr>\n",
              "    <tr>\n",
              "      <th>22</th>\n",
              "      <td>8.190333</td>\n",
              "      <td>0.0</td>\n",
              "      <td>-0.010365</td>\n",
              "      <td>0.0</td>\n",
              "    </tr>\n",
              "    <tr>\n",
              "      <th>23</th>\n",
              "      <td>5.252986</td>\n",
              "      <td>0.0</td>\n",
              "      <td>-0.004810</td>\n",
              "      <td>0.0</td>\n",
              "    </tr>\n",
              "    <tr>\n",
              "      <th>24</th>\n",
              "      <td>6.569487</td>\n",
              "      <td>0.0</td>\n",
              "      <td>-0.005060</td>\n",
              "      <td>0.0</td>\n",
              "    </tr>\n",
              "    <tr>\n",
              "      <th>25</th>\n",
              "      <td>11.513502</td>\n",
              "      <td>0.0</td>\n",
              "      <td>-0.005978</td>\n",
              "      <td>0.0</td>\n",
              "    </tr>\n",
              "    <tr>\n",
              "      <th>26</th>\n",
              "      <td>9.699680</td>\n",
              "      <td>0.0</td>\n",
              "      <td>-0.004584</td>\n",
              "      <td>0.0</td>\n",
              "    </tr>\n",
              "    <tr>\n",
              "      <th>27</th>\n",
              "      <td>10.022239</td>\n",
              "      <td>0.0</td>\n",
              "      <td>-0.004300</td>\n",
              "      <td>0.0</td>\n",
              "    </tr>\n",
              "    <tr>\n",
              "      <th>28</th>\n",
              "      <td>2.295911</td>\n",
              "      <td>0.0</td>\n",
              "      <td>-0.000948</td>\n",
              "      <td>0.0</td>\n",
              "    </tr>\n",
              "    <tr>\n",
              "      <th>29</th>\n",
              "      <td>1.795911</td>\n",
              "      <td>0.0</td>\n",
              "      <td>-0.000742</td>\n",
              "      <td>0.0</td>\n",
              "    </tr>\n",
              "    <tr>\n",
              "      <th>30</th>\n",
              "      <td>-43.271403</td>\n",
              "      <td>0.0</td>\n",
              "      <td>0.002991</td>\n",
              "      <td>0.0</td>\n",
              "    </tr>\n",
              "  </tbody>\n",
              "</table>\n",
              "</div>\n",
              "      <button class=\"colab-df-convert\" onclick=\"convertToInteractive('df-784658ce-60af-4b86-bcaa-d928282b3730')\"\n",
              "              title=\"Convert this dataframe to an interactive table.\"\n",
              "              style=\"display:none;\">\n",
              "        \n",
              "  <svg xmlns=\"http://www.w3.org/2000/svg\" height=\"24px\"viewBox=\"0 0 24 24\"\n",
              "       width=\"24px\">\n",
              "    <path d=\"M0 0h24v24H0V0z\" fill=\"none\"/>\n",
              "    <path d=\"M18.56 5.44l.94 2.06.94-2.06 2.06-.94-2.06-.94-.94-2.06-.94 2.06-2.06.94zm-11 1L8.5 8.5l.94-2.06 2.06-.94-2.06-.94L8.5 2.5l-.94 2.06-2.06.94zm10 10l.94 2.06.94-2.06 2.06-.94-2.06-.94-.94-2.06-.94 2.06-2.06.94z\"/><path d=\"M17.41 7.96l-1.37-1.37c-.4-.4-.92-.59-1.43-.59-.52 0-1.04.2-1.43.59L10.3 9.45l-7.72 7.72c-.78.78-.78 2.05 0 2.83L4 21.41c.39.39.9.59 1.41.59.51 0 1.02-.2 1.41-.59l7.78-7.78 2.81-2.81c.8-.78.8-2.07 0-2.86zM5.41 20L4 18.59l7.72-7.72 1.47 1.35L5.41 20z\"/>\n",
              "  </svg>\n",
              "      </button>\n",
              "      \n",
              "  <style>\n",
              "    .colab-df-container {\n",
              "      display:flex;\n",
              "      flex-wrap:wrap;\n",
              "      gap: 12px;\n",
              "    }\n",
              "\n",
              "    .colab-df-convert {\n",
              "      background-color: #E8F0FE;\n",
              "      border: none;\n",
              "      border-radius: 50%;\n",
              "      cursor: pointer;\n",
              "      display: none;\n",
              "      fill: #1967D2;\n",
              "      height: 32px;\n",
              "      padding: 0 0 0 0;\n",
              "      width: 32px;\n",
              "    }\n",
              "\n",
              "    .colab-df-convert:hover {\n",
              "      background-color: #E2EBFA;\n",
              "      box-shadow: 0px 1px 2px rgba(60, 64, 67, 0.3), 0px 1px 3px 1px rgba(60, 64, 67, 0.15);\n",
              "      fill: #174EA6;\n",
              "    }\n",
              "\n",
              "    [theme=dark] .colab-df-convert {\n",
              "      background-color: #3B4455;\n",
              "      fill: #D2E3FC;\n",
              "    }\n",
              "\n",
              "    [theme=dark] .colab-df-convert:hover {\n",
              "      background-color: #434B5C;\n",
              "      box-shadow: 0px 1px 3px 1px rgba(0, 0, 0, 0.15);\n",
              "      filter: drop-shadow(0px 1px 2px rgba(0, 0, 0, 0.3));\n",
              "      fill: #FFFFFF;\n",
              "    }\n",
              "  </style>\n",
              "\n",
              "      <script>\n",
              "        const buttonEl =\n",
              "          document.querySelector('#df-784658ce-60af-4b86-bcaa-d928282b3730 button.colab-df-convert');\n",
              "        buttonEl.style.display =\n",
              "          google.colab.kernel.accessAllowed ? 'block' : 'none';\n",
              "\n",
              "        async function convertToInteractive(key) {\n",
              "          const element = document.querySelector('#df-784658ce-60af-4b86-bcaa-d928282b3730');\n",
              "          const dataTable =\n",
              "            await google.colab.kernel.invokeFunction('convertToInteractive',\n",
              "                                                     [key], {});\n",
              "          if (!dataTable) return;\n",
              "\n",
              "          const docLinkHtml = 'Like what you see? Visit the ' +\n",
              "            '<a target=\"_blank\" href=https://colab.research.google.com/notebooks/data_table.ipynb>data table notebook</a>'\n",
              "            + ' to learn more about interactive tables.';\n",
              "          element.innerHTML = '';\n",
              "          dataTable['output_type'] = 'display_data';\n",
              "          await google.colab.output.renderOutput(dataTable, element);\n",
              "          const docLink = document.createElement('div');\n",
              "          docLink.innerHTML = docLinkHtml;\n",
              "          element.appendChild(docLink);\n",
              "        }\n",
              "      </script>\n",
              "    </div>\n",
              "  </div>\n",
              "  "
            ]
          },
          "metadata": {},
          "execution_count": 185
        }
      ]
    },
    {
      "cell_type": "code",
      "source": [
        "# Pearson residuals\n",
        "r_pearson1 = trees_m1.resid_pearson # Pearson residuals from resid() function\n",
        "r_pearson2 = (expected - estimates) / np.sqrt(v)    # Pearson residuals from above definitionf for gamma\n",
        "df['r_pearson1'] = r_pearson1\n",
        "df['r_pearson2'] = r_pearson2\n",
        "df"
      ],
      "metadata": {
        "colab": {
          "base_uri": "https://localhost:8080/",
          "height": 1000
        },
        "id": "zicJVir_B8Tf",
        "outputId": "5d7359b2-5c5c-40fe-ae42-45031dc5ad27"
      },
      "execution_count": null,
      "outputs": [
        {
          "output_type": "execute_result",
          "data": {
            "text/plain": [
              "            0  r_response2  r_working1  r_working2  r_pearson1  r_pearson2\n",
              "0   -6.141717          0.0    0.022719         0.0   -0.373545         0.0\n",
              "1   -6.096985          0.0    0.022677         0.0   -0.371836         0.0\n",
              "2   -6.263283          0.0    0.023108         0.0   -0.380439         0.0\n",
              "3   -2.939542          0.0    0.007859         0.0   -0.151996         0.0\n",
              "4   -1.808704          0.0    0.004259         0.0   -0.087764         0.0\n",
              "5   -1.308883          0.0    0.002965         0.0   -0.062301         0.0\n",
              "6   -3.870138          0.0    0.010209         0.0   -0.198773         0.0\n",
              "7   -2.226392          0.0    0.005336         0.0   -0.108996         0.0\n",
              "8    1.427250          0.0   -0.003184         0.0    0.067410         0.0\n",
              "9   -0.857069          0.0    0.001989         0.0   -0.041290         0.0\n",
              "10   2.794867          0.0   -0.006100         0.0    0.130570         0.0\n",
              "11  -0.218229          0.0    0.000485         0.0   -0.010285         0.0\n",
              "12   0.181771          0.0   -0.000404         0.0    0.008567         0.0\n",
              "13   0.392415          0.0   -0.000898         0.0    0.018769         0.0\n",
              "14  -3.094254          0.0    0.006282         0.0   -0.139417         0.0\n",
              "15  -1.715288          0.0    0.002999         0.0   -0.071724         0.0\n",
              "16   8.076862          0.0   -0.012207         0.0    0.313992         0.0\n",
              "17   0.408369          0.0   -0.000561         0.0    0.015129         0.0\n",
              "18   0.381032          0.0   -0.000594         0.0    0.015049         0.0\n",
              "19   0.495612          0.0   -0.000832         0.0    0.020308         0.0\n",
              "20   7.069746          0.0   -0.009396         0.0    0.257735         0.0\n",
              "21   3.243912          0.0   -0.004006         0.0    0.113997         0.0\n",
              "22   8.190333          0.0   -0.010365         0.0    0.291371         0.0\n",
              "23   5.252986          0.0   -0.004810         0.0    0.158955         0.0\n",
              "24   6.569487          0.0   -0.005060         0.0    0.182331         0.0\n",
              "25  11.513502          0.0   -0.005978         0.0    0.262347         0.0\n",
              "26   9.699680          0.0   -0.004584         0.0    0.210861         0.0\n",
              "27  10.022239          0.0   -0.004300         0.0    0.207595         0.0\n",
              "28   2.295911          0.0   -0.000948         0.0    0.046661         0.0\n",
              "29   1.795911          0.0   -0.000742         0.0    0.036499         0.0\n",
              "30 -43.271403          0.0    0.002991         0.0   -0.359781         0.0"
            ],
            "text/html": [
              "\n",
              "  <div id=\"df-e767453e-229d-4f14-b35d-b1bba9e5b2ec\">\n",
              "    <div class=\"colab-df-container\">\n",
              "      <div>\n",
              "<style scoped>\n",
              "    .dataframe tbody tr th:only-of-type {\n",
              "        vertical-align: middle;\n",
              "    }\n",
              "\n",
              "    .dataframe tbody tr th {\n",
              "        vertical-align: top;\n",
              "    }\n",
              "\n",
              "    .dataframe thead th {\n",
              "        text-align: right;\n",
              "    }\n",
              "</style>\n",
              "<table border=\"1\" class=\"dataframe\">\n",
              "  <thead>\n",
              "    <tr style=\"text-align: right;\">\n",
              "      <th></th>\n",
              "      <th>0</th>\n",
              "      <th>r_response2</th>\n",
              "      <th>r_working1</th>\n",
              "      <th>r_working2</th>\n",
              "      <th>r_pearson1</th>\n",
              "      <th>r_pearson2</th>\n",
              "    </tr>\n",
              "  </thead>\n",
              "  <tbody>\n",
              "    <tr>\n",
              "      <th>0</th>\n",
              "      <td>-6.141717</td>\n",
              "      <td>0.0</td>\n",
              "      <td>0.022719</td>\n",
              "      <td>0.0</td>\n",
              "      <td>-0.373545</td>\n",
              "      <td>0.0</td>\n",
              "    </tr>\n",
              "    <tr>\n",
              "      <th>1</th>\n",
              "      <td>-6.096985</td>\n",
              "      <td>0.0</td>\n",
              "      <td>0.022677</td>\n",
              "      <td>0.0</td>\n",
              "      <td>-0.371836</td>\n",
              "      <td>0.0</td>\n",
              "    </tr>\n",
              "    <tr>\n",
              "      <th>2</th>\n",
              "      <td>-6.263283</td>\n",
              "      <td>0.0</td>\n",
              "      <td>0.023108</td>\n",
              "      <td>0.0</td>\n",
              "      <td>-0.380439</td>\n",
              "      <td>0.0</td>\n",
              "    </tr>\n",
              "    <tr>\n",
              "      <th>3</th>\n",
              "      <td>-2.939542</td>\n",
              "      <td>0.0</td>\n",
              "      <td>0.007859</td>\n",
              "      <td>0.0</td>\n",
              "      <td>-0.151996</td>\n",
              "      <td>0.0</td>\n",
              "    </tr>\n",
              "    <tr>\n",
              "      <th>4</th>\n",
              "      <td>-1.808704</td>\n",
              "      <td>0.0</td>\n",
              "      <td>0.004259</td>\n",
              "      <td>0.0</td>\n",
              "      <td>-0.087764</td>\n",
              "      <td>0.0</td>\n",
              "    </tr>\n",
              "    <tr>\n",
              "      <th>5</th>\n",
              "      <td>-1.308883</td>\n",
              "      <td>0.0</td>\n",
              "      <td>0.002965</td>\n",
              "      <td>0.0</td>\n",
              "      <td>-0.062301</td>\n",
              "      <td>0.0</td>\n",
              "    </tr>\n",
              "    <tr>\n",
              "      <th>6</th>\n",
              "      <td>-3.870138</td>\n",
              "      <td>0.0</td>\n",
              "      <td>0.010209</td>\n",
              "      <td>0.0</td>\n",
              "      <td>-0.198773</td>\n",
              "      <td>0.0</td>\n",
              "    </tr>\n",
              "    <tr>\n",
              "      <th>7</th>\n",
              "      <td>-2.226392</td>\n",
              "      <td>0.0</td>\n",
              "      <td>0.005336</td>\n",
              "      <td>0.0</td>\n",
              "      <td>-0.108996</td>\n",
              "      <td>0.0</td>\n",
              "    </tr>\n",
              "    <tr>\n",
              "      <th>8</th>\n",
              "      <td>1.427250</td>\n",
              "      <td>0.0</td>\n",
              "      <td>-0.003184</td>\n",
              "      <td>0.0</td>\n",
              "      <td>0.067410</td>\n",
              "      <td>0.0</td>\n",
              "    </tr>\n",
              "    <tr>\n",
              "      <th>9</th>\n",
              "      <td>-0.857069</td>\n",
              "      <td>0.0</td>\n",
              "      <td>0.001989</td>\n",
              "      <td>0.0</td>\n",
              "      <td>-0.041290</td>\n",
              "      <td>0.0</td>\n",
              "    </tr>\n",
              "    <tr>\n",
              "      <th>10</th>\n",
              "      <td>2.794867</td>\n",
              "      <td>0.0</td>\n",
              "      <td>-0.006100</td>\n",
              "      <td>0.0</td>\n",
              "      <td>0.130570</td>\n",
              "      <td>0.0</td>\n",
              "    </tr>\n",
              "    <tr>\n",
              "      <th>11</th>\n",
              "      <td>-0.218229</td>\n",
              "      <td>0.0</td>\n",
              "      <td>0.000485</td>\n",
              "      <td>0.0</td>\n",
              "      <td>-0.010285</td>\n",
              "      <td>0.0</td>\n",
              "    </tr>\n",
              "    <tr>\n",
              "      <th>12</th>\n",
              "      <td>0.181771</td>\n",
              "      <td>0.0</td>\n",
              "      <td>-0.000404</td>\n",
              "      <td>0.0</td>\n",
              "      <td>0.008567</td>\n",
              "      <td>0.0</td>\n",
              "    </tr>\n",
              "    <tr>\n",
              "      <th>13</th>\n",
              "      <td>0.392415</td>\n",
              "      <td>0.0</td>\n",
              "      <td>-0.000898</td>\n",
              "      <td>0.0</td>\n",
              "      <td>0.018769</td>\n",
              "      <td>0.0</td>\n",
              "    </tr>\n",
              "    <tr>\n",
              "      <th>14</th>\n",
              "      <td>-3.094254</td>\n",
              "      <td>0.0</td>\n",
              "      <td>0.006282</td>\n",
              "      <td>0.0</td>\n",
              "      <td>-0.139417</td>\n",
              "      <td>0.0</td>\n",
              "    </tr>\n",
              "    <tr>\n",
              "      <th>15</th>\n",
              "      <td>-1.715288</td>\n",
              "      <td>0.0</td>\n",
              "      <td>0.002999</td>\n",
              "      <td>0.0</td>\n",
              "      <td>-0.071724</td>\n",
              "      <td>0.0</td>\n",
              "    </tr>\n",
              "    <tr>\n",
              "      <th>16</th>\n",
              "      <td>8.076862</td>\n",
              "      <td>0.0</td>\n",
              "      <td>-0.012207</td>\n",
              "      <td>0.0</td>\n",
              "      <td>0.313992</td>\n",
              "      <td>0.0</td>\n",
              "    </tr>\n",
              "    <tr>\n",
              "      <th>17</th>\n",
              "      <td>0.408369</td>\n",
              "      <td>0.0</td>\n",
              "      <td>-0.000561</td>\n",
              "      <td>0.0</td>\n",
              "      <td>0.015129</td>\n",
              "      <td>0.0</td>\n",
              "    </tr>\n",
              "    <tr>\n",
              "      <th>18</th>\n",
              "      <td>0.381032</td>\n",
              "      <td>0.0</td>\n",
              "      <td>-0.000594</td>\n",
              "      <td>0.0</td>\n",
              "      <td>0.015049</td>\n",
              "      <td>0.0</td>\n",
              "    </tr>\n",
              "    <tr>\n",
              "      <th>19</th>\n",
              "      <td>0.495612</td>\n",
              "      <td>0.0</td>\n",
              "      <td>-0.000832</td>\n",
              "      <td>0.0</td>\n",
              "      <td>0.020308</td>\n",
              "      <td>0.0</td>\n",
              "    </tr>\n",
              "    <tr>\n",
              "      <th>20</th>\n",
              "      <td>7.069746</td>\n",
              "      <td>0.0</td>\n",
              "      <td>-0.009396</td>\n",
              "      <td>0.0</td>\n",
              "      <td>0.257735</td>\n",
              "      <td>0.0</td>\n",
              "    </tr>\n",
              "    <tr>\n",
              "      <th>21</th>\n",
              "      <td>3.243912</td>\n",
              "      <td>0.0</td>\n",
              "      <td>-0.004006</td>\n",
              "      <td>0.0</td>\n",
              "      <td>0.113997</td>\n",
              "      <td>0.0</td>\n",
              "    </tr>\n",
              "    <tr>\n",
              "      <th>22</th>\n",
              "      <td>8.190333</td>\n",
              "      <td>0.0</td>\n",
              "      <td>-0.010365</td>\n",
              "      <td>0.0</td>\n",
              "      <td>0.291371</td>\n",
              "      <td>0.0</td>\n",
              "    </tr>\n",
              "    <tr>\n",
              "      <th>23</th>\n",
              "      <td>5.252986</td>\n",
              "      <td>0.0</td>\n",
              "      <td>-0.004810</td>\n",
              "      <td>0.0</td>\n",
              "      <td>0.158955</td>\n",
              "      <td>0.0</td>\n",
              "    </tr>\n",
              "    <tr>\n",
              "      <th>24</th>\n",
              "      <td>6.569487</td>\n",
              "      <td>0.0</td>\n",
              "      <td>-0.005060</td>\n",
              "      <td>0.0</td>\n",
              "      <td>0.182331</td>\n",
              "      <td>0.0</td>\n",
              "    </tr>\n",
              "    <tr>\n",
              "      <th>25</th>\n",
              "      <td>11.513502</td>\n",
              "      <td>0.0</td>\n",
              "      <td>-0.005978</td>\n",
              "      <td>0.0</td>\n",
              "      <td>0.262347</td>\n",
              "      <td>0.0</td>\n",
              "    </tr>\n",
              "    <tr>\n",
              "      <th>26</th>\n",
              "      <td>9.699680</td>\n",
              "      <td>0.0</td>\n",
              "      <td>-0.004584</td>\n",
              "      <td>0.0</td>\n",
              "      <td>0.210861</td>\n",
              "      <td>0.0</td>\n",
              "    </tr>\n",
              "    <tr>\n",
              "      <th>27</th>\n",
              "      <td>10.022239</td>\n",
              "      <td>0.0</td>\n",
              "      <td>-0.004300</td>\n",
              "      <td>0.0</td>\n",
              "      <td>0.207595</td>\n",
              "      <td>0.0</td>\n",
              "    </tr>\n",
              "    <tr>\n",
              "      <th>28</th>\n",
              "      <td>2.295911</td>\n",
              "      <td>0.0</td>\n",
              "      <td>-0.000948</td>\n",
              "      <td>0.0</td>\n",
              "      <td>0.046661</td>\n",
              "      <td>0.0</td>\n",
              "    </tr>\n",
              "    <tr>\n",
              "      <th>29</th>\n",
              "      <td>1.795911</td>\n",
              "      <td>0.0</td>\n",
              "      <td>-0.000742</td>\n",
              "      <td>0.0</td>\n",
              "      <td>0.036499</td>\n",
              "      <td>0.0</td>\n",
              "    </tr>\n",
              "    <tr>\n",
              "      <th>30</th>\n",
              "      <td>-43.271403</td>\n",
              "      <td>0.0</td>\n",
              "      <td>0.002991</td>\n",
              "      <td>0.0</td>\n",
              "      <td>-0.359781</td>\n",
              "      <td>0.0</td>\n",
              "    </tr>\n",
              "  </tbody>\n",
              "</table>\n",
              "</div>\n",
              "      <button class=\"colab-df-convert\" onclick=\"convertToInteractive('df-e767453e-229d-4f14-b35d-b1bba9e5b2ec')\"\n",
              "              title=\"Convert this dataframe to an interactive table.\"\n",
              "              style=\"display:none;\">\n",
              "        \n",
              "  <svg xmlns=\"http://www.w3.org/2000/svg\" height=\"24px\"viewBox=\"0 0 24 24\"\n",
              "       width=\"24px\">\n",
              "    <path d=\"M0 0h24v24H0V0z\" fill=\"none\"/>\n",
              "    <path d=\"M18.56 5.44l.94 2.06.94-2.06 2.06-.94-2.06-.94-.94-2.06-.94 2.06-2.06.94zm-11 1L8.5 8.5l.94-2.06 2.06-.94-2.06-.94L8.5 2.5l-.94 2.06-2.06.94zm10 10l.94 2.06.94-2.06 2.06-.94-2.06-.94-.94-2.06-.94 2.06-2.06.94z\"/><path d=\"M17.41 7.96l-1.37-1.37c-.4-.4-.92-.59-1.43-.59-.52 0-1.04.2-1.43.59L10.3 9.45l-7.72 7.72c-.78.78-.78 2.05 0 2.83L4 21.41c.39.39.9.59 1.41.59.51 0 1.02-.2 1.41-.59l7.78-7.78 2.81-2.81c.8-.78.8-2.07 0-2.86zM5.41 20L4 18.59l7.72-7.72 1.47 1.35L5.41 20z\"/>\n",
              "  </svg>\n",
              "      </button>\n",
              "      \n",
              "  <style>\n",
              "    .colab-df-container {\n",
              "      display:flex;\n",
              "      flex-wrap:wrap;\n",
              "      gap: 12px;\n",
              "    }\n",
              "\n",
              "    .colab-df-convert {\n",
              "      background-color: #E8F0FE;\n",
              "      border: none;\n",
              "      border-radius: 50%;\n",
              "      cursor: pointer;\n",
              "      display: none;\n",
              "      fill: #1967D2;\n",
              "      height: 32px;\n",
              "      padding: 0 0 0 0;\n",
              "      width: 32px;\n",
              "    }\n",
              "\n",
              "    .colab-df-convert:hover {\n",
              "      background-color: #E2EBFA;\n",
              "      box-shadow: 0px 1px 2px rgba(60, 64, 67, 0.3), 0px 1px 3px 1px rgba(60, 64, 67, 0.15);\n",
              "      fill: #174EA6;\n",
              "    }\n",
              "\n",
              "    [theme=dark] .colab-df-convert {\n",
              "      background-color: #3B4455;\n",
              "      fill: #D2E3FC;\n",
              "    }\n",
              "\n",
              "    [theme=dark] .colab-df-convert:hover {\n",
              "      background-color: #434B5C;\n",
              "      box-shadow: 0px 1px 3px 1px rgba(0, 0, 0, 0.15);\n",
              "      filter: drop-shadow(0px 1px 2px rgba(0, 0, 0, 0.3));\n",
              "      fill: #FFFFFF;\n",
              "    }\n",
              "  </style>\n",
              "\n",
              "      <script>\n",
              "        const buttonEl =\n",
              "          document.querySelector('#df-e767453e-229d-4f14-b35d-b1bba9e5b2ec button.colab-df-convert');\n",
              "        buttonEl.style.display =\n",
              "          google.colab.kernel.accessAllowed ? 'block' : 'none';\n",
              "\n",
              "        async function convertToInteractive(key) {\n",
              "          const element = document.querySelector('#df-e767453e-229d-4f14-b35d-b1bba9e5b2ec');\n",
              "          const dataTable =\n",
              "            await google.colab.kernel.invokeFunction('convertToInteractive',\n",
              "                                                     [key], {});\n",
              "          if (!dataTable) return;\n",
              "\n",
              "          const docLinkHtml = 'Like what you see? Visit the ' +\n",
              "            '<a target=\"_blank\" href=https://colab.research.google.com/notebooks/data_table.ipynb>data table notebook</a>'\n",
              "            + ' to learn more about interactive tables.';\n",
              "          element.innerHTML = '';\n",
              "          dataTable['output_type'] = 'display_data';\n",
              "          await google.colab.output.renderOutput(dataTable, element);\n",
              "          const docLink = document.createElement('div');\n",
              "          docLink.innerHTML = docLinkHtml;\n",
              "          element.appendChild(docLink);\n",
              "        }\n",
              "      </script>\n",
              "    </div>\n",
              "  </div>\n",
              "  "
            ]
          },
          "metadata": {},
          "execution_count": 186
        }
      ]
    },
    {
      "cell_type": "code",
      "source": [
        "# missing\n",
        "''' in R:\n",
        "# Pearson standartized residuals\n",
        "r_pearson_std1 <- rstandard(trees_m1, type = \"pearson\") \n",
        "\n",
        "# compute estimation of dispersion parametr phi by hand and from summary function\n",
        "w <- weights(trees_m1, type=\"working\")\n",
        "e <- residuals(trees_m1, type=\"working\")\n",
        "phi_est_hand <- sum(w * e^2) /df.residual(trees_m1)\n",
        "phi_est <- summary(trees_m1)$dispersion # Pearsons estiamtes of phi\n",
        "cbind(phi_est_hand, phi_est)\n",
        "# Pearson standartized residuals by hand\n",
        "r_pearson_std2 <- r_pearson2 / sqrt(phi_est*(1 - hatvalues(trees_m1)) )\n",
        "head(cbind(r_pearson_std1,r_pearson_std2))'''\n"
      ],
      "metadata": {
        "id": "9HWpwwJeCItV",
        "colab": {
          "base_uri": "https://localhost:8080/",
          "height": 105
        },
        "outputId": "18d42a05-e701-4546-c75f-64189bdba3c8"
      },
      "execution_count": null,
      "outputs": [
        {
          "output_type": "execute_result",
          "data": {
            "text/plain": [
              "' in R:\\n# Pearson standartized residuals\\nr_pearson_std1 <- rstandard(trees_m1, type = \"pearson\") \\n\\n# compute estimation of dispersion parametr phi by hand and from summary function\\nw <- weights(trees_m1, type=\"working\")\\ne <- residuals(trees_m1, type=\"working\")\\nphi_est_hand <- sum(w * e^2) /df.residual(trees_m1)\\nphi_est <- summary(trees_m1)$dispersion # Pearsons estiamtes of phi\\ncbind(phi_est_hand, phi_est)\\n# Pearson standartized residuals by hand\\nr_pearson_std2 <- r_pearson2 / sqrt(phi_est*(1 - hatvalues(trees_m1)) )\\nhead(cbind(r_pearson_std1,r_pearson_std2))'"
            ],
            "application/vnd.google.colaboratory.intrinsic+json": {
              "type": "string"
            }
          },
          "metadata": {},
          "execution_count": 187
        }
      ]
    },
    {
      "cell_type": "code",
      "source": [
        "trees_modeled = trees.copy()"
      ],
      "metadata": {
        "id": "5KL46GolXGLp"
      },
      "execution_count": null,
      "outputs": []
    },
    {
      "cell_type": "code",
      "source": [
        "!pip install plotnine"
      ],
      "metadata": {
        "colab": {
          "base_uri": "https://localhost:8080/"
        },
        "id": "j9vIxcIgHm-f",
        "outputId": "a0c0ab78-f25e-46d6-d759-76457cfc82a1"
      },
      "execution_count": null,
      "outputs": [
        {
          "output_type": "stream",
          "name": "stdout",
          "text": [
            "Looking in indexes: https://pypi.org/simple, https://us-python.pkg.dev/colab-wheels/public/simple/\n",
            "Requirement already satisfied: plotnine in /usr/local/lib/python3.7/dist-packages (0.6.0)\n",
            "Requirement already satisfied: patsy>=0.4.1 in /usr/local/lib/python3.7/dist-packages (from plotnine) (0.5.2)\n",
            "Requirement already satisfied: statsmodels>=0.9.0 in /usr/local/lib/python3.7/dist-packages (from plotnine) (0.10.2)\n",
            "Requirement already satisfied: mizani>=0.6.0 in /usr/local/lib/python3.7/dist-packages (from plotnine) (0.6.0)\n",
            "Requirement already satisfied: scipy>=1.2.0 in /usr/local/lib/python3.7/dist-packages (from plotnine) (1.7.3)\n",
            "Requirement already satisfied: numpy>=1.16.0 in /usr/local/lib/python3.7/dist-packages (from plotnine) (1.21.6)\n",
            "Requirement already satisfied: descartes>=1.1.0 in /usr/local/lib/python3.7/dist-packages (from plotnine) (1.1.0)\n",
            "Requirement already satisfied: matplotlib>=3.1.1 in /usr/local/lib/python3.7/dist-packages (from plotnine) (3.2.2)\n",
            "Requirement already satisfied: pandas>=0.25.0 in /usr/local/lib/python3.7/dist-packages (from plotnine) (1.3.5)\n",
            "Requirement already satisfied: cycler>=0.10 in /usr/local/lib/python3.7/dist-packages (from matplotlib>=3.1.1->plotnine) (0.11.0)\n",
            "Requirement already satisfied: python-dateutil>=2.1 in /usr/local/lib/python3.7/dist-packages (from matplotlib>=3.1.1->plotnine) (2.8.2)\n",
            "Requirement already satisfied: kiwisolver>=1.0.1 in /usr/local/lib/python3.7/dist-packages (from matplotlib>=3.1.1->plotnine) (1.4.4)\n",
            "Requirement already satisfied: pyparsing!=2.0.4,!=2.1.2,!=2.1.6,>=2.0.1 in /usr/local/lib/python3.7/dist-packages (from matplotlib>=3.1.1->plotnine) (3.0.9)\n",
            "Requirement already satisfied: typing-extensions in /usr/local/lib/python3.7/dist-packages (from kiwisolver>=1.0.1->matplotlib>=3.1.1->plotnine) (4.1.1)\n",
            "Requirement already satisfied: palettable in /usr/local/lib/python3.7/dist-packages (from mizani>=0.6.0->plotnine) (3.3.0)\n",
            "Requirement already satisfied: pytz>=2017.3 in /usr/local/lib/python3.7/dist-packages (from pandas>=0.25.0->plotnine) (2022.1)\n",
            "Requirement already satisfied: six in /usr/local/lib/python3.7/dist-packages (from patsy>=0.4.1->plotnine) (1.15.0)\n"
          ]
        }
      ]
    },
    {
      "cell_type": "code",
      "source": [
        "from plotnine import ggplot, aes, geom_line, geom_smooth, geom_abline, geom_point, labs, geom_qq_line, geom_qq\n",
        "\n",
        "%matplotlib inline"
      ],
      "metadata": {
        "id": "Wh49QouCGKah"
      },
      "execution_count": null,
      "outputs": []
    },
    {
      "cell_type": "code",
      "source": [
        "trees['fitted'] = trees_m1.fittedvalues"
      ],
      "metadata": {
        "id": "KfK8xeMsKQzF"
      },
      "execution_count": null,
      "outputs": []
    },
    {
      "cell_type": "code",
      "source": [
        "ggplot(trees, aes(x = 'Volume', y = 'fitted')) + \\\n",
        "      geom_smooth()+ \\\n",
        "      geom_point() + \\\n",
        "      geom_abline(intercept = 0, slope = 1) \\"
      ],
      "metadata": {
        "colab": {
          "base_uri": "https://localhost:8080/",
          "height": 524
        },
        "id": "WQ2gj8y_JgT1",
        "outputId": "76948eaf-472e-48f6-e457-6bd0253ed644"
      },
      "execution_count": null,
      "outputs": [
        {
          "output_type": "stream",
          "name": "stderr",
          "text": [
            "/usr/local/lib/python3.7/dist-packages/plotnine/stats/smoothers.py:168: PlotnineWarning: Confidence intervals are not yet implementedfor lowess smoothings.\n",
            "  \"for lowess smoothings.\", PlotnineWarning)\n"
          ]
        },
        {
          "output_type": "display_data",
          "data": {
            "text/plain": [
              "<Figure size 640x480 with 1 Axes>"
            ],
            "image/png": "[encoded data removed]"
          },
          "metadata": {}
        },
        {
          "output_type": "execute_result",
          "data": {
            "text/plain": [
              "<ggplot: (8732186628177)>"
            ]
          },
          "metadata": {},
          "execution_count": 193
        }
      ]
    },
    {
      "cell_type": "markdown",
      "source": [
        "Plots of the residuals against the fitted values $\\mu$ and the residuals against\n",
        "$x_j$ are the main tools for diagnostic analysis. Using deviance residuals is preferred in these plots because they have ap\u0002proximately constant variance."
      ],
      "metadata": {
        "id": "yMMIz-pTKgB2"
      }
    },
    {
      "cell_type": "code",
      "source": [
        "# missing"
      ],
      "metadata": {
        "id": "GdpM3nU9Khim"
      },
      "execution_count": null,
      "outputs": []
    },
    {
      "cell_type": "markdown",
      "source": [
        "If the evidence shows problems with the systematic component, then the\n",
        "cause may be an incorrect link function, or an incorrect linear predictor (for\n",
        "example, important explanatory variables are missing, or covariates should\n",
        "be transformed), or both.\n",
        "\n",
        "*Working responses* $z_i = \\hat\\eta_i + g^\\prime(\\hat\\mu_i) (y_i-\\hat\\mu_i)$ \n",
        " can be determined from working residuals, obtained by the function `resid(model, type=\"working\")`. \n",
        "\n",
        " We plot Working responses against predicted values of linear predictor $\\hat\\eta_i$.\n"
      ],
      "metadata": {
        "id": "3ZZQuxQbKm5f"
      }
    },
    {
      "cell_type": "code",
      "source": [
        "# missing\n",
        "''' in R:\n",
        "eta <- trees_m1$linear.predictor\n",
        "z  <- resid(trees_m1, type=\"working\") + eta\n",
        "plot( z ~ eta, las=1,\n",
        "        xlab=\"Linear predictor, eta\", ylab=\"Working responses, z\")\n",
        "abline(0, 1, col=\"grey\")\n",
        "'''"
      ],
      "metadata": {
        "colab": {
          "base_uri": "https://localhost:8080/",
          "height": 53
        },
        "id": "KI9Ztnn4RIfO",
        "outputId": "afb12b19-f7ef-475b-a9ef-84c430bb176a"
      },
      "execution_count": null,
      "outputs": [
        {
          "output_type": "execute_result",
          "data": {
            "text/plain": [
              "' in R:\\neta <- trees_m1$linear.predictor\\nz  <- resid(trees_m1, type=\"working\") + eta\\nplot( z ~ eta, las=1,\\n        xlab=\"Linear predictor, eta\", ylab=\"Working responses, z\")\\nabline(0, 1, col=\"grey\")\\n'"
            ],
            "application/vnd.google.colaboratory.intrinsic+json": {
              "type": "string"
            }
          },
          "metadata": {},
          "execution_count": 195
        }
      ]
    },
    {
      "cell_type": "markdown",
      "source": [
        "To determine if covariate $x_j$ is included on the incorrect scale, use partial\n",
        "residuals\n",
        "$$ u_j = e_i + \\hat{\\beta}_j x_j.$$\n",
        "In R use function `resid(fit, type=\"partial\")`. \n",
        "\n",
        "Component+Residual (Partial Residual plot, ie. $x_j$ against $j$th partial residuals) can be plotted by function `termplot()` or `crPlots()` from the library `cars`"
      ],
      "metadata": {
        "id": "vTrbX2T1UuQN"
      }
    },
    {
      "cell_type": "code",
      "source": [
        "trees_m1.plot_partial_residuals('Girth')"
      ],
      "metadata": {
        "colab": {
          "base_uri": "https://localhost:8080/",
          "height": 583
        },
        "id": "u7Pe7GXsVaq_",
        "outputId": "c5533f36-0e7d-4e88-c4ae-e3c8f1e5dd36"
      },
      "execution_count": null,
      "outputs": [
        {
          "output_type": "execute_result",
          "data": {
            "text/plain": [
              "<Figure size 432x288 with 1 Axes>"
            ],
            "image/png": "[encoded data removed]"
          },
          "metadata": {},
          "execution_count": 196
        },
        {
          "output_type": "display_data",
          "data": {
            "text/plain": [
              "<Figure size 432x288 with 1 Axes>"
            ],
            "image/png": "[encoded data removed]"
          },
          "metadata": {
            "needs_background": "light"
          }
        }
      ]
    },
    {
      "cell_type": "code",
      "source": [
        "trees_m1.plot_partial_residuals('Height')"
      ],
      "metadata": {
        "colab": {
          "base_uri": "https://localhost:8080/",
          "height": 583
        },
        "id": "Dza6JOwKVltC",
        "outputId": "cabc8462-fbf3-4654-cd32-4a927dbfd360"
      },
      "execution_count": null,
      "outputs": [
        {
          "output_type": "execute_result",
          "data": {
            "text/plain": [
              "<Figure size 432x288 with 1 Axes>"
            ],
            "image/png": "[encoded data removed]"
          },
          "metadata": {},
          "execution_count": 197
        },
        {
          "output_type": "display_data",
          "data": {
            "text/plain": [
              "<Figure size 432x288 with 1 Axes>"
            ],
            "image/png": "[encoded data removed]"
          },
          "metadata": {
            "needs_background": "light"
          }
        }
      ]
    },
    {
      "cell_type": "code",
      "source": [
        "# missing termplot"
      ],
      "metadata": {
        "id": "g3f-y01oVwyF"
      },
      "execution_count": null,
      "outputs": []
    },
    {
      "cell_type": "markdown",
      "source": [
        "### Model 2 (_m2)\n",
        "\n",
        "Let's try gamma distribution with link function $g(\\mu)=\\log \\mu$. "
      ],
      "metadata": {
        "id": "caMmPvf5V2zK"
      }
    },
    {
      "cell_type": "code",
      "source": [
        "trees_m2 = smf.glm('Volume ~  Girth + Height', data=trees, family=sm.families.Gamma(link=sm.families.links.log)).fit()\n",
        "print(trees_m2.summary())"
      ],
      "metadata": {
        "colab": {
          "base_uri": "https://localhost:8080/"
        },
        "id": "Z_sMogzzV4Cg",
        "outputId": "5d6c3930-8efa-4b30-aeba-04bf354aa2c9"
      },
      "execution_count": null,
      "outputs": [
        {
          "output_type": "stream",
          "name": "stdout",
          "text": [
            "                 Generalized Linear Model Regression Results                  \n",
            "==============================================================================\n",
            "Dep. Variable:                 Volume   No. Observations:                   31\n",
            "Model:                            GLM   Df Residuals:                       28\n",
            "Model Family:                   Gamma   Df Model:                            2\n",
            "Link Function:                    log   Scale:                       0.0094102\n",
            "Method:                          IRLS   Log-Likelihood:                -71.590\n",
            "Date:                Thu, 04 Aug 2022   Deviance:                      0.26247\n",
            "Time:                        11:00:24   Pearson chi2:                    0.263\n",
            "No. Iterations:                    10                                         \n",
            "Covariance Type:            nonrobust                                         \n",
            "==============================================================================\n",
            "                 coef    std err          z      P>|z|      [0.025      0.975]\n",
            "------------------------------------------------------------------------------\n",
            "Intercept      0.0923      0.216      0.428      0.669      -0.331       0.515\n",
            "Girth          0.1453      0.007     21.999      0.000       0.132       0.158\n",
            "Height         0.0166      0.003      5.097      0.000       0.010       0.023\n",
            "==============================================================================\n"
          ]
        },
        {
          "output_type": "stream",
          "name": "stderr",
          "text": [
            "/usr/local/lib/python3.7/dist-packages/ipykernel_launcher.py:1: DeprecationWarning: Calling Family(..) with a link class as argument is deprecated.\n",
            "Use an instance of a link class instead.\n",
            "  \"\"\"Entry point for launching an IPython kernel.\n"
          ]
        }
      ]
    },
    {
      "cell_type": "markdown",
      "source": [
        "\n",
        "Similar plots and analysis we did with model 01. "
      ],
      "metadata": {
        "id": "eI9olcOjWIwl"
      }
    },
    {
      "cell_type": "code",
      "source": [
        "# missing = nejsou stand.!\n",
        "trees_modeled['fitted2'] = trees_m2.fittedvalues\n",
        "trees_modeled['r_deviance_std2'] = trees_m2.resid_deviance\n",
        "trees_modeled['r_pearson_std2'] = trees_m2.resid_pearson\n",
        "trees_modeled"
      ],
      "metadata": {
        "colab": {
          "base_uri": "https://localhost:8080/",
          "height": 1000
        },
        "id": "mmCFrhTyWOnW",
        "outputId": "072333c0-d78c-4c49-85cd-ea527155f211"
      },
      "execution_count": null,
      "outputs": [
        {
          "output_type": "execute_result",
          "data": {
            "text/plain": [
              "    Girth  Height  Volume    fitted2  r_deviance_std2  r_pearson_std2\n",
              "0     8.3      70    10.3  11.688319        -0.123837       -0.118778\n",
              "1     8.6      65    10.3  11.237820        -0.085894       -0.083452\n",
              "2     8.8      63    10.2  11.191845        -0.091384       -0.088622\n",
              "3    10.5      72    16.4  16.632598        -0.014050       -0.013984\n",
              "4    10.7      81    18.8  19.878164        -0.055251       -0.054239\n",
              "5    10.8      83    19.7  20.848995        -0.056157       -0.055110\n",
              "6    11.0      66    15.6  16.192331        -0.037037       -0.036581\n",
              "7    11.0      75    18.2  18.797781        -0.032144       -0.031801\n",
              "8    11.1      80    22.6  20.721181         0.088067        0.090671\n",
              "9    11.2      75    19.9  19.351986         0.028055        0.028318\n",
              "10   11.3      79    24.2  20.981367         0.146195        0.153404\n",
              "11   11.4      76    21.0  20.255558         0.036312        0.036752\n",
              "12   11.4      76    21.4  20.255558         0.055470        0.056500\n",
              "13   11.7      69    21.3  18.839737         0.125302        0.130589\n",
              "14   12.0      75    19.1  21.737091        -0.126603       -0.121318\n",
              "15   12.9      74    22.2  24.366160        -0.091680       -0.088900\n",
              "16   12.9      85    33.8  29.240424         0.148495        0.155934\n",
              "17   13.3      86    27.4  31.508033        -0.136521       -0.130380\n",
              "18   13.7      71    25.7  26.041374        -0.013167       -0.013109\n",
              "19   13.8      64    24.9  23.527488         0.057239        0.058337\n",
              "20   14.0      78    34.5  30.548520         0.124160        0.129351\n",
              "21   14.2      80    31.7  32.509367        -0.025106       -0.024896\n",
              "22   14.5      74    36.3  30.742476         0.170905        0.180777\n",
              "23   16.0      72    38.3  36.981262         0.035244        0.035660\n",
              "24   16.3      77    42.6  41.967067         0.015007        0.015082\n",
              "25   17.3      81    55.4  51.856382         0.066838        0.068335\n",
              "26   17.5      82    55.7  54.277629         0.025980        0.026205\n",
              "27   17.9      80    58.3  55.649265         0.046897        0.047633\n",
              "28   18.0      80    51.5  56.463645        -0.090625       -0.087909\n",
              "29   18.0      80    51.0  56.463645        -0.100074       -0.096764\n",
              "30   20.6      87    77.0  92.515249        -0.178120       -0.167705"
            ],
            "text/html": [
              "\n",
              "  <div id=\"df-aac019d7-c985-40c0-b033-e297060a4f65\">\n",
              "    <div class=\"colab-df-container\">\n",
              "      <div>\n",
              "<style scoped>\n",
              "    .dataframe tbody tr th:only-of-type {\n",
              "        vertical-align: middle;\n",
              "    }\n",
              "\n",
              "    .dataframe tbody tr th {\n",
              "        vertical-align: top;\n",
              "    }\n",
              "\n",
              "    .dataframe thead th {\n",
              "        text-align: right;\n",
              "    }\n",
              "</style>\n",
              "<table border=\"1\" class=\"dataframe\">\n",
              "  <thead>\n",
              "    <tr style=\"text-align: right;\">\n",
              "      <th></th>\n",
              "      <th>Girth</th>\n",
              "      <th>Height</th>\n",
              "      <th>Volume</th>\n",
              "      <th>fitted2</th>\n",
              "      <th>r_deviance_std2</th>\n",
              "      <th>r_pearson_std2</th>\n",
              "    </tr>\n",
              "  </thead>\n",
              "  <tbody>\n",
              "    <tr>\n",
              "      <th>0</th>\n",
              "      <td>8.3</td>\n",
              "      <td>70</td>\n",
              "      <td>10.3</td>\n",
              "      <td>11.688319</td>\n",
              "      <td>-0.123837</td>\n",
              "      <td>-0.118778</td>\n",
              "    </tr>\n",
              "    <tr>\n",
              "      <th>1</th>\n",
              "      <td>8.6</td>\n",
              "      <td>65</td>\n",
              "      <td>10.3</td>\n",
              "      <td>11.237820</td>\n",
              "      <td>-0.085894</td>\n",
              "      <td>-0.083452</td>\n",
              "    </tr>\n",
              "    <tr>\n",
              "      <th>2</th>\n",
              "      <td>8.8</td>\n",
              "      <td>63</td>\n",
              "      <td>10.2</td>\n",
              "      <td>11.191845</td>\n",
              "      <td>-0.091384</td>\n",
              "      <td>-0.088622</td>\n",
              "    </tr>\n",
              "    <tr>\n",
              "      <th>3</th>\n",
              "      <td>10.5</td>\n",
              "      <td>72</td>\n",
              "      <td>16.4</td>\n",
              "      <td>16.632598</td>\n",
              "      <td>-0.014050</td>\n",
              "      <td>-0.013984</td>\n",
              "    </tr>\n",
              "    <tr>\n",
              "      <th>4</th>\n",
              "      <td>10.7</td>\n",
              "      <td>81</td>\n",
              "      <td>18.8</td>\n",
              "      <td>19.878164</td>\n",
              "      <td>-0.055251</td>\n",
              "      <td>-0.054239</td>\n",
              "    </tr>\n",
              "    <tr>\n",
              "      <th>5</th>\n",
              "      <td>10.8</td>\n",
              "      <td>83</td>\n",
              "      <td>19.7</td>\n",
              "      <td>20.848995</td>\n",
              "      <td>-0.056157</td>\n",
              "      <td>-0.055110</td>\n",
              "    </tr>\n",
              "    <tr>\n",
              "      <th>6</th>\n",
              "      <td>11.0</td>\n",
              "      <td>66</td>\n",
              "      <td>15.6</td>\n",
              "      <td>16.192331</td>\n",
              "      <td>-0.037037</td>\n",
              "      <td>-0.036581</td>\n",
              "    </tr>\n",
              "    <tr>\n",
              "      <th>7</th>\n",
              "      <td>11.0</td>\n",
              "      <td>75</td>\n",
              "      <td>18.2</td>\n",
              "      <td>18.797781</td>\n",
              "      <td>-0.032144</td>\n",
              "      <td>-0.031801</td>\n",
              "    </tr>\n",
              "    <tr>\n",
              "      <th>8</th>\n",
              "      <td>11.1</td>\n",
              "      <td>80</td>\n",
              "      <td>22.6</td>\n",
              "      <td>20.721181</td>\n",
              "      <td>0.088067</td>\n",
              "      <td>0.090671</td>\n",
              "    </tr>\n",
              "    <tr>\n",
              "      <th>9</th>\n",
              "      <td>11.2</td>\n",
              "      <td>75</td>\n",
              "      <td>19.9</td>\n",
              "      <td>19.351986</td>\n",
              "      <td>0.028055</td>\n",
              "      <td>0.028318</td>\n",
              "    </tr>\n",
              "    <tr>\n",
              "      <th>10</th>\n",
              "      <td>11.3</td>\n",
              "      <td>79</td>\n",
              "      <td>24.2</td>\n",
              "      <td>20.981367</td>\n",
              "      <td>0.146195</td>\n",
              "      <td>0.153404</td>\n",
              "    </tr>\n",
              "    <tr>\n",
              "      <th>11</th>\n",
              "      <td>11.4</td>\n",
              "      <td>76</td>\n",
              "      <td>21.0</td>\n",
              "      <td>20.255558</td>\n",
              "      <td>0.036312</td>\n",
              "      <td>0.036752</td>\n",
              "    </tr>\n",
              "    <tr>\n",
              "      <th>12</th>\n",
              "      <td>11.4</td>\n",
              "      <td>76</td>\n",
              "      <td>21.4</td>\n",
              "      <td>20.255558</td>\n",
              "      <td>0.055470</td>\n",
              "      <td>0.056500</td>\n",
              "    </tr>\n",
              "    <tr>\n",
              "      <th>13</th>\n",
              "      <td>11.7</td>\n",
              "      <td>69</td>\n",
              "      <td>21.3</td>\n",
              "      <td>18.839737</td>\n",
              "      <td>0.125302</td>\n",
              "      <td>0.130589</td>\n",
              "    </tr>\n",
              "    <tr>\n",
              "      <th>14</th>\n",
              "      <td>12.0</td>\n",
              "      <td>75</td>\n",
              "      <td>19.1</td>\n",
              "      <td>21.737091</td>\n",
              "      <td>-0.126603</td>\n",
              "      <td>-0.121318</td>\n",
              "    </tr>\n",
              "    <tr>\n",
              "      <th>15</th>\n",
              "      <td>12.9</td>\n",
              "      <td>74</td>\n",
              "      <td>22.2</td>\n",
              "      <td>24.366160</td>\n",
              "      <td>-0.091680</td>\n",
              "      <td>-0.088900</td>\n",
              "    </tr>\n",
              "    <tr>\n",
              "      <th>16</th>\n",
              "      <td>12.9</td>\n",
              "      <td>85</td>\n",
              "      <td>33.8</td>\n",
              "      <td>29.240424</td>\n",
              "      <td>0.148495</td>\n",
              "      <td>0.155934</td>\n",
              "    </tr>\n",
              "    <tr>\n",
              "      <th>17</th>\n",
              "      <td>13.3</td>\n",
              "      <td>86</td>\n",
              "      <td>27.4</td>\n",
              "      <td>31.508033</td>\n",
              "      <td>-0.136521</td>\n",
              "      <td>-0.130380</td>\n",
              "    </tr>\n",
              "    <tr>\n",
              "      <th>18</th>\n",
              "      <td>13.7</td>\n",
              "      <td>71</td>\n",
              "      <td>25.7</td>\n",
              "      <td>26.041374</td>\n",
              "      <td>-0.013167</td>\n",
              "      <td>-0.013109</td>\n",
              "    </tr>\n",
              "    <tr>\n",
              "      <th>19</th>\n",
              "      <td>13.8</td>\n",
              "      <td>64</td>\n",
              "      <td>24.9</td>\n",
              "      <td>23.527488</td>\n",
              "      <td>0.057239</td>\n",
              "      <td>0.058337</td>\n",
              "    </tr>\n",
              "    <tr>\n",
              "      <th>20</th>\n",
              "      <td>14.0</td>\n",
              "      <td>78</td>\n",
              "      <td>34.5</td>\n",
              "      <td>30.548520</td>\n",
              "      <td>0.124160</td>\n",
              "      <td>0.129351</td>\n",
              "    </tr>\n",
              "    <tr>\n",
              "      <th>21</th>\n",
              "      <td>14.2</td>\n",
              "      <td>80</td>\n",
              "      <td>31.7</td>\n",
              "      <td>32.509367</td>\n",
              "      <td>-0.025106</td>\n",
              "      <td>-0.024896</td>\n",
              "    </tr>\n",
              "    <tr>\n",
              "      <th>22</th>\n",
              "      <td>14.5</td>\n",
              "      <td>74</td>\n",
              "      <td>36.3</td>\n",
              "      <td>30.742476</td>\n",
              "      <td>0.170905</td>\n",
              "      <td>0.180777</td>\n",
              "    </tr>\n",
              "    <tr>\n",
              "      <th>23</th>\n",
              "      <td>16.0</td>\n",
              "      <td>72</td>\n",
              "      <td>38.3</td>\n",
              "      <td>36.981262</td>\n",
              "      <td>0.035244</td>\n",
              "      <td>0.035660</td>\n",
              "    </tr>\n",
              "    <tr>\n",
              "      <th>24</th>\n",
              "      <td>16.3</td>\n",
              "      <td>77</td>\n",
              "      <td>42.6</td>\n",
              "      <td>41.967067</td>\n",
              "      <td>0.015007</td>\n",
              "      <td>0.015082</td>\n",
              "    </tr>\n",
              "    <tr>\n",
              "      <th>25</th>\n",
              "      <td>17.3</td>\n",
              "      <td>81</td>\n",
              "      <td>55.4</td>\n",
              "      <td>51.856382</td>\n",
              "      <td>0.066838</td>\n",
              "      <td>0.068335</td>\n",
              "    </tr>\n",
              "    <tr>\n",
              "      <th>26</th>\n",
              "      <td>17.5</td>\n",
              "      <td>82</td>\n",
              "      <td>55.7</td>\n",
              "      <td>54.277629</td>\n",
              "      <td>0.025980</td>\n",
              "      <td>0.026205</td>\n",
              "    </tr>\n",
              "    <tr>\n",
              "      <th>27</th>\n",
              "      <td>17.9</td>\n",
              "      <td>80</td>\n",
              "      <td>58.3</td>\n",
              "      <td>55.649265</td>\n",
              "      <td>0.046897</td>\n",
              "      <td>0.047633</td>\n",
              "    </tr>\n",
              "    <tr>\n",
              "      <th>28</th>\n",
              "      <td>18.0</td>\n",
              "      <td>80</td>\n",
              "      <td>51.5</td>\n",
              "      <td>56.463645</td>\n",
              "      <td>-0.090625</td>\n",
              "      <td>-0.087909</td>\n",
              "    </tr>\n",
              "    <tr>\n",
              "      <th>29</th>\n",
              "      <td>18.0</td>\n",
              "      <td>80</td>\n",
              "      <td>51.0</td>\n",
              "      <td>56.463645</td>\n",
              "      <td>-0.100074</td>\n",
              "      <td>-0.096764</td>\n",
              "    </tr>\n",
              "    <tr>\n",
              "      <th>30</th>\n",
              "      <td>20.6</td>\n",
              "      <td>87</td>\n",
              "      <td>77.0</td>\n",
              "      <td>92.515249</td>\n",
              "      <td>-0.178120</td>\n",
              "      <td>-0.167705</td>\n",
              "    </tr>\n",
              "  </tbody>\n",
              "</table>\n",
              "</div>\n",
              "      <button class=\"colab-df-convert\" onclick=\"convertToInteractive('df-aac019d7-c985-40c0-b033-e297060a4f65')\"\n",
              "              title=\"Convert this dataframe to an interactive table.\"\n",
              "              style=\"display:none;\">\n",
              "        \n",
              "  <svg xmlns=\"http://www.w3.org/2000/svg\" height=\"24px\"viewBox=\"0 0 24 24\"\n",
              "       width=\"24px\">\n",
              "    <path d=\"M0 0h24v24H0V0z\" fill=\"none\"/>\n",
              "    <path d=\"M18.56 5.44l.94 2.06.94-2.06 2.06-.94-2.06-.94-.94-2.06-.94 2.06-2.06.94zm-11 1L8.5 8.5l.94-2.06 2.06-.94-2.06-.94L8.5 2.5l-.94 2.06-2.06.94zm10 10l.94 2.06.94-2.06 2.06-.94-2.06-.94-.94-2.06-.94 2.06-2.06.94z\"/><path d=\"M17.41 7.96l-1.37-1.37c-.4-.4-.92-.59-1.43-.59-.52 0-1.04.2-1.43.59L10.3 9.45l-7.72 7.72c-.78.78-.78 2.05 0 2.83L4 21.41c.39.39.9.59 1.41.59.51 0 1.02-.2 1.41-.59l7.78-7.78 2.81-2.81c.8-.78.8-2.07 0-2.86zM5.41 20L4 18.59l7.72-7.72 1.47 1.35L5.41 20z\"/>\n",
              "  </svg>\n",
              "      </button>\n",
              "      \n",
              "  <style>\n",
              "    .colab-df-container {\n",
              "      display:flex;\n",
              "      flex-wrap:wrap;\n",
              "      gap: 12px;\n",
              "    }\n",
              "\n",
              "    .colab-df-convert {\n",
              "      background-color: #E8F0FE;\n",
              "      border: none;\n",
              "      border-radius: 50%;\n",
              "      cursor: pointer;\n",
              "      display: none;\n",
              "      fill: #1967D2;\n",
              "      height: 32px;\n",
              "      padding: 0 0 0 0;\n",
              "      width: 32px;\n",
              "    }\n",
              "\n",
              "    .colab-df-convert:hover {\n",
              "      background-color: #E2EBFA;\n",
              "      box-shadow: 0px 1px 2px rgba(60, 64, 67, 0.3), 0px 1px 3px 1px rgba(60, 64, 67, 0.15);\n",
              "      fill: #174EA6;\n",
              "    }\n",
              "\n",
              "    [theme=dark] .colab-df-convert {\n",
              "      background-color: #3B4455;\n",
              "      fill: #D2E3FC;\n",
              "    }\n",
              "\n",
              "    [theme=dark] .colab-df-convert:hover {\n",
              "      background-color: #434B5C;\n",
              "      box-shadow: 0px 1px 3px 1px rgba(0, 0, 0, 0.15);\n",
              "      filter: drop-shadow(0px 1px 2px rgba(0, 0, 0, 0.3));\n",
              "      fill: #FFFFFF;\n",
              "    }\n",
              "  </style>\n",
              "\n",
              "      <script>\n",
              "        const buttonEl =\n",
              "          document.querySelector('#df-aac019d7-c985-40c0-b033-e297060a4f65 button.colab-df-convert');\n",
              "        buttonEl.style.display =\n",
              "          google.colab.kernel.accessAllowed ? 'block' : 'none';\n",
              "\n",
              "        async function convertToInteractive(key) {\n",
              "          const element = document.querySelector('#df-aac019d7-c985-40c0-b033-e297060a4f65');\n",
              "          const dataTable =\n",
              "            await google.colab.kernel.invokeFunction('convertToInteractive',\n",
              "                                                     [key], {});\n",
              "          if (!dataTable) return;\n",
              "\n",
              "          const docLinkHtml = 'Like what you see? Visit the ' +\n",
              "            '<a target=\"_blank\" href=https://colab.research.google.com/notebooks/data_table.ipynb>data table notebook</a>'\n",
              "            + ' to learn more about interactive tables.';\n",
              "          element.innerHTML = '';\n",
              "          dataTable['output_type'] = 'display_data';\n",
              "          await google.colab.output.renderOutput(dataTable, element);\n",
              "          const docLink = document.createElement('div');\n",
              "          docLink.innerHTML = docLinkHtml;\n",
              "          element.appendChild(docLink);\n",
              "        }\n",
              "      </script>\n",
              "    </div>\n",
              "  </div>\n",
              "  "
            ]
          },
          "metadata": {},
          "execution_count": 200
        }
      ]
    },
    {
      "cell_type": "code",
      "source": [
        "ggplot(trees_modeled, aes(x = trees_modeled['fitted2'], y = trees_modeled['r_deviance_std2'])) + \\\n",
        "  geom_smooth() + \\\n",
        "  geom_point() + \\\n",
        "  labs(x = \"Fitted values\",\n",
        "       y = \"Deviance standartized residuals\")"
      ],
      "metadata": {
        "colab": {
          "base_uri": "https://localhost:8080/",
          "height": 519
        },
        "id": "rXGj5Z9MX_PP",
        "outputId": "16783feb-e824-4e5e-dea3-f425c338bd04"
      },
      "execution_count": null,
      "outputs": [
        {
          "output_type": "stream",
          "name": "stderr",
          "text": [
            "/usr/local/lib/python3.7/dist-packages/plotnine/stats/smoothers.py:168: PlotnineWarning: Confidence intervals are not yet implementedfor lowess smoothings.\n",
            "  \"for lowess smoothings.\", PlotnineWarning)\n"
          ]
        },
        {
          "output_type": "display_data",
          "data": {
            "text/plain": [
              "<Figure size 640x480 with 1 Axes>"
            ],
            "image/png": "[encoded data removed]"
          },
          "metadata": {}
        },
        {
          "output_type": "execute_result",
          "data": {
            "text/plain": [
              "<ggplot: (8732186548753)>"
            ]
          },
          "metadata": {},
          "execution_count": 201
        }
      ]
    },
    {
      "cell_type": "code",
      "source": [
        "ggplot(trees_modeled, aes(x = trees_modeled['Girth'], y = trees_modeled['r_deviance_std2'])) + \\\n",
        "  geom_smooth() + \\\n",
        "  geom_point() + \\\n",
        "  labs(x = \"Girth\",\n",
        "       y = \"Deviance standartized residuals\")"
      ],
      "metadata": {
        "colab": {
          "base_uri": "https://localhost:8080/",
          "height": 519
        },
        "id": "5Qw4CQaiYeJX",
        "outputId": "fcef6ebc-e816-4af3-c5e6-c1aeee05bb9d"
      },
      "execution_count": null,
      "outputs": [
        {
          "output_type": "stream",
          "name": "stderr",
          "text": [
            "/usr/local/lib/python3.7/dist-packages/plotnine/stats/smoothers.py:168: PlotnineWarning: Confidence intervals are not yet implementedfor lowess smoothings.\n",
            "  \"for lowess smoothings.\", PlotnineWarning)\n"
          ]
        },
        {
          "output_type": "display_data",
          "data": {
            "text/plain": [
              "<Figure size 640x480 with 1 Axes>"
            ],
            "image/png": "[encoded data removed]"
          },
          "metadata": {}
        },
        {
          "output_type": "execute_result",
          "data": {
            "text/plain": [
              "<ggplot: (8732186568393)>"
            ]
          },
          "metadata": {},
          "execution_count": 202
        }
      ]
    },
    {
      "cell_type": "code",
      "source": [
        "ggplot(trees_modeled, aes(x = trees_modeled['Height'], y = trees_modeled['r_deviance_std2'])) + \\\n",
        "  geom_smooth() + \\\n",
        "  geom_point() + \\\n",
        "  labs(x = \"Height\",\n",
        "       y = \"Deviance standartized residuals\")"
      ],
      "metadata": {
        "colab": {
          "base_uri": "https://localhost:8080/",
          "height": 519
        },
        "id": "WjygAnURYjbO",
        "outputId": "370edb6c-8e2b-4005-9bbc-c46f7ffb22bd"
      },
      "execution_count": null,
      "outputs": [
        {
          "output_type": "stream",
          "name": "stderr",
          "text": [
            "/usr/local/lib/python3.7/dist-packages/plotnine/stats/smoothers.py:168: PlotnineWarning: Confidence intervals are not yet implementedfor lowess smoothings.\n",
            "  \"for lowess smoothings.\", PlotnineWarning)\n"
          ]
        },
        {
          "output_type": "display_data",
          "data": {
            "text/plain": [
              "<Figure size 640x480 with 1 Axes>"
            ],
            "image/png": "[encoded data removed]"
          },
          "metadata": {}
        },
        {
          "output_type": "execute_result",
          "data": {
            "text/plain": [
              "<ggplot: (8732186587557)>"
            ]
          },
          "metadata": {},
          "execution_count": 203
        }
      ]
    },
    {
      "cell_type": "code",
      "source": [
        "# missing linear predictor"
      ],
      "metadata": {
        "id": "B_7aPXgaYqSu"
      },
      "execution_count": null,
      "outputs": []
    },
    {
      "cell_type": "markdown",
      "source": [
        "We have correct link function, but we still have  problems with  systematic component and residual plots. Lets try some transformations of covariates."
      ],
      "metadata": {
        "id": "lDGIDutSYwSO"
      }
    },
    {
      "cell_type": "markdown",
      "source": [
        "### Model 3 (_m3)\n",
        "\n",
        "We use log transformation of both $x_j$'s."
      ],
      "metadata": {
        "id": "MsSc9N3GY2LG"
      }
    },
    {
      "cell_type": "code",
      "source": [
        "trees_m3 = smf.glm('Volume ~  log_Height + log_Girth', data=log_trees, family=sm.families.Gamma(link=sm.families.links.log)).fit()\n",
        "print(trees_m3.summary())"
      ],
      "metadata": {
        "colab": {
          "base_uri": "https://localhost:8080/"
        },
        "id": "cWB3OXh9YvkO",
        "outputId": "ceb93998-1bca-4923-cb79-9381852ec29d"
      },
      "execution_count": null,
      "outputs": [
        {
          "output_type": "stream",
          "name": "stdout",
          "text": [
            "                 Generalized Linear Model Regression Results                  \n",
            "==============================================================================\n",
            "Dep. Variable:                 Volume   No. Observations:                   31\n",
            "Model:                            GLM   Df Residuals:                       28\n",
            "Model Family:                   Gamma   Df Model:                            2\n",
            "Link Function:                    log   Scale:                       0.0064273\n",
            "Method:                          IRLS   Log-Likelihood:                -66.003\n",
            "Date:                Thu, 04 Aug 2022   Deviance:                      0.18352\n",
            "Time:                        11:00:25   Pearson chi2:                    0.180\n",
            "No. Iterations:                     7                                         \n",
            "Covariance Type:            nonrobust                                         \n",
            "==============================================================================\n",
            "                 coef    std err          z      P>|z|      [0.025      0.975]\n",
            "------------------------------------------------------------------------------\n",
            "Intercept     -6.6911      0.788     -8.493      0.000      -8.235      -5.147\n",
            "log_Height     1.1329      0.201      5.625      0.000       0.738       1.528\n",
            "log_Girth      1.9804      0.074     26.802      0.000       1.836       2.125\n",
            "==============================================================================\n"
          ]
        },
        {
          "output_type": "stream",
          "name": "stderr",
          "text": [
            "/usr/local/lib/python3.7/dist-packages/ipykernel_launcher.py:1: DeprecationWarning: Calling Family(..) with a link class as argument is deprecated.\n",
            "Use an instance of a link class instead.\n",
            "  \"\"\"Entry point for launching an IPython kernel.\n"
          ]
        }
      ]
    },
    {
      "cell_type": "markdown",
      "source": [
        "All covariates are significant in the model.\n",
        "\n"
      ],
      "metadata": {
        "id": "etoHBtedZPOe"
      }
    },
    {
      "cell_type": "code",
      "source": [
        "# missing = nejsou stand.\n",
        "fitted3 = trees_m3.fittedvalues\n",
        "r_deviance_std3 = trees_m3.resid_deviance\n",
        "r_pearson_std3 = trees_m3.resid_pearson"
      ],
      "metadata": {
        "id": "WRhOw57ZZVfN"
      },
      "execution_count": null,
      "outputs": []
    },
    {
      "cell_type": "code",
      "source": [
        "ggplot(trees_modeled, aes(x = fitted3, y = r_deviance_std3)) + \\\n",
        "  geom_smooth() + \\\n",
        "  geom_point() + \\\n",
        "  labs(x = \"Fitted values\",\n",
        "       y = \"Deviance standartized residuals\")"
      ],
      "metadata": {
        "colab": {
          "base_uri": "https://localhost:8080/",
          "height": 519
        },
        "id": "1qj-k6tCZqMm",
        "outputId": "a2b85c8c-9422-44a7-d74f-9ac3f80d4d52"
      },
      "execution_count": null,
      "outputs": [
        {
          "output_type": "stream",
          "name": "stderr",
          "text": [
            "/usr/local/lib/python3.7/dist-packages/plotnine/stats/smoothers.py:168: PlotnineWarning: Confidence intervals are not yet implementedfor lowess smoothings.\n",
            "  \"for lowess smoothings.\", PlotnineWarning)\n"
          ]
        },
        {
          "output_type": "display_data",
          "data": {
            "text/plain": [
              "<Figure size 640x480 with 1 Axes>"
            ],
            "image/png": "[encoded data removed]"
          },
          "metadata": {}
        },
        {
          "output_type": "execute_result",
          "data": {
            "text/plain": [
              "<ggplot: (8732186473957)>"
            ]
          },
          "metadata": {},
          "execution_count": 207
        }
      ]
    },
    {
      "cell_type": "code",
      "source": [
        "ggplot(trees_modeled, aes(x = log_trees['log_Girth'], y = r_deviance_std3)) + \\\n",
        "  geom_smooth() + \\\n",
        "  geom_point() + \\\n",
        "  labs(x = \"log(Girth)\",\n",
        "       y = \"Deviance standartized residuals\")"
      ],
      "metadata": {
        "colab": {
          "base_uri": "https://localhost:8080/",
          "height": 519
        },
        "id": "9wZ_mHg0Z8Mu",
        "outputId": "21d8dcc9-7d46-4f32-f80d-0c3865f514b3"
      },
      "execution_count": null,
      "outputs": [
        {
          "output_type": "stream",
          "name": "stderr",
          "text": [
            "/usr/local/lib/python3.7/dist-packages/plotnine/stats/smoothers.py:168: PlotnineWarning: Confidence intervals are not yet implementedfor lowess smoothings.\n",
            "  \"for lowess smoothings.\", PlotnineWarning)\n"
          ]
        },
        {
          "output_type": "display_data",
          "data": {
            "text/plain": [
              "<Figure size 640x480 with 1 Axes>"
            ],
            "image/png": "[encoded data removed]"
          },
          "metadata": {}
        },
        {
          "output_type": "execute_result",
          "data": {
            "text/plain": [
              "<ggplot: (8732186443817)>"
            ]
          },
          "metadata": {},
          "execution_count": 208
        }
      ]
    },
    {
      "cell_type": "code",
      "source": [
        "ggplot(trees_modeled, aes(x = log_trees['log_Height'], y = r_deviance_std3)) + \\\n",
        "  geom_smooth() + \\\n",
        "  geom_point() + \\\n",
        "  labs(x = \"log(Height)\",\n",
        "       y = \"Deviance standartized residuals\")"
      ],
      "metadata": {
        "colab": {
          "base_uri": "https://localhost:8080/",
          "height": 519
        },
        "id": "1IZh736TaJlf",
        "outputId": "248ac834-15c8-4355-d6bb-c27392721864"
      },
      "execution_count": null,
      "outputs": [
        {
          "output_type": "stream",
          "name": "stderr",
          "text": [
            "/usr/local/lib/python3.7/dist-packages/plotnine/stats/smoothers.py:168: PlotnineWarning: Confidence intervals are not yet implementedfor lowess smoothings.\n",
            "  \"for lowess smoothings.\", PlotnineWarning)\n"
          ]
        },
        {
          "output_type": "display_data",
          "data": {
            "text/plain": [
              "<Figure size 640x480 with 1 Axes>"
            ],
            "image/png": "[encoded data removed]"
          },
          "metadata": {}
        },
        {
          "output_type": "execute_result",
          "data": {
            "text/plain": [
              "<ggplot: (8732190857413)>"
            ]
          },
          "metadata": {},
          "execution_count": 209
        }
      ]
    },
    {
      "cell_type": "code",
      "source": [
        "# missing linear predictor"
      ],
      "metadata": {
        "id": "nbRkh0uFZVdY"
      },
      "execution_count": null,
      "outputs": []
    },
    {
      "cell_type": "markdown",
      "source": [
        "Model 3 is sufficient :-)\n",
        "\n",
        "Lets check AIC statistics for all three models."
      ],
      "metadata": {
        "id": "kjk0J1WgaOyu"
      }
    },
    {
      "cell_type": "code",
      "source": [
        "AIC_1 = trees_m1.aic\n",
        "AIC_2 = trees_m2.aic\n",
        "AIC_3 = trees_m3.aic\n",
        "print(AIC_1,AIC_2,AIC_3)"
      ],
      "metadata": {
        "colab": {
          "base_uri": "https://localhost:8080/"
        },
        "id": "6qdKSOAAaQzv",
        "outputId": "ea80a159-f2bf-4e35-8747-dbd397a192ea"
      },
      "execution_count": null,
      "outputs": [
        {
          "output_type": "stream",
          "name": "stdout",
          "text": [
            "198.86982279572234 149.17995958700726 138.00600118739317\n"
          ]
        }
      ]
    },
    {
      "cell_type": "markdown",
      "source": [
        "### Question:\n",
        "\n",
        "* Why  we chose log transformation? \n",
        "* Are residuals from the model 3 normal?"
      ],
      "metadata": {
        "id": "Wi3mTWJcad-Y"
      }
    },
    {
      "cell_type": "code",
      "source": [
        "# missing\n",
        "''' in R:\n",
        "# Deviance residauls\n",
        "qqnorm(r_deviance_std, las=1 )\n",
        "qqline(r_deviance_std)\n",
        "# Deviance residauls\n",
        "qqnorm(r_pearson_std2, las=1 )\n",
        "qqline(r_pearson_std2)\n",
        "''' "
      ],
      "metadata": {
        "colab": {
          "base_uri": "https://localhost:8080/",
          "height": 53
        },
        "id": "DcOK4ctOa6UI",
        "outputId": "62bcc0aa-8382-4db0-c538-20453b0ff6e6"
      },
      "execution_count": null,
      "outputs": [
        {
          "output_type": "execute_result",
          "data": {
            "text/plain": [
              "' in R:\\n# Deviance residauls\\nqqnorm(r_deviance_std, las=1 )\\nqqline(r_deviance_std)\\n# Deviance residauls\\nqqnorm(r_pearson_std2, las=1 )\\nqqline(r_pearson_std2)\\n'"
            ],
            "application/vnd.google.colaboratory.intrinsic+json": {
              "type": "string"
            }
          },
          "metadata": {},
          "execution_count": 212
        }
      ]
    },
    {
      "cell_type": "code",
      "source": [
        "# vychází jinak\n",
        "r_anscombe = trees_m3.resid_anscombe_scaled\n",
        "print(r_anscombe)"
      ],
      "metadata": {
        "colab": {
          "base_uri": "https://localhost:8080/"
        },
        "id": "BP_fMHyObbz-",
        "outputId": "9bfe3c8d-afd8-48bc-8928-c8001c8e4888"
      },
      "execution_count": null,
      "outputs": [
        {
          "output_type": "stream",
          "name": "stdout",
          "text": [
            "[ 0.2398519   0.41143769  0.16157351 -0.16482304 -0.58743949 -0.57876257\n",
            " -0.7019369  -0.58755253  0.98586067  0.07661602  1.5960345   0.12345412\n",
            "  0.36032959  1.03808234 -2.07954762 -1.81484988  1.45223024 -2.05468442\n",
            " -0.92414383 -0.04308654  0.88375337 -0.87995421  1.41086284  0.00934558\n",
            " -0.07098211  1.03359055  0.6349358   1.00252095 -0.68883263 -0.80809153\n",
            " -0.19579718]\n"
          ]
        }
      ]
    },
    {
      "cell_type": "markdown",
      "source": [
        "Check normality with test"
      ],
      "metadata": {
        "id": "xjgNJGddcijp"
      }
    },
    {
      "cell_type": "code",
      "source": [
        "stats.kstest(r_anscombe, 'norm')"
      ],
      "metadata": {
        "colab": {
          "base_uri": "https://localhost:8080/"
        },
        "id": "XlEqdvSAchNg",
        "outputId": "d54dab08-89d5-43fe-bc0c-18e57cc4bba0"
      },
      "execution_count": null,
      "outputs": [
        {
          "output_type": "execute_result",
          "data": {
            "text/plain": [
              "KstestResult(statistic=0.08093152364023645, pvalue=0.9771507141065146)"
            ]
          },
          "metadata": {},
          "execution_count": 215
        }
      ]
    },
    {
      "cell_type": "code",
      "source": [
        "stats.shapiro(r_anscombe)"
      ],
      "metadata": {
        "colab": {
          "base_uri": "https://localhost:8080/"
        },
        "id": "Q2cahrdGdfv2",
        "outputId": "9c701596-cddb-4fdb-e1d9-10526cfd863b"
      },
      "execution_count": null,
      "outputs": [
        {
          "output_type": "execute_result",
          "data": {
            "text/plain": [
              "ShapiroResult(statistic=0.9608281850814819, pvalue=0.3068162202835083)"
            ]
          },
          "metadata": {},
          "execution_count": 216
        }
      ]
    },
    {
      "cell_type": "markdown",
      "source": [
        "**Cook distance**\n",
        "\n",
        "Let $\\hat\\beta_{(-i)}$ denotes estimation of $\\beta$ computed without observation  $i$. Cook distance for $i$th observation is defined by\n",
        "$$CD_i = \\frac{1}{p} \\left(\\hat\\beta - \\hat\\beta_{(-i)}\\right)^T X^T W^{-1} X \\left(\\hat\\beta - \\hat\\beta_{(-i)}\\right)$$\n",
        "but its computed by \n",
        "$$\n",
        "CD_i = \\frac{1}{p} \\left( r_i^{PS}\\right)^2 \\frac{h_{ii}}{1-h_{ii}} \n",
        "$$\n",
        "and observation is influence if \n",
        "$$\n",
        "CD_i \\ > \\ \\frac{8}{n-2p}\n",
        "$$"
      ],
      "metadata": {
        "id": "QVuJiwFFdYKW"
      }
    },
    {
      "cell_type": "code",
      "source": [
        "influence = trees_m3.get_influence()\n",
        "cooks = influence.cooks_distance"
      ],
      "metadata": {
        "id": "m6vlTZs9dw65"
      },
      "execution_count": null,
      "outputs": []
    },
    {
      "cell_type": "code",
      "source": [
        "influence.plot_influence()"
      ],
      "metadata": {
        "colab": {
          "base_uri": "https://localhost:8080/",
          "height": 587
        },
        "id": "oUpn9vJBd04y",
        "outputId": "6d68d511-b925-4b11-90ef-abb374db9213"
      },
      "execution_count": null,
      "outputs": [
        {
          "output_type": "execute_result",
          "data": {
            "text/plain": [
              "<Figure size 432x288 with 1 Axes>"
            ],
            "image/png": "[encoded data removed]"
          },
          "metadata": {},
          "execution_count": 218
        },
        {
          "output_type": "display_data",
          "data": {
            "text/plain": [
              "<Figure size 432x288 with 1 Axes>"
            ],
            "image/png": "[encoded data removed]"
          },
          "metadata": {
            "needs_background": "light"
          }
        }
      ]
    },
    {
      "cell_type": "code",
      "source": [
        "def abline(slope, intercept):\n",
        "    \"\"\"Plot a line from slope and intercept\"\"\"\n",
        "    axes = plt.gca()\n",
        "    x_vals = np.array(axes.get_xlim())\n",
        "    y_vals = intercept + slope * x_vals\n",
        "    plt.plot(x_vals, y_vals, '--')"
      ],
      "metadata": {
        "id": "cr-iQJPCeb_c"
      },
      "execution_count": null,
      "outputs": []
    },
    {
      "cell_type": "code",
      "source": [
        "influence.plot_index()\n",
        "abline(0, 8/(31-4))\n",
        "plt.show()"
      ],
      "metadata": {
        "colab": {
          "base_uri": "https://localhost:8080/",
          "height": 302
        },
        "id": "hn3H7vS6eIlu",
        "outputId": "5898e47c-ac98-4460-abd3-b959d34a9da3"
      },
      "execution_count": null,
      "outputs": [
        {
          "output_type": "display_data",
          "data": {
            "text/plain": [
              "<Figure size 432x288 with 1 Axes>"
            ],
            "image/png": "[encoded data removed]"
          },
          "metadata": {
            "needs_background": "light"
          }
        }
      ]
    },
    {
      "cell_type": "code",
      "source": [
        "hatvalues = trees_m3.get_hat_matrix_diag()"
      ],
      "metadata": {
        "id": "7Iq0UBm5enNB"
      },
      "execution_count": null,
      "outputs": []
    },
    {
      "cell_type": "code",
      "source": [
        "plt.scatter(log_trees.index, hatvalues)\n",
        "plt.show()"
      ],
      "metadata": {
        "colab": {
          "base_uri": "https://localhost:8080/",
          "height": 266
        },
        "id": "9qzuD-pfetfw",
        "outputId": "fd9da351-8020-4419-dcbd-b1e1f951dab5"
      },
      "execution_count": null,
      "outputs": [
        {
          "output_type": "display_data",
          "data": {
            "text/plain": [
              "<Figure size 432x288 with 1 Axes>"
            ],
            "image/png": "[encoded data removed]"
          },
          "metadata": {
            "needs_background": "light"
          }
        }
      ]
    },
    {
      "cell_type": "code",
      "source": [
        "influence = trees_m3.get_influence()\n",
        "inf_sum = influence.summary_frame()\n",
        "print(inf_sum)"
      ],
      "metadata": {
        "colab": {
          "base_uri": "https://localhost:8080/"
        },
        "id": "ZDZ9RqWcgFgw",
        "outputId": "b50969d7-4ffc-411d-f64d-4a6138c03673"
      },
      "execution_count": null,
      "outputs": [
        {
          "output_type": "stream",
          "name": "stdout",
          "text": [
            "    dfb_Intercept  dfb_log_Height  dfb_log_Girth   cooks_d  standard_resid  \\\n",
            "0        0.015845        0.005200      -0.086103  0.004150        0.262323   \n",
            "1        0.127620       -0.095349      -0.085377  0.014469        0.457142   \n",
            "2        0.068294       -0.056528      -0.021257  0.002736        0.181386   \n",
            "3       -0.010658        0.004575       0.020967  0.000585       -0.169061   \n",
            "4        0.142877       -0.167338       0.167266  0.016546       -0.615037   \n",
            "5        0.183073       -0.207854       0.186352  0.021584       -0.616492   \n",
            "6       -0.220389        0.203264      -0.028848  0.022738       -0.731449   \n",
            "7        0.014424       -0.031946       0.079066  0.005930       -0.592832   \n",
            "8       -0.211246        0.247962      -0.246801  0.041223        1.065736   \n",
            "9       -0.001492        0.003632      -0.009427  0.000101        0.078629   \n",
            "10      -0.278287        0.331952      -0.344166  0.089804        1.737763   \n",
            "11      -0.005941        0.009107      -0.015440  0.000263        0.126867   \n",
            "12      -0.017632        0.027027      -0.045823  0.002321        0.372812   \n",
            "13       0.243857       -0.226100       0.042509  0.035421        1.112050   \n",
            "14      -0.007263       -0.020493       0.099328  0.041010       -1.996242   \n",
            "15      -0.100221        0.096811      -0.051261  0.032553       -1.755427   \n",
            "16      -0.519097        0.536531      -0.284858  0.131731        1.619093   \n",
            "17       0.602249       -0.612202       0.284957  0.167869       -2.056424   \n",
            "18      -0.169655        0.179193      -0.131762  0.020564       -0.932914   \n",
            "19      -0.025069        0.026036      -0.016326  0.000262       -0.049471   \n",
            "20      -0.042117        0.033467       0.034619  0.011903        0.923536   \n",
            "21       0.087666       -0.079100      -0.012581  0.011539       -0.878487   \n",
            "22       0.162236       -0.191183       0.227812  0.048768        1.510931   \n",
            "23       0.002093       -0.002469       0.002803  0.000004        0.009935   \n",
            "24      -0.002895        0.005561      -0.014616  0.000136       -0.073476   \n",
            "25      -0.082757        0.031098       0.218310  0.042104        1.115062   \n",
            "26      -0.069220        0.037253       0.126826  0.016285        0.679112   \n",
            "27      -0.031259       -0.027153       0.271945  0.046711        1.088777   \n",
            "28       0.017642        0.018456      -0.168607  0.017588       -0.710677   \n",
            "29       0.020509        0.021455      -0.196006  0.023769       -0.830626   \n",
            "30       0.044120       -0.028200      -0.057114  0.003287       -0.214612   \n",
            "\n",
            "    hat_diag  dffits_internal  \n",
            "0   0.153210         0.111183  \n",
            "1   0.171984         0.207858  \n",
            "2   0.199652         0.090492  \n",
            "3   0.057849        -0.041807  \n",
            "4   0.116000        -0.223037  \n",
            "5   0.145569        -0.254875  \n",
            "6   0.113081        -0.261462  \n",
            "7   0.048178        -0.133222  \n",
            "8   0.098191         0.352007  \n",
            "9   0.046655         0.017377  \n",
            "10  0.081907         0.519415  \n",
            "11  0.046813         0.028101  \n",
            "12  0.047705         0.083399  \n",
            "13  0.079128         0.326300  \n",
            "14  0.029949        -0.350619  \n",
            "15  0.030719        -0.312597  \n",
            "16  0.131003         0.630039  \n",
            "17  0.106415        -0.711225  \n",
            "18  0.066193        -0.248758  \n",
            "19  0.243207        -0.028119  \n",
            "20  0.040185         0.188887  \n",
            "21  0.042930        -0.186038  \n",
            "22  0.060227         0.382561  \n",
            "23  0.114677         0.003577  \n",
            "24  0.070265        -0.020162  \n",
            "25  0.092221         0.354399  \n",
            "26  0.095783         0.220404  \n",
            "27  0.105716         0.373219  \n",
            "28  0.094590        -0.229011  \n",
            "29  0.093672        -0.266226  \n",
            "30  0.176324        -0.098969  \n"
          ]
        }
      ]
    },
    {
      "cell_type": "markdown",
      "source": [
        "# Your Turn"
      ],
      "metadata": {
        "id": "Mnez48qsgb_2"
      }
    },
    {
      "cell_type": "markdown",
      "source": [
        "## Analyse data of car accidents in Sweeden."
      ],
      "metadata": {
        "id": "HiAaI4oggdg8"
      }
    },
    {
      "cell_type": "code",
      "source": [
        "# import dataset\n",
        "url = \"https://raw.githubusercontent.com/francji1/01ZLMA/main/data/sweden.csv\"\n",
        "cars = pd.read_csv(url, sep = ',', header=[0])\n",
        "cars"
      ],
      "metadata": {
        "colab": {
          "base_uri": "https://localhost:8080/",
          "height": 1000
        },
        "id": "3i39zcsGgUfK",
        "outputId": "eb310f06-fe8b-4f07-942f-28d344b6c13e"
      },
      "execution_count": null,
      "outputs": [
        {
          "output_type": "execute_result",
          "data": {
            "text/plain": [
              "    Year  Deaths  Cars  Fuel\n",
              "0   1955     902   755  1531\n",
              "1   1956     889   855  1657\n",
              "2   1957     946   987  1738\n",
              "3   1958     941  1098  1893\n",
              "4   1959    1000  1216  2011\n",
              "5   1960    1036  1324  2127\n",
              "6   1961    1083  1439  2318\n",
              "7   1962    1123  1562  2394\n",
              "8   1963    1217  1697  2609\n",
              "9   1964    1308  1810  2857\n",
              "10  1965    1313  1934  3043\n",
              "11  1966    1313  2033  3165\n",
              "12  1967    1077  2126  3292\n",
              "13  1968    1262  2223  3451\n",
              "14  1969    1275  2350  3635\n",
              "15  1970    1307  2446  3781\n",
              "16  1971    1213  2513  3870\n",
              "17  1972    1194  2618  4025\n",
              "18  1973    1177  2667  4251\n",
              "19  1974    1197  2809  3921\n",
              "20  1975    1172  2931  4383\n",
              "21  1976    1168  3060  4624\n",
              "22  1977    1031  3039  4811\n",
              "23  1978    1034  3042  4945\n",
              "24  1979     928  3059  4913\n",
              "25  1980     848  3077  4751\n",
              "26  1981     784  3093  4679\n",
              "27  1982     758  3143  4712\n",
              "28  1983     779  3222  4834\n",
              "29  1984     801  3305  5028\n",
              "30  1985     808  3383  5067\n",
              "31  1986     844  3497  5328\n",
              "32  1987     787  3626  5534\n",
              "33  1988     813  3764  5739\n",
              "34  1989     904  3887  5910\n",
              "35  1990     772  3925  5630\n",
              "36  1991     745  3945  5751\n",
              "37  1992     759  3906  5879\n",
              "38  1993     632  3882  5590\n",
              "39  1994     589  3912  5655\n",
              "40  1995     572  3953  5761\n",
              "41  1996     537  3981  5683\n",
              "42  1997     541  4053  5577\n",
              "43  1998     531  4145  5427\n",
              "44  1999     580  4259  5464\n",
              "45  2000     591  4388  5361\n",
              "46  2001     583  4428  5422\n",
              "47  2002     560  4468  5515\n",
              "48  2003     529  4511  5547\n",
              "49  2004     480  4570  5546\n",
              "50  2005     440  4633  5506\n",
              "51  2006     445  4701  5363\n",
              "52  2007     471  4782  5253\n",
              "53  2008     397  4809  4930\n",
              "54  2009     358  4837  4845\n",
              "55  2010     266  4884  4550"
            ],
            "text/html": [
              "\n",
              "  <div id=\"df-ec757f13-936e-47fd-ba68-822ba06913eb\">\n",
              "    <div class=\"colab-df-container\">\n",
              "      <div>\n",
              "<style scoped>\n",
              "    .dataframe tbody tr th:only-of-type {\n",
              "        vertical-align: middle;\n",
              "    }\n",
              "\n",
              "    .dataframe tbody tr th {\n",
              "        vertical-align: top;\n",
              "    }\n",
              "\n",
              "    .dataframe thead th {\n",
              "        text-align: right;\n",
              "    }\n",
              "</style>\n",
              "<table border=\"1\" class=\"dataframe\">\n",
              "  <thead>\n",
              "    <tr style=\"text-align: right;\">\n",
              "      <th></th>\n",
              "      <th>Year</th>\n",
              "      <th>Deaths</th>\n",
              "      <th>Cars</th>\n",
              "      <th>Fuel</th>\n",
              "    </tr>\n",
              "  </thead>\n",
              "  <tbody>\n",
              "    <tr>\n",
              "      <th>0</th>\n",
              "      <td>1955</td>\n",
              "      <td>902</td>\n",
              "      <td>755</td>\n",
              "      <td>1531</td>\n",
              "    </tr>\n",
              "    <tr>\n",
              "      <th>1</th>\n",
              "      <td>1956</td>\n",
              "      <td>889</td>\n",
              "      <td>855</td>\n",
              "      <td>1657</td>\n",
              "    </tr>\n",
              "    <tr>\n",
              "      <th>2</th>\n",
              "      <td>1957</td>\n",
              "      <td>946</td>\n",
              "      <td>987</td>\n",
              "      <td>1738</td>\n",
              "    </tr>\n",
              "    <tr>\n",
              "      <th>3</th>\n",
              "      <td>1958</td>\n",
              "      <td>941</td>\n",
              "      <td>1098</td>\n",
              "      <td>1893</td>\n",
              "    </tr>\n",
              "    <tr>\n",
              "      <th>4</th>\n",
              "      <td>1959</td>\n",
              "      <td>1000</td>\n",
              "      <td>1216</td>\n",
              "      <td>2011</td>\n",
              "    </tr>\n",
              "    <tr>\n",
              "      <th>5</th>\n",
              "      <td>1960</td>\n",
              "      <td>1036</td>\n",
              "      <td>1324</td>\n",
              "      <td>2127</td>\n",
              "    </tr>\n",
              "    <tr>\n",
              "      <th>6</th>\n",
              "      <td>1961</td>\n",
              "      <td>1083</td>\n",
              "      <td>1439</td>\n",
              "      <td>2318</td>\n",
              "    </tr>\n",
              "    <tr>\n",
              "      <th>7</th>\n",
              "      <td>1962</td>\n",
              "      <td>1123</td>\n",
              "      <td>1562</td>\n",
              "      <td>2394</td>\n",
              "    </tr>\n",
              "    <tr>\n",
              "      <th>8</th>\n",
              "      <td>1963</td>\n",
              "      <td>1217</td>\n",
              "      <td>1697</td>\n",
              "      <td>2609</td>\n",
              "    </tr>\n",
              "    <tr>\n",
              "      <th>9</th>\n",
              "      <td>1964</td>\n",
              "      <td>1308</td>\n",
              "      <td>1810</td>\n",
              "      <td>2857</td>\n",
              "    </tr>\n",
              "    <tr>\n",
              "      <th>10</th>\n",
              "      <td>1965</td>\n",
              "      <td>1313</td>\n",
              "      <td>1934</td>\n",
              "      <td>3043</td>\n",
              "    </tr>\n",
              "    <tr>\n",
              "      <th>11</th>\n",
              "      <td>1966</td>\n",
              "      <td>1313</td>\n",
              "      <td>2033</td>\n",
              "      <td>3165</td>\n",
              "    </tr>\n",
              "    <tr>\n",
              "      <th>12</th>\n",
              "      <td>1967</td>\n",
              "      <td>1077</td>\n",
              "      <td>2126</td>\n",
              "      <td>3292</td>\n",
              "    </tr>\n",
              "    <tr>\n",
              "      <th>13</th>\n",
              "      <td>1968</td>\n",
              "      <td>1262</td>\n",
              "      <td>2223</td>\n",
              "      <td>3451</td>\n",
              "    </tr>\n",
              "    <tr>\n",
              "      <th>14</th>\n",
              "      <td>1969</td>\n",
              "      <td>1275</td>\n",
              "      <td>2350</td>\n",
              "      <td>3635</td>\n",
              "    </tr>\n",
              "    <tr>\n",
              "      <th>15</th>\n",
              "      <td>1970</td>\n",
              "      <td>1307</td>\n",
              "      <td>2446</td>\n",
              "      <td>3781</td>\n",
              "    </tr>\n",
              "    <tr>\n",
              "      <th>16</th>\n",
              "      <td>1971</td>\n",
              "      <td>1213</td>\n",
              "      <td>2513</td>\n",
              "      <td>3870</td>\n",
              "    </tr>\n",
              "    <tr>\n",
              "      <th>17</th>\n",
              "      <td>1972</td>\n",
              "      <td>1194</td>\n",
              "      <td>2618</td>\n",
              "      <td>4025</td>\n",
              "    </tr>\n",
              "    <tr>\n",
              "      <th>18</th>\n",
              "      <td>1973</td>\n",
              "      <td>1177</td>\n",
              "      <td>2667</td>\n",
              "      <td>4251</td>\n",
              "    </tr>\n",
              "    <tr>\n",
              "      <th>19</th>\n",
              "      <td>1974</td>\n",
              "      <td>1197</td>\n",
              "      <td>2809</td>\n",
              "      <td>3921</td>\n",
              "    </tr>\n",
              "    <tr>\n",
              "      <th>20</th>\n",
              "      <td>1975</td>\n",
              "      <td>1172</td>\n",
              "      <td>2931</td>\n",
              "      <td>4383</td>\n",
              "    </tr>\n",
              "    <tr>\n",
              "      <th>21</th>\n",
              "      <td>1976</td>\n",
              "      <td>1168</td>\n",
              "      <td>3060</td>\n",
              "      <td>4624</td>\n",
              "    </tr>\n",
              "    <tr>\n",
              "      <th>22</th>\n",
              "      <td>1977</td>\n",
              "      <td>1031</td>\n",
              "      <td>3039</td>\n",
              "      <td>4811</td>\n",
              "    </tr>\n",
              "    <tr>\n",
              "      <th>23</th>\n",
              "      <td>1978</td>\n",
              "      <td>1034</td>\n",
              "      <td>3042</td>\n",
              "      <td>4945</td>\n",
              "    </tr>\n",
              "    <tr>\n",
              "      <th>24</th>\n",
              "      <td>1979</td>\n",
              "      <td>928</td>\n",
              "      <td>3059</td>\n",
              "      <td>4913</td>\n",
              "    </tr>\n",
              "    <tr>\n",
              "      <th>25</th>\n",
              "      <td>1980</td>\n",
              "      <td>848</td>\n",
              "      <td>3077</td>\n",
              "      <td>4751</td>\n",
              "    </tr>\n",
              "    <tr>\n",
              "      <th>26</th>\n",
              "      <td>1981</td>\n",
              "      <td>784</td>\n",
              "      <td>3093</td>\n",
              "      <td>4679</td>\n",
              "    </tr>\n",
              "    <tr>\n",
              "      <th>27</th>\n",
              "      <td>1982</td>\n",
              "      <td>758</td>\n",
              "      <td>3143</td>\n",
              "      <td>4712</td>\n",
              "    </tr>\n",
              "    <tr>\n",
              "      <th>28</th>\n",
              "      <td>1983</td>\n",
              "      <td>779</td>\n",
              "      <td>3222</td>\n",
              "      <td>4834</td>\n",
              "    </tr>\n",
              "    <tr>\n",
              "      <th>29</th>\n",
              "      <td>1984</td>\n",
              "      <td>801</td>\n",
              "      <td>3305</td>\n",
              "      <td>5028</td>\n",
              "    </tr>\n",
              "    <tr>\n",
              "      <th>30</th>\n",
              "      <td>1985</td>\n",
              "      <td>808</td>\n",
              "      <td>3383</td>\n",
              "      <td>5067</td>\n",
              "    </tr>\n",
              "    <tr>\n",
              "      <th>31</th>\n",
              "      <td>1986</td>\n",
              "      <td>844</td>\n",
              "      <td>3497</td>\n",
              "      <td>5328</td>\n",
              "    </tr>\n",
              "    <tr>\n",
              "      <th>32</th>\n",
              "      <td>1987</td>\n",
              "      <td>787</td>\n",
              "      <td>3626</td>\n",
              "      <td>5534</td>\n",
              "    </tr>\n",
              "    <tr>\n",
              "      <th>33</th>\n",
              "      <td>1988</td>\n",
              "      <td>813</td>\n",
              "      <td>3764</td>\n",
              "      <td>5739</td>\n",
              "    </tr>\n",
              "    <tr>\n",
              "      <th>34</th>\n",
              "      <td>1989</td>\n",
              "      <td>904</td>\n",
              "      <td>3887</td>\n",
              "      <td>5910</td>\n",
              "    </tr>\n",
              "    <tr>\n",
              "      <th>35</th>\n",
              "      <td>1990</td>\n",
              "      <td>772</td>\n",
              "      <td>3925</td>\n",
              "      <td>5630</td>\n",
              "    </tr>\n",
              "    <tr>\n",
              "      <th>36</th>\n",
              "      <td>1991</td>\n",
              "      <td>745</td>\n",
              "      <td>3945</td>\n",
              "      <td>5751</td>\n",
              "    </tr>\n",
              "    <tr>\n",
              "      <th>37</th>\n",
              "      <td>1992</td>\n",
              "      <td>759</td>\n",
              "      <td>3906</td>\n",
              "      <td>5879</td>\n",
              "    </tr>\n",
              "    <tr>\n",
              "      <th>38</th>\n",
              "      <td>1993</td>\n",
              "      <td>632</td>\n",
              "      <td>3882</td>\n",
              "      <td>5590</td>\n",
              "    </tr>\n",
              "    <tr>\n",
              "      <th>39</th>\n",
              "      <td>1994</td>\n",
              "      <td>589</td>\n",
              "      <td>3912</td>\n",
              "      <td>5655</td>\n",
              "    </tr>\n",
              "    <tr>\n",
              "      <th>40</th>\n",
              "      <td>1995</td>\n",
              "      <td>572</td>\n",
              "      <td>3953</td>\n",
              "      <td>5761</td>\n",
              "    </tr>\n",
              "    <tr>\n",
              "      <th>41</th>\n",
              "      <td>1996</td>\n",
              "      <td>537</td>\n",
              "      <td>3981</td>\n",
              "      <td>5683</td>\n",
              "    </tr>\n",
              "    <tr>\n",
              "      <th>42</th>\n",
              "      <td>1997</td>\n",
              "      <td>541</td>\n",
              "      <td>4053</td>\n",
              "      <td>5577</td>\n",
              "    </tr>\n",
              "    <tr>\n",
              "      <th>43</th>\n",
              "      <td>1998</td>\n",
              "      <td>531</td>\n",
              "      <td>4145</td>\n",
              "      <td>5427</td>\n",
              "    </tr>\n",
              "    <tr>\n",
              "      <th>44</th>\n",
              "      <td>1999</td>\n",
              "      <td>580</td>\n",
              "      <td>4259</td>\n",
              "      <td>5464</td>\n",
              "    </tr>\n",
              "    <tr>\n",
              "      <th>45</th>\n",
              "      <td>2000</td>\n",
              "      <td>591</td>\n",
              "      <td>4388</td>\n",
              "      <td>5361</td>\n",
              "    </tr>\n",
              "    <tr>\n",
              "      <th>46</th>\n",
              "      <td>2001</td>\n",
              "      <td>583</td>\n",
              "      <td>4428</td>\n",
              "      <td>5422</td>\n",
              "    </tr>\n",
              "    <tr>\n",
              "      <th>47</th>\n",
              "      <td>2002</td>\n",
              "      <td>560</td>\n",
              "      <td>4468</td>\n",
              "      <td>5515</td>\n",
              "    </tr>\n",
              "    <tr>\n",
              "      <th>48</th>\n",
              "      <td>2003</td>\n",
              "      <td>529</td>\n",
              "      <td>4511</td>\n",
              "      <td>5547</td>\n",
              "    </tr>\n",
              "    <tr>\n",
              "      <th>49</th>\n",
              "      <td>2004</td>\n",
              "      <td>480</td>\n",
              "      <td>4570</td>\n",
              "      <td>5546</td>\n",
              "    </tr>\n",
              "    <tr>\n",
              "      <th>50</th>\n",
              "      <td>2005</td>\n",
              "      <td>440</td>\n",
              "      <td>4633</td>\n",
              "      <td>5506</td>\n",
              "    </tr>\n",
              "    <tr>\n",
              "      <th>51</th>\n",
              "      <td>2006</td>\n",
              "      <td>445</td>\n",
              "      <td>4701</td>\n",
              "      <td>5363</td>\n",
              "    </tr>\n",
              "    <tr>\n",
              "      <th>52</th>\n",
              "      <td>2007</td>\n",
              "      <td>471</td>\n",
              "      <td>4782</td>\n",
              "      <td>5253</td>\n",
              "    </tr>\n",
              "    <tr>\n",
              "      <th>53</th>\n",
              "      <td>2008</td>\n",
              "      <td>397</td>\n",
              "      <td>4809</td>\n",
              "      <td>4930</td>\n",
              "    </tr>\n",
              "    <tr>\n",
              "      <th>54</th>\n",
              "      <td>2009</td>\n",
              "      <td>358</td>\n",
              "      <td>4837</td>\n",
              "      <td>4845</td>\n",
              "    </tr>\n",
              "    <tr>\n",
              "      <th>55</th>\n",
              "      <td>2010</td>\n",
              "      <td>266</td>\n",
              "      <td>4884</td>\n",
              "      <td>4550</td>\n",
              "    </tr>\n",
              "  </tbody>\n",
              "</table>\n",
              "</div>\n",
              "      <button class=\"colab-df-convert\" onclick=\"convertToInteractive('df-ec757f13-936e-47fd-ba68-822ba06913eb')\"\n",
              "              title=\"Convert this dataframe to an interactive table.\"\n",
              "              style=\"display:none;\">\n",
              "        \n",
              "  <svg xmlns=\"http://www.w3.org/2000/svg\" height=\"24px\"viewBox=\"0 0 24 24\"\n",
              "       width=\"24px\">\n",
              "    <path d=\"M0 0h24v24H0V0z\" fill=\"none\"/>\n",
              "    <path d=\"M18.56 5.44l.94 2.06.94-2.06 2.06-.94-2.06-.94-.94-2.06-.94 2.06-2.06.94zm-11 1L8.5 8.5l.94-2.06 2.06-.94-2.06-.94L8.5 2.5l-.94 2.06-2.06.94zm10 10l.94 2.06.94-2.06 2.06-.94-2.06-.94-.94-2.06-.94 2.06-2.06.94z\"/><path d=\"M17.41 7.96l-1.37-1.37c-.4-.4-.92-.59-1.43-.59-.52 0-1.04.2-1.43.59L10.3 9.45l-7.72 7.72c-.78.78-.78 2.05 0 2.83L4 21.41c.39.39.9.59 1.41.59.51 0 1.02-.2 1.41-.59l7.78-7.78 2.81-2.81c.8-.78.8-2.07 0-2.86zM5.41 20L4 18.59l7.72-7.72 1.47 1.35L5.41 20z\"/>\n",
              "  </svg>\n",
              "      </button>\n",
              "      \n",
              "  <style>\n",
              "    .colab-df-container {\n",
              "      display:flex;\n",
              "      flex-wrap:wrap;\n",
              "      gap: 12px;\n",
              "    }\n",
              "\n",
              "    .colab-df-convert {\n",
              "      background-color: #E8F0FE;\n",
              "      border: none;\n",
              "      border-radius: 50%;\n",
              "      cursor: pointer;\n",
              "      display: none;\n",
              "      fill: #1967D2;\n",
              "      height: 32px;\n",
              "      padding: 0 0 0 0;\n",
              "      width: 32px;\n",
              "    }\n",
              "\n",
              "    .colab-df-convert:hover {\n",
              "      background-color: #E2EBFA;\n",
              "      box-shadow: 0px 1px 2px rgba(60, 64, 67, 0.3), 0px 1px 3px 1px rgba(60, 64, 67, 0.15);\n",
              "      fill: #174EA6;\n",
              "    }\n",
              "\n",
              "    [theme=dark] .colab-df-convert {\n",
              "      background-color: #3B4455;\n",
              "      fill: #D2E3FC;\n",
              "    }\n",
              "\n",
              "    [theme=dark] .colab-df-convert:hover {\n",
              "      background-color: #434B5C;\n",
              "      box-shadow: 0px 1px 3px 1px rgba(0, 0, 0, 0.15);\n",
              "      filter: drop-shadow(0px 1px 2px rgba(0, 0, 0, 0.3));\n",
              "      fill: #FFFFFF;\n",
              "    }\n",
              "  </style>\n",
              "\n",
              "      <script>\n",
              "        const buttonEl =\n",
              "          document.querySelector('#df-ec757f13-936e-47fd-ba68-822ba06913eb button.colab-df-convert');\n",
              "        buttonEl.style.display =\n",
              "          google.colab.kernel.accessAllowed ? 'block' : 'none';\n",
              "\n",
              "        async function convertToInteractive(key) {\n",
              "          const element = document.querySelector('#df-ec757f13-936e-47fd-ba68-822ba06913eb');\n",
              "          const dataTable =\n",
              "            await google.colab.kernel.invokeFunction('convertToInteractive',\n",
              "                                                     [key], {});\n",
              "          if (!dataTable) return;\n",
              "\n",
              "          const docLinkHtml = 'Like what you see? Visit the ' +\n",
              "            '<a target=\"_blank\" href=https://colab.research.google.com/notebooks/data_table.ipynb>data table notebook</a>'\n",
              "            + ' to learn more about interactive tables.';\n",
              "          element.innerHTML = '';\n",
              "          dataTable['output_type'] = 'display_data';\n",
              "          await google.colab.output.renderOutput(dataTable, element);\n",
              "          const docLink = document.createElement('div');\n",
              "          docLink.innerHTML = docLinkHtml;\n",
              "          element.appendChild(docLink);\n",
              "        }\n",
              "      </script>\n",
              "    </div>\n",
              "  </div>\n",
              "  "
            ]
          },
          "metadata": {},
          "execution_count": 225
        }
      ]
    },
    {
      "cell_type": "markdown",
      "source": [
        "Dataset contains the number of deaths, he number of registered cars, the annual volume of sold fuels, the number of registered vehicles and the year. Our goal will be to create the best possible model for death rates. Since these are the number of events per unit time, we use the Poisson distribution with the *canonical link function*  $g (\\mu) = log(\\mu) $.\n",
        "\n",
        "Because the observed period is relatively long and there have been significant changes in transport, we will only consider data from 1975."
      ],
      "metadata": {
        "id": "gAg1k49wgfhv"
      }
    },
    {
      "cell_type": "markdown",
      "source": [
        "# Tasks \n",
        "\n",
        "* Find the best posssible model. Try add all varariables up to the second order interactions. You can use `step()` function based on `AIC`.\n",
        "* Analyse residuals and check systematic components. \n",
        "* If incorrect linear predictor appears, try to transform corresponding variable. Hint: `Fuel_transformed <- log(abs(Fuel-mean(Fuel)))`\n",
        "* Run post hoc analysis of your final model again\n",
        "* Find influence observations and decide how to cope with them (if any)\n",
        "* Hide last 5 observations, train the model using remaining and try to predict response for the 5 hidden latest observations. Plot predictiions together with true observations.\n"
      ],
      "metadata": {
        "id": "CADg8C06gs9o"
      }
    }
  ]
}