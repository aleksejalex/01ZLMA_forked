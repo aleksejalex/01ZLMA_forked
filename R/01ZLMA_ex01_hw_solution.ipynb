{
  "nbformat": 4,
  "nbformat_minor": 0,
  "metadata": {
    "colab": {
      "provenance": [],
      "include_colab_link": true
    },
    "kernelspec": {
      "name": "ir",
      "display_name": "R"
    },
    "gpuClass": "standard"
  },
  "cells": [
    {
      "cell_type": "markdown",
      "metadata": {
        "id": "view-in-github",
        "colab_type": "text"
      },
      "source": [
        "<a href=\"https://colab.research.google.com/github/francji1/01ZLMA/blob/main/R/01ZLMA_ex01_hw_solution.ipynb\" target=\"_parent\"><img src=\"https://colab.research.google.com/assets/colab-badge.svg\" alt=\"Open In Colab\"/></a>"
      ]
    },
    {
      "cell_type": "markdown",
      "metadata": {
        "id": "x-i6MbNFm4Zt"
      },
      "source": [
        "#Exercise 01 of the course 01ZLMA. \n",
        "\n",
        "## Solution of HW 01\n"
      ]
    },
    {
      "cell_type": "code",
      "source": [],
      "metadata": {
        "id": "n6pn5ebFXHl5"
      },
      "execution_count": null,
      "outputs": []
    },
    {
      "cell_type": "markdown",
      "metadata": {
        "id": "V4SOhd00XJ9g"
      },
      "source": [
        "##  Necessary theory recap from Lectures 01-03\n",
        "\n",
        "Let's consider (m1):\n",
        "  1. realization $(y_i,\\ldots,y_n)$ of $iid$ random variables $Y_1,\\ldots,Y_n$ with probability density function $f(y;\\theta;\\phi)$ from an exponential family of probability distributions\n",
        "  $$f(y;\\theta;\\phi) = exp\\left(\\frac{y \\theta - b(\\theta)}{a(\\phi)} - c(y,\\phi)\\right),$$\n",
        "  where conditions of regularity are fulfilled (one dimensional case, i.e. $y_i,\\theta_i \\in R, a(\\phi) >0, \\phi >0)$.\n",
        "  2. Regression matrix $X$ and vector of unknown parameters $\\beta$, linear predictor $η = X \\beta$\n",
        "  3. A link function $g(x)$\n",
        "  $$\\eta_i = g(\\mu_i) = x_i^T \\beta, \\ \\text{where} \\ \\mu_i = E[Y_i] \\ \\ i = 1,\\ldots,n$$\n",
        "\n",
        "The dispersion $a(\\phi)$ is typically known. If not, we take it as nuisance parameter.\n",
        "\n",
        "Link function satisfying $g(\\mu_i) = \\theta_i$ is called canonical."
      ]
    },
    {
      "cell_type": "markdown",
      "metadata": {
        "id": "SpQUiXf-QkGA"
      },
      "source": [
        "For $b(\\theta) \\in C^2$ we showed:\n",
        "$$E[Y] = b'(\\theta) $$\n",
        "$$V[Y] = a(\\phi) b''(\\theta) $$\n",
        "and defined variance function $v(\\mu) = \\frac{\\partial \\mu}{\\partial \\theta}$, i.e. $V[Y] = a(\\phi) v(\\mu)$"
      ]
    },
    {
      "cell_type": "markdown",
      "metadata": {
        "id": "lcJB1uOTZEBZ"
      },
      "source": [
        "Relations:\n",
        "\n",
        "$$\n",
        "\\beta \\xrightarrow[]{\\eta_i = x_i^T\\beta} \\eta\n",
        "\\xrightarrow[]{\\mu_i = g^{-1}(\\eta_i)}  \\mu\n",
        "\\xrightarrow[]{\\theta_i = (b')^{-1}(\\mu_i)}  \\theta\n",
        "$$ \n",
        "\n",
        "Inverse relatiions\n",
        "$$\n",
        "\\eta_i \n",
        "\\xleftarrow[]{}  \\mu\n",
        "\\xleftarrow[]{}  \\theta\n",
        "$$ \n"
      ]
    },
    {
      "cell_type": "markdown",
      "source": [
        "**Lemma**:\n",
        "Let Y have an exponential type distribution with density given in m1, where $b(\\theta)$ is 2 times continuously differentiable, then there exists a everywhere finite moment generating function $M_Y(t) = E[e^{ty}]$ that is 2 times differentiable at 0 and it holds:\n",
        "* $E[Y] = b'(\\theta)$ \n",
        "* $V[Y] = a(\\phi) b''(\\theta)$"
      ],
      "metadata": {
        "id": "mR9oONJlaTJu"
      }
    },
    {
      "cell_type": "markdown",
      "metadata": {
        "id": "w2c7jDIXSGGL"
      },
      "source": [
        "## HW 01\n",
        "\n",
        "Compute $E[Y]$, $V[Y]$, and $v(Y)$ by the help of moment generating function theory for the following disributions:\n",
        "* Normal: $N(\\mu,\\sigma^2)$\n",
        "* Poisson: $Poi(\\lambda)$\n",
        "* Bernoulli: $Ber(p)$\n",
        "* Gamma: $\\Gamma[a,p]$\n",
        "* Inverse: Gaussian $IG[\\mu, \\lambda]$\n",
        "\n",
        "\n",
        "Questions:\n",
        "* Which distributions can fulfill homoscedasticity?\n",
        "* For which distribution the variance increases with the square of the mean value?\n",
        "* Does exists a distribution, where $V[Y] = k \\cdot \\mu$ ?\n"
      ]
    },
    {
      "cell_type": "markdown",
      "source": [
        "## Solution"
      ],
      "metadata": {
        "id": "OEuIKhcKXSpr"
      }
    },
    {
      "cell_type": "markdown",
      "source": [
        "\n",
        "\n",
        "####  Normal: $N(\\mu,\\sigma^2)$\n",
        "$f(y, \\mu, \\sigma^2) = \\frac{1}{\\sqrt {{(2\\pi )} \\sigma^2}}  {\\mathrm {e}}^-{\\frac{{\\left(y- \\mu \\right)}^{T}{\\left( y-\\mu \\right)}}{\\sigma^2}} = {\\mathrm {e}}^{\\frac{y \\mu - \\frac{\\mu^2}{2}}{\\sigma^2} - \\left(  \\frac{y^2}{2\\sigma^2} + \\frac{1}{2} ln(2 \\pi \\sigma^2) \\right)}$\n",
        "\n",
        "* $\\theta = \\mu  \\Rightarrow b(\\theta) = \\frac{\\mu^2}{2}$\n",
        "* $\\phi = \\sigma^2 ⇒ a(\\phi) = \\sigma^2$\n",
        "*  $E[Y] = b'(\\theta) = \\mu$\n",
        "* $V[Y] = \\sigma^2 b''(\\theta)= \\sigma^2 $\n",
        "\n",
        "Linear variance function: $v(\\mu) = 1$\n"
      ],
      "metadata": {
        "id": "c9bkyLnEetFA"
      }
    },
    {
      "cell_type": "markdown",
      "source": [
        "\n",
        "\n",
        "\n",
        "####  Poisson: $Poi(\\lambda)$\n",
        "\n",
        "$f(x,\\lambda) = \\frac{\\lambda^x e^{-\\lambda}}{x!} = exp(x ln(\\lambda)  -\\lambda -ln(x!)) $\n",
        "\n",
        "* $\\theta = ln(\\lambda) \\Rightarrow b(\\theta) = e^{\\theta}  \\ \\text{and} \\  \\phi = 1$\n",
        "*  $E[Y] = b'(\\theta) = e^{\\theta} = \\lambda$\n",
        "* $V[Y] = b''(\\theta)=e^{\\theta} = \\lambda$\n",
        "\n",
        "Linear variance function: $v(\\mu) = \\mu$\n",
        "\n",
        "\n"
      ],
      "metadata": {
        "id": "1r_Cb5Roerth"
      }
    },
    {
      "cell_type": "markdown",
      "source": [
        "####  Bernoulli: $Ber(p)$\n",
        "\n",
        "$f(y,p) = p^y(1-p)^{1-y} = \\textrm{exp}(y\\textrm{ln}(p))+(1-y)\\textrm{ln}(1-p)=\\textrm{exp}(y\\textrm{ln}(\\frac{p}{1-p}))+\\textrm{ln}(1-p)$\n",
        "\n",
        "* $\\phi = 1$, $b(\\theta) = \\textrm{ln}(1+e^{θ})$, $\\theta = \\textrm{ln}(\\frac{p}{1+p})\\implies p=\\frac{e^{θ}}{1+e^{θ}}$\n",
        "* $E[Y] = b'(\\theta) = \\frac{e^{θ}}{1+e^{θ}} = λ$\n",
        "* $V[Y] = b''(\\theta) = \\frac{e^{θ}}{(1+e^{θ})^2}$\n",
        "\n",
        "Linear variance function: $v(\\mu)=\\frac{e^{θ}}{(1+e^{θ})^2} = (1-\\mu)\\mu$"
      ],
      "metadata": {
        "id": "6UGKgSdgHvUD"
      }
    },
    {
      "cell_type": "markdown",
      "source": [
        "####  Gamma: $\\Gamma[α,\\beta]$\n",
        "\n",
        "\n",
        "$f(y,\\alpha,\\beta) = {\\frac {y^{\\alpha -1}e^{-\\beta y}\\beta ^{\\alpha }}{\\Gamma (\\alpha )}}$, kde $y>0$ a $\\alpha ,\\beta >0$\n",
        "\n",
        "Dále označme $\\beta=\\frac{\\alpha}{p}$, pak:\n",
        "$$\n",
        "\\begin{aligned}\n",
        "f(y,\\alpha,p) &= \\textrm{exp}\\Bigl[\\textrm{ln}\\bigl(f(y,\\alpha,p)\\bigr)\\Bigr]=\\textrm{exp}\\Bigl[\\alpha\\textrm{ln}(\\alpha)-\\alpha\\textrm{ln}(p)+(\\alpha-1)\\textrm{ln}(y)-\\textrm{ln}\\bigl(Γ(\\alpha)\\bigr)-\\frac{\\alpha}{p}y\\Bigr]=\\\\\n",
        "&=\\textrm{exp}\\Biggl[\\frac{\\Bigl(-\\frac{1}{p}\\Bigr)y-\\textrm{ln}(p)}{\\frac{1}{\\alpha}}+\\alpha\\textrm{ln}(\\alpha)+(\\alpha-1)\\textrm{ln}(y)-\\textrm{ln}\\bigl(Γ(\\alpha)\\bigr)\\Biggr]\\\\\n",
        "\\end{aligned}\n",
        "$$\n",
        "\n",
        "$\n",
        "\\begin{align*}\n",
        "θ =-\\frac{1}{p}, \\qquad \\phi=\\frac{1}{\\alpha}, \\qquad b(θ) &= \\textrm{ln}(p)=\\textrm{ln}\\Bigl(-\\frac{1}{θ}\\Bigr)=-\\textrm{ln}(-θ), \\\\\n",
        "a(\\phi) &= \\phi, \\\\\n",
        "c(y,\\phi) &= \\frac{1}{\\phi}\\textrm{ln}\\Bigl(\\frac{1}{\\phi}\\Bigr)+\\Bigl(\\frac{1}{\\phi}-1\\Bigr)\\textrm{ln}(y)-\\textrm{ln}\\biggl(Γ\\Bigl(\\frac{1}{\\phi}\\Bigr)\\biggr)\n",
        "\\end{align*}\n",
        "$\n",
        "\n",
        "* $E[Y] = b'(\\theta) = -\\frac{1}{θ}=\\mu$\n",
        "* $V[Y] = a(\\phi)\\cdot b''(\\theta) = \\frac{\\phi}{θ^2}$\n",
        "\n",
        "Linear variance function: $v(\\mu) =\\frac{1}{θ^2}= \\mu^2$"
      ],
      "metadata": {
        "id": "FzCxb2-2GyET"
      }
    },
    {
      "cell_type": "markdown",
      "source": [
        "####  Inverse Gaussian $IG[\\mu, \\lambda]$\n",
        "\n",
        "$$\n",
        "\\begin{aligned}\n",
        "f(y;\\mu,\\lambda )&=\\sqrt{\\frac{\\lambda}{2\\pi y^{3}}} \\exp {\\biggl (}-{\\frac {\\lambda (y-\\mu )^{2}}{2\\mu ^{2}y}}{\\biggr )}=\\exp\\biggl(\\frac{1}{2}\\textrm{ln}\\Bigl(\\frac{\\lambda}{2\\pi y^3}\\Bigr)-\\lambda\\Bigl(\\frac{y}{2\\mu^2}-\\frac{1}{\\mu}+\\frac{1}{2y}\\Bigr)\\biggr)= \\\\\n",
        "&=\\exp\\Biggl(\\frac{y\\cdot\\Bigl(\\frac{1}{2\\mu^2}\\Bigr)-\\frac{1}{\\mu}}{-\\frac{1}{\\lambda}}+\\frac{1}{2}\\Bigl(-\\frac{\\lambda}{y}+\\textrm{ln}\\lambda-\\textrm{ln}2\\pi-3\\textrm{ln}y\\Bigr)\\Biggr)\n",
        "\\end{aligned}\n",
        "$$\n",
        "\n",
        "\n",
        "$\n",
        "\\begin{align*}\n",
        "θ =\\frac{1}{2\\mu^2}, \\qquad \\phi=\\lambda, \\qquad b(θ) &= \\frac{1}{\\mu}=\\sqrt{2\\theta}, \\\\\n",
        "a(\\phi) &= -\\frac{1}{\\phi}, \\\\\n",
        "c(y,\\phi) &= \\frac{1}{2}\\Bigl(-\\frac{\\phi}{y}+\\textrm{ln}\\phi-\\textrm{ln}2\\pi-3\\textrm{ln}y\\Bigr)\n",
        "\\end{align*}\n",
        "$\n",
        "\n",
        "* $E[Y] = b'(\\theta) = \\frac{1}{\\sqrt{2\\theta}}=\\mu_1$\n",
        "* $V[Y] = a(\\phi)\\cdot b''(\\theta) = \\frac{1}{\\phi\\left(\\sqrt{2\\theta}\\right)^{3}}$\n",
        "\n",
        "Linear variance function: $v(\\mu_1) = \\frac{1}{\\left(\\sqrt{2\\theta}\\right)^{3}} = \\mu_1^3$"
      ],
      "metadata": {
        "id": "emOOBSggHwA9"
      }
    },
    {
      "cell_type": "markdown",
      "source": [
        "Homoskedasticita: normální rozdělení, "
      ],
      "metadata": {
        "id": "tuN0DeA6GtFs"
      }
    }
  ]
}