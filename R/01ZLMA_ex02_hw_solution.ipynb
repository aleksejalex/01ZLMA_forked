{
  "nbformat": 4,
  "nbformat_minor": 0,
  "metadata": {
    "colab": {
      "provenance": [],
      "name": " 01ZLMA_ex02_hw_solution.ipynb ",
      "include_colab_link": true
    },
    "kernelspec": {
      "name": "ir",
      "display_name": "R"
    },
    "gpuClass": "standard"
  },
  "cells": [
    {
      "cell_type": "markdown",
      "metadata": {
        "id": "view-in-github",
        "colab_type": "text"
      },
      "source": [
        "<a href=\"https://colab.research.google.com/github/francji1/01ZLMA/blob/main/R/01ZLMA_ex02_hw_solution.ipynb\" target=\"_parent\"><img src=\"https://colab.research.google.com/assets/colab-badge.svg\" alt=\"Open In Colab\"/></a>"
      ]
    },
    {
      "cell_type": "markdown",
      "metadata": {
        "id": "x-i6MbNFm4Zt"
      },
      "source": [
        "# 01ZLMA - Exercise 02 - Solution of HW\n",
        "Exercise 02 of the course 01ZLMA. \n",
        "\n"
      ]
    },
    {
      "cell_type": "markdown",
      "metadata": {
        "id": "593Mg4ZbbeEE"
      },
      "source": [
        "#  Theory recap from Lectures 01-03\n",
        "\n",
        "Let's consider (m1):\n",
        "  1. realization $(y_i,\\ldots,y_n)$ of $iid$ random variables $Y_1,\\ldots,Y_n$ with probability density function $f(y;\\theta;\\phi)$ from an exponential family of probability distributions\n",
        "  $$f(y;\\theta;\\phi) = exp\\left(\\frac{y \\theta - b(\\theta)}{a(\\phi)} - c(y,\\phi)\\right),$$\n",
        "  where conditions of regularity are fulfilled (one dimensional case, i.e. $y_i,\\theta_i \\in R, a(\\phi) >0, \\phi >0)$.\n",
        "  2. Regression matrix $X$ and vector of unknown parameters $\\beta$, linear predictor $η = X \\beta$\n",
        "  3. A link function $g(x)$\n",
        "  $$\\eta_i = g(\\mu_i) = x_i^T \\beta, \\ \\text{where} \\ \\mu_i = E[Y_i] \\ \\ i = 1,\\ldots,n$$\n",
        "\n",
        "The dispersion $a(\\phi)$ is typically known. If not, we take it as nuisance parameter.\n",
        "\n",
        "Link function satisfying $g(\\mu_i) = \\theta_i$ is called canonical."
      ]
    },
    {
      "cell_type": "markdown",
      "metadata": {
        "id": "SpQUiXf-QkGA"
      },
      "source": [
        "For $b(\\theta) \\in C^2$ we showed:\n",
        "$$E[Y] = b'(\\theta) $$\n",
        "$$V[Y] = a(\\phi) b''(\\theta) $$\n",
        "and defined variance function $v(\\mu) = \\frac{\\partial \\mu}{\\partial \\theta}$, i.e. $V[Y] = a(\\phi) v(\\mu)$"
      ]
    },
    {
      "cell_type": "markdown",
      "metadata": {
        "id": "lcJB1uOTZEBZ"
      },
      "source": [
        "Relations:\n",
        "\n",
        "$$\n",
        "\\beta \\xrightarrow[]{\\eta_i = x_i^T\\beta} \\eta\n",
        "\\xrightarrow[]{\\mu_i = g^{-1}(\\eta_i)}  \\mu\n",
        "\\xrightarrow[]{\\theta_i = (b')^{-1}(\\mu_i)}  \\theta\n",
        "$$ \n",
        "\n",
        "Inverse relatiions\n",
        "$$\n",
        "\\eta_i \n",
        "\\xleftarrow[]{}  \\mu\n",
        "\\xleftarrow[]{}  \\theta\n",
        "$$ \n"
      ]
    },
    {
      "cell_type": "markdown",
      "metadata": {
        "id": "Gd7Z1sV3YNOm"
      },
      "source": [
        "## Likelihood, Score function, Information matrix \n",
        "(Under conditions M1,M2 and regularity conditions R1-R3 from the lecture)\n",
        "\n",
        "* Likelihood function:\n",
        "$$L_n(\\Theta) = L_n(\\Theta|Y) = \\prod_{i=1}^{n} f(y_i|\\Theta) $$\n",
        "* log-likelihood function:\n",
        "$$l_n(\\Theta) = l_n(\\Theta|Y) = \\sum_{i=1}^{n} \\text{ln} f(y_i|\\Theta) $$\n",
        "* Score function:  ($R^m \\rightarrow R^m$):\n",
        "$$U = U(\\Theta|Y_i) = \\frac{\\partial \\text{ln} f(y_i|\\Theta)}{\\partial \\Theta} $$\n",
        "* Score vector (statistics):\n",
        "$$U_{n} = U_{n}(\\Theta|Y) = \\sum_{i=1}^{n} U(\\Theta|Y_i)= \\sum_{i=1}^{n} \\frac{\\partial l_i(\\Theta|y_i)}{\\partial \\Theta} $$\n",
        "* Fisher Information matrix\n",
        "$$ I_n (\\Theta) = E_{\\theta}[U_nU_n^T]$$\n",
        "with elements\n",
        "$$ I_{n,j,k} = E_{\\theta}[\\frac{\\partial l}{\\partial \\theta_j}\\frac{\\partial l}{\\partial \\theta_k}] = -E_{\\theta}[\\frac{\\partial^2 l}{\\theta_j \\theta_k}]$$\n",
        "\n",
        "\n"
      ]
    },
    {
      "cell_type": "code",
      "metadata": {
        "id": "wV3e4NaLbVZg",
        "colab": {
          "base_uri": "https://localhost:8080/"
        },
        "outputId": "9efbefe0-8aa6-44f3-8f7e-b6e8fe8e1212"
      },
      "source": [
        "library(tidyverse)\n",
        "library(lubridate)\n",
        "library(MASS)\n",
        "library(rmarkdown)\n",
        "\n",
        "#install.packages(\"plotly\")\n",
        "#library(plotly)\n",
        "\n",
        "#install.packages(\"car\")\n",
        "#library(car)\n",
        "#install.packages(\"GGally\")\n",
        "#library(GGally)\n",
        "\n",
        "#For sure: set dplyr functions\n",
        "select    <- dplyr::select;\n",
        "rename    <- dplyr::rename;\n",
        "mutate    <- dplyr::mutate; \n",
        "summarize <- dplyr::summarize;\n",
        "arrange   <- dplyr::arrange;\n",
        "slice     <- dplyr::slice;\n",
        "filter    <- dplyr::filter;\n",
        "recode    <- dplyr::recode"
      ],
      "execution_count": 3,
      "outputs": [
        {
          "output_type": "stream",
          "name": "stderr",
          "text": [
            "Warning message in system(\"timedatectl\", intern = TRUE):\n",
            "“running command 'timedatectl' had status 1”\n",
            "── \u001b[1mAttaching packages\u001b[22m ─────────────────────────────────────── tidyverse 1.3.1 ──\n",
            "\n",
            "\u001b[32m✔\u001b[39m \u001b[34mtibble \u001b[39m 3.2.0     \u001b[32m✔\u001b[39m \u001b[34mdplyr  \u001b[39m 1.1.0\n",
            "\u001b[32m✔\u001b[39m \u001b[34mtidyr  \u001b[39m 1.3.0     \u001b[32m✔\u001b[39m \u001b[34mstringr\u001b[39m 1.4.1\n",
            "\u001b[32m✔\u001b[39m \u001b[34mreadr  \u001b[39m 2.1.4     \u001b[32m✔\u001b[39m \u001b[34mforcats\u001b[39m 1.0.0\n",
            "\u001b[32m✔\u001b[39m \u001b[34mpurrr  \u001b[39m 1.0.1     \n",
            "\n",
            "── \u001b[1mConflicts\u001b[22m ────────────────────────────────────────── tidyverse_conflicts() ──\n",
            "\u001b[31m✖\u001b[39m \u001b[34mdplyr\u001b[39m::\u001b[32mfilter()\u001b[39m masks \u001b[34mstats\u001b[39m::filter()\n",
            "\u001b[31m✖\u001b[39m \u001b[34mdplyr\u001b[39m::\u001b[32mlag()\u001b[39m    masks \u001b[34mstats\u001b[39m::lag()\n",
            "\n",
            "\n",
            "Attaching package: ‘lubridate’\n",
            "\n",
            "\n",
            "The following objects are masked from ‘package:base’:\n",
            "\n",
            "    date, intersect, setdiff, union\n",
            "\n",
            "\n",
            "\n",
            "Attaching package: ‘MASS’\n",
            "\n",
            "\n",
            "The following object is masked from ‘package:dplyr’:\n",
            "\n",
            "    select\n",
            "\n",
            "\n",
            "Installing package into ‘/usr/local/lib/R/site-library’\n",
            "(as ‘lib’ is unspecified)\n",
            "\n",
            "also installing the dependencies ‘Rcpp’, ‘later’, ‘htmlwidgets’, ‘lazyeval’, ‘crosstalk’, ‘promises’\n",
            "\n",
            "\n",
            "\n",
            "Attaching package: ‘plotly’\n",
            "\n",
            "\n",
            "The following object is masked from ‘package:MASS’:\n",
            "\n",
            "    select\n",
            "\n",
            "\n",
            "The following object is masked from ‘package:ggplot2’:\n",
            "\n",
            "    last_plot\n",
            "\n",
            "\n",
            "The following object is masked from ‘package:stats’:\n",
            "\n",
            "    filter\n",
            "\n",
            "\n",
            "The following object is masked from ‘package:graphics’:\n",
            "\n",
            "    layout\n",
            "\n",
            "\n"
          ]
        }
      ]
    },
    {
      "cell_type": "code",
      "metadata": {
        "id": "dtjmAUwlXCxB",
        "colab": {
          "base_uri": "https://localhost:8080/"
        },
        "outputId": "b27ea9a9-ca35-472f-c384-396f1ab1fb5a"
      },
      "source": [
        "install.packages(\"GLMsData\")\n",
        "library(GLMsData)\n"
      ],
      "execution_count": 4,
      "outputs": [
        {
          "output_type": "stream",
          "name": "stderr",
          "text": [
            "Installing package into ‘/usr/local/lib/R/site-library’\n",
            "(as ‘lib’ is unspecified)\n",
            "\n"
          ]
        }
      ]
    },
    {
      "cell_type": "code",
      "metadata": {
        "id": "Z_t4k-_RXXoZ",
        "colab": {
          "base_uri": "https://localhost:8080/"
        },
        "outputId": "a8480d10-2b75-496a-c9b2-508d649a23ee"
      },
      "source": [
        "install.packages(\"dobson\")\n",
        "library(dobson)"
      ],
      "execution_count": 5,
      "outputs": [
        {
          "output_type": "stream",
          "name": "stderr",
          "text": [
            "Installing package into ‘/usr/local/lib/R/site-library’\n",
            "(as ‘lib’ is unspecified)\n",
            "\n",
            "\n",
            "Attaching package: ‘dobson’\n",
            "\n",
            "\n",
            "The following object is masked from ‘package:MASS’:\n",
            "\n",
            "    housing\n",
            "\n",
            "\n"
          ]
        }
      ]
    },
    {
      "cell_type": "markdown",
      "metadata": {
        "id": "IeGgMpKWX1EE"
      },
      "source": [
        "**Exercise 01**\n",
        "\n",
        "Estimate parameters $\\beta$ by MLE for M1.\n",
        "\n",
        "log-likelihood function is\n",
        "$$ l(\\theta, \\phi, y) = \\sum_{i=1}^n \\frac{y_i \\theta_i - b(\\theta_i)}{a_i(\\phi)} + \\sum_{i=1}^n c(y_i,\\phi) $$\n",
        "and we want to estimate $\\beta = (\\beta_1, \\ldots, \\beta_n)^T$, i.e.\n",
        "$$ \\hat{\\beta} = argmax_{\\beta}(l(\\theta,\\phi,y))$$\n",
        "$$\\Rightarrow$$\n",
        "$$ U_n = \\sum_{i=1}^n \\frac{y_i - \\mu_i}{V[Y_i]  g'(\\mu_i)} x_i = X^T M^{-1}(y-\\mu) = 0$$\n",
        "where $M = diag(V[Y_i]g'(\\mu_i))$\n",
        "$$\\Rightarrow$$\n",
        "$$ U_n(\\beta) = X^T W(\\beta)^{-1}Z(\\beta),$$\\\n",
        "where $W(\\beta) = diag(V[Y_i]g'(\\mu_i)^2)$ and $Z(\\beta) = diag(g'(\\mu_i)(y-\\mu))$\n"
      ]
    },
    {
      "cell_type": "markdown",
      "metadata": {
        "id": "GB8eoMx10gQN"
      },
      "source": [
        "It can be shown \n",
        "$$I_n = X^T W(\\beta)^{-1} X $$"
      ]
    },
    {
      "cell_type": "markdown",
      "metadata": {
        "id": "JKJ3w-ZY1WAS"
      },
      "source": [
        "## Newton Rapson\n",
        "\n",
        "For MLE using the score function, the estimating equation is\n",
        "$$\\hat{\\beta}^{(r+1)} = \\hat{\\beta}^{(r)} + \\frac{U(\\hat{\\beta}^{(r)})}{\\frac{d U(\\hat{\\beta}^{(r)})}{d \\theta}}$$\n",
        "\n",
        "Question: What are advantages and disadvantages of this method."
      ]
    },
    {
      "cell_type": "markdown",
      "metadata": {
        "id": "rALkO3BZ3VtS"
      },
      "source": [
        "## Fisher Scoring\n",
        "\n",
        "$$\\hat{\\beta}^{(r+1)} =  \\hat{\\beta}^{(r)} + \\frac{U(\\hat{\\beta}^{(r)})}{E [\\frac{d U(\\hat{\\beta}^{(r)})}{d \\theta} ]} = \\hat{\\beta}^{(r)} + \\frac{U(\\hat{\\beta}^{(r)})}{I(\\hat{\\beta}^{(r)})}$$\n",
        "\n",
        "Question: What are advantages and disadvantages of this method."
      ]
    },
    {
      "cell_type": "markdown",
      "metadata": {
        "id": "5AkAXyId3VtT"
      },
      "source": [
        "# IWLS\n",
        "\n",
        "$$I(\\hat{\\beta}^{(r)}) \\hat{\\beta}^{(r+1)}  =  I(\\hat{\\beta}^{(r)}) \\hat{\\beta}^{(r)} + U(\\hat{\\beta}^{(r)})$$\n",
        "$$ \\Rightarrow$$\n",
        "$$(X^T W(\\hat{\\beta}^{(r)})^{-1} X) \\hat{\\beta}^{(r+1)}  = X^T W(\\hat{\\beta}^{(r)})^{-1} Z(\\hat{\\beta}^{(r)})  $$\n",
        "$$ \\Rightarrow$$\n",
        "$$  \\hat{\\beta}^{(r+1)}  =  (X^T W(\\hat{\\beta}^{(r)})^{-1} X)^{-1} X^T W(\\hat{\\beta}^{(r)})^{-1} Z(\\hat{\\beta}^{(r)})  $$ \n",
        "where $Z(\\beta) = X \\beta + diag(g'(\\mu_i))(y-\\mu)$"
      ]
    },
    {
      "cell_type": "code",
      "metadata": {
        "id": "4vuRvxDiYAoe"
      },
      "source": [],
      "execution_count": 6,
      "outputs": []
    },
    {
      "cell_type": "markdown",
      "metadata": {
        "id": "8d4KK-T_YA_Q"
      },
      "source": [
        "## Poisson regression example (Dobson 4.4)\n",
        "\n"
      ]
    },
    {
      "cell_type": "code",
      "metadata": {
        "id": "I7zgGjhh1PLY",
        "colab": {
          "base_uri": "https://localhost:8080/",
          "height": 437
        },
        "outputId": "646a8c1f-32d9-43a2-f42a-fdcdcfda9e79"
      },
      "source": [
        "# Generate and plot the Dataset\n",
        "\n",
        "X <- c(-1,-1,0,0,0,0,1,1,1)\n",
        "Y <- c(2,3,6,7,8,9,10,12,15)\n",
        "n <- length(X)\n",
        "\n",
        "df1 <- data.frame(X=X, Y=Y)\n",
        "plot(X,Y,xlim = c(-1.5, 1.5), ylim = c(0, 16), col=\"red\",lwd=6)"
      ],
      "execution_count": 7,
      "outputs": [
        {
          "output_type": "display_data",
          "data": {
            "text/plain": [
              "plot without title"
            ],
            "image/png": "[encoded data removed]"
          },
          "metadata": {
            "image/png": {
              "width": 420,
              "height": 420
            }
          }
        }
      ]
    },
    {
      "cell_type": "code",
      "metadata": {
        "id": "fAOmEAkLIB3O"
      },
      "source": [
        "#plot_ly(df1, x=~ X, y=~Y, mode = \"markers\") %>%\n",
        "# layout(title = \"Scatter Plot by plotly\") %>%\n",
        "# embed_notebook()"
      ],
      "execution_count": 8,
      "outputs": []
    },
    {
      "cell_type": "markdown",
      "metadata": {
        "id": "iGs3-yFPADyY"
      },
      "source": [
        "Let us assume that the response $Y_i$ are Poisson random variables and model the relation ship between $Y_i$ and $x_i$ by the straight line, i.e.\n",
        "$$E[Y_i] = \\mu_i = \\beta_1 + \\beta_2 x_i = x_i^T \\beta \\  \\Rightarrow \\ q(\\mu_i) = \\mu_i =  x_i^T \\beta  = \\eta_i$$\n",
        "Therefore $\\frac{1}{g'(\\mu_i)} = 1 \\ \\Rightarrow \\ w_{ii} = \\frac{1}{V[Y]} = \\frac{1}{\\beta_1 + \\beta_2x_i}$ "
      ]
    },
    {
      "cell_type": "code",
      "source": [],
      "metadata": {
        "id": "gckVOc_rNcw_"
      },
      "execution_count": 9,
      "outputs": []
    },
    {
      "cell_type": "code",
      "metadata": {
        "id": "CM_S6yrHACvN"
      },
      "source": [
        "# Function to calcualate weights\n",
        "calc_W <- function(X,beta){\n",
        "  n = length(X[,1])\n",
        "  w = diag(c(1/(X%*%beta)),n,n)\n",
        "}"
      ],
      "execution_count": 10,
      "outputs": []
    },
    {
      "cell_type": "code",
      "metadata": {
        "id": "02IDNNJpC3Hh"
      },
      "source": [
        "# Initial values\n",
        "X=cbind(rep(1,length(n)),c(-1,-1,0,0,0,0,1,1,1))\n",
        "beta_0 = c(2,1)\n",
        "z = Y"
      ],
      "execution_count": 11,
      "outputs": []
    },
    {
      "cell_type": "code",
      "metadata": {
        "id": "BRhZk1xhESxC"
      },
      "source": [
        "# Compute Weight matrix\n",
        "W <- calc_W(X,beta_0)"
      ],
      "execution_count": 12,
      "outputs": []
    },
    {
      "cell_type": "code",
      "metadata": {
        "id": "6RhNW5a7_rNS",
        "colab": {
          "base_uri": "https://localhost:8080/",
          "height": 132
        },
        "outputId": "a12f579c-cacc-4a0d-d484-ff2a737cc368"
      },
      "source": [
        "# Step from beta_0 to beta_1\n",
        "beta_1 = solve(t(X)%*%W%*%X, t(X)%*%W%*%z)\n",
        "beta_1"
      ],
      "execution_count": 13,
      "outputs": [
        {
          "output_type": "display_data",
          "data": {
            "text/html": [
              "<table class=\"dataframe\">\n",
              "<caption>A matrix: 2 × 1 of type dbl</caption>\n",
              "<tbody>\n",
              "\t<tr><td>7.452381</td></tr>\n",
              "\t<tr><td>4.928571</td></tr>\n",
              "</tbody>\n",
              "</table>\n"
            ],
            "text/markdown": "\nA matrix: 2 × 1 of type dbl\n\n| 7.452381 |\n| 4.928571 |\n\n",
            "text/latex": "A matrix: 2 × 1 of type dbl\n\\begin{tabular}{l}\n\t 7.452381\\\\\n\t 4.928571\\\\\n\\end{tabular}\n",
            "text/plain": [
              "     [,1]    \n",
              "[1,] 7.452381\n",
              "[2,] 4.928571"
            ]
          },
          "metadata": {}
        }
      ]
    },
    {
      "cell_type": "code",
      "metadata": {
        "id": "Hqib7OjtIjCS",
        "colab": {
          "base_uri": "https://localhost:8080/",
          "height": 97
        },
        "outputId": "84c22dbc-7d4a-4c7d-a453-1a736b24e77f"
      },
      "source": [
        "# variance-covariance matrix for estamtes beta_1\n",
        "W = calc_W(X,beta_1)\n",
        "solve((t(X)%*%W%*%X))"
      ],
      "execution_count": 14,
      "outputs": [
        {
          "output_type": "display_data",
          "data": {
            "text/html": [
              "<table class=\"dataframe\">\n",
              "<caption>A matrix: 2 × 2 of type dbl</caption>\n",
              "<tbody>\n",
              "\t<tr><td>0.7818552</td><td>0.4156844</td></tr>\n",
              "\t<tr><td>0.4156844</td><td>1.1874117</td></tr>\n",
              "</tbody>\n",
              "</table>\n"
            ],
            "text/markdown": "\nA matrix: 2 × 2 of type dbl\n\n| 0.7818552 | 0.4156844 |\n| 0.4156844 | 1.1874117 |\n\n",
            "text/latex": "A matrix: 2 × 2 of type dbl\n\\begin{tabular}{ll}\n\t 0.7818552 & 0.4156844\\\\\n\t 0.4156844 & 1.1874117\\\\\n\\end{tabular}\n",
            "text/plain": [
              "     [,1]      [,2]     \n",
              "[1,] 0.7818552 0.4156844\n",
              "[2,] 0.4156844 1.1874117"
            ]
          },
          "metadata": {}
        }
      ]
    },
    {
      "cell_type": "markdown",
      "metadata": {
        "id": "cAmB4PDZJKEl"
      },
      "source": [
        "# Your turn:\n",
        "1. Write function to calculate IWLS for example 1 with following parameters\n",
        " * maximal number of iteration\n",
        " * accuracy\n",
        " * initial estimation\n",
        "2. Try different initialization (ols, random, lecture, ...). Plot convergence of parameters $\\beta_i$ depends on initial estimation.\n"
      ]
    },
    {
      "cell_type": "code",
      "metadata": {
        "id": "m2QAtB_zRb6x"
      },
      "source": [
        "# Set parameters\n",
        "\n",
        "maxiter <- 10        # maximal number of iteration\n",
        "epsilon <- 10^(-15)   # accuracy\n",
        "beta_init <- c(7,5)\n",
        "beta_all <- rbind(beta_init)"
      ],
      "execution_count": 15,
      "outputs": []
    },
    {
      "cell_type": "code",
      "metadata": {
        "id": "hVF3EMVzRiPc"
      },
      "source": [
        "IWLS_1 <- function(X,Y,beta_init, maxiter, epsilon){\n",
        "  # Fisher-scoring algorithm\n",
        "  i <- 1     # first iteration\n",
        "  convergence <- FALSE\n",
        "  beta_i <- beta_init\n",
        "  while (convergence == FALSE & i <= maxiter)\n",
        "  {\n",
        "  ## Place for your code ###\n",
        "  W = calc_W(X,beta_i)\n",
        "  beta_i = solve(t(X)%*%W%*%X, t(X)%*%W%*%Y)\n",
        "  print(i)\n",
        "  diff   <- max(t(beta_i) - beta_all[i,])\n",
        "  print(paste(\"beta_i:\",beta_i))\n",
        "  print(paste(\"diff:\",diff))\n",
        "  if (any(diff>=epsilon)){\n",
        "     i <- i+1\n",
        "     beta_all <- rbind(beta_all,t(beta_i))\n",
        "  }\n",
        "  else\n",
        "     convergence <- TRUE\n",
        "  }\n",
        "  return(data.frame(beta_all))\n",
        "}"
      ],
      "execution_count": 16,
      "outputs": []
    },
    {
      "cell_type": "markdown",
      "source": [
        "* Change the function to be able to change maxiter and epsilon in the input.\n",
        "* plot betas and its evolution"
      ],
      "metadata": {
        "id": "qPZYzFpE4x-5"
      }
    },
    {
      "cell_type": "code",
      "metadata": {
        "id": "1joSTqhKRA0Y",
        "colab": {
          "base_uri": "https://localhost:8080/",
          "height": 766
        },
        "outputId": "da31eccf-56a7-489e-b8e2-566e2c6cf38a"
      },
      "source": [
        "betas <- IWLS_1(X,Y,beta_init, maxiter, epsilon)\n",
        "names(betas) <-c(\"beta0\",\"beta1\")\n",
        "betas"
      ],
      "execution_count": 17,
      "outputs": [
        {
          "output_type": "stream",
          "name": "stdout",
          "text": [
            "[1] 1\n",
            "[1] \"beta_i: 7.45138888888889\" \"beta_i: 4.9375\"          \n",
            "[1] \"diff: 0.451388888888892\"\n",
            "[1] 2\n",
            "[1] \"beta_i: 7.45163180670753\" \"beta_i: 4.93531373963216\"\n",
            "[1] \"diff: 0.000242917818642496\"\n",
            "[1] 3\n",
            "[1] \"beta_i: 7.45163328051158\" \"beta_i: 4.93530047539575\"\n",
            "[1] \"diff: 1.47380404857955e-06\"\n",
            "[1] 4\n",
            "[1] \"beta_i: 7.45163328945272\" \"beta_i: 4.93530039492556\"\n",
            "[1] \"diff: 8.94113583171929e-09\"\n",
            "[1] 5\n",
            "[1] \"beta_i: 7.45163328950696\" \"beta_i: 4.93530039443737\"\n",
            "[1] \"diff: 5.42419442695063e-11\"\n",
            "[1] 6\n",
            "[1] \"beta_i: 7.45163328950728\" \"beta_i: 4.9353003944344\" \n",
            "[1] \"diff: 3.24185123190546e-13\"\n",
            "[1] 7\n",
            "[1] \"beta_i: 7.45163328950729\" \"beta_i: 4.93530039443439\"\n",
            "[1] \"diff: 5.32907051820075e-15\"\n",
            "[1] 8\n",
            "[1] \"beta_i: 7.45163328950729\" \"beta_i: 4.93530039443439\"\n",
            "[1] \"diff: 8.88178419700125e-16\"\n"
          ]
        },
        {
          "output_type": "display_data",
          "data": {
            "text/html": [
              "<table class=\"dataframe\">\n",
              "<caption>A data.frame: 8 × 2</caption>\n",
              "<thead>\n",
              "\t<tr><th></th><th scope=col>beta0</th><th scope=col>beta1</th></tr>\n",
              "\t<tr><th></th><th scope=col>&lt;dbl&gt;</th><th scope=col>&lt;dbl&gt;</th></tr>\n",
              "</thead>\n",
              "<tbody>\n",
              "\t<tr><th scope=row>beta_init</th><td>7.000000</td><td>5.000000</td></tr>\n",
              "\t<tr><th scope=row>X</th><td>7.451389</td><td>4.937500</td></tr>\n",
              "\t<tr><th scope=row>X.1</th><td>7.451632</td><td>4.935314</td></tr>\n",
              "\t<tr><th scope=row>X.2</th><td>7.451633</td><td>4.935300</td></tr>\n",
              "\t<tr><th scope=row>X.3</th><td>7.451633</td><td>4.935300</td></tr>\n",
              "\t<tr><th scope=row>X.4</th><td>7.451633</td><td>4.935300</td></tr>\n",
              "\t<tr><th scope=row>X.5</th><td>7.451633</td><td>4.935300</td></tr>\n",
              "\t<tr><th scope=row>X.6</th><td>7.451633</td><td>4.935300</td></tr>\n",
              "</tbody>\n",
              "</table>\n"
            ],
            "text/markdown": "\nA data.frame: 8 × 2\n\n| <!--/--> | beta0 &lt;dbl&gt; | beta1 &lt;dbl&gt; |\n|---|---|---|\n| beta_init | 7.000000 | 5.000000 |\n| X | 7.451389 | 4.937500 |\n| X.1 | 7.451632 | 4.935314 |\n| X.2 | 7.451633 | 4.935300 |\n| X.3 | 7.451633 | 4.935300 |\n| X.4 | 7.451633 | 4.935300 |\n| X.5 | 7.451633 | 4.935300 |\n| X.6 | 7.451633 | 4.935300 |\n\n",
            "text/latex": "A data.frame: 8 × 2\n\\begin{tabular}{r|ll}\n  & beta0 & beta1\\\\\n  & <dbl> & <dbl>\\\\\n\\hline\n\tbeta\\_init & 7.000000 & 5.000000\\\\\n\tX & 7.451389 & 4.937500\\\\\n\tX.1 & 7.451632 & 4.935314\\\\\n\tX.2 & 7.451633 & 4.935300\\\\\n\tX.3 & 7.451633 & 4.935300\\\\\n\tX.4 & 7.451633 & 4.935300\\\\\n\tX.5 & 7.451633 & 4.935300\\\\\n\tX.6 & 7.451633 & 4.935300\\\\\n\\end{tabular}\n",
            "text/plain": [
              "          beta0    beta1   \n",
              "beta_init 7.000000 5.000000\n",
              "X         7.451389 4.937500\n",
              "X.1       7.451632 4.935314\n",
              "X.2       7.451633 4.935300\n",
              "X.3       7.451633 4.935300\n",
              "X.4       7.451633 4.935300\n",
              "X.5       7.451633 4.935300\n",
              "X.6       7.451633 4.935300"
            ]
          },
          "metadata": {}
        }
      ]
    },
    {
      "cell_type": "code",
      "metadata": {
        "id": "QXv_fgQP1teL",
        "colab": {
          "base_uri": "https://localhost:8080/",
          "height": 399
        },
        "outputId": "e4ef1493-d35e-4956-d805-3c28707914a0"
      },
      "source": [
        "#############################################\n",
        "## By default R function\n",
        "\n",
        "model <- glm(Y~-1+X, family=poisson(link = \"identity\"))\n",
        "\n",
        "summary(model) \n",
        "#beta_hat <- coefficients(model)  \n",
        "#beta_hat"
      ],
      "execution_count": 18,
      "outputs": [
        {
          "output_type": "display_data",
          "data": {
            "text/plain": [
              "\n",
              "Call:\n",
              "glm(formula = Y ~ -1 + X, family = poisson(link = \"identity\"))\n",
              "\n",
              "Deviance Residuals: \n",
              "    Min       1Q   Median       3Q      Max  \n",
              "-0.7019  -0.3377  -0.1105   0.2958   0.7184  \n",
              "\n",
              "Coefficients:\n",
              "   Estimate Std. Error z value Pr(>|z|)    \n",
              "X1   7.4516     0.8841   8.428  < 2e-16 ***\n",
              "X2   4.9353     1.0892   4.531 5.86e-06 ***\n",
              "---\n",
              "Signif. codes:  0 ‘***’ 0.001 ‘**’ 0.01 ‘*’ 0.05 ‘.’ 0.1 ‘ ’ 1\n",
              "\n",
              "(Dispersion parameter for poisson family taken to be 1)\n",
              "\n",
              "    Null deviance:    Inf  on 9  degrees of freedom\n",
              "Residual deviance: 1.8947  on 7  degrees of freedom\n",
              "AIC: 40.008\n",
              "\n",
              "Number of Fisher Scoring iterations: 3\n"
            ]
          },
          "metadata": {}
        }
      ]
    },
    {
      "cell_type": "code",
      "metadata": {
        "id": "nZh0p0TSUFtu"
      },
      "source": [],
      "execution_count": 19,
      "outputs": []
    },
    {
      "cell_type": "markdown",
      "metadata": {
        "id": "v1fGjyJW1sd8"
      },
      "source": [
        "# HW 02"
      ]
    },
    {
      "cell_type": "markdown",
      "metadata": {
        "id": "6IQ58Goz6hkm"
      },
      "source": [
        "\n",
        "An example 4.1. from the book \"An Introduction to Generalized Linear Models\" by Dobson. The data in Table 4.5 show the numbers of cases of AIDS in Australia by date of diagnosis for successive 3-months periods from 1984 to 1988.\n",
        "\n",
        "* Plot the number of cases $y_i$ against time period (i = 1 ... 20).\n",
        "* Use the Poisson distribution with parameter $\\lambda_i = i^{\\theta}$ or equivalently $log(\\lambda_i) = \\theta log(i)$. Plot $log(y_i)$ against $log(i)$ to examne this model.\n",
        "* Fit a generalized linear model to these data using the Poisson distribution and the log-link function, ie \n",
        "$$ g(\\lambda_i) = log(\\lambda_i) = \\beta_1 + \\beta_2 x_i,$$\n",
        "where $x_i = log_i$."
      ]
    },
    {
      "cell_type": "code",
      "metadata": {
        "id": "k8FrflnA8TGz",
        "colab": {
          "base_uri": "https://localhost:8080/",
          "height": 847
        },
        "outputId": "8a1992de-f778-4ace-ea6c-f740bd4276f2"
      },
      "source": [
        "data(aids)\n",
        "summary(aids)\n",
        "aids"
      ],
      "execution_count": 32,
      "outputs": [
        {
          "output_type": "display_data",
          "data": {
            "text/plain": [
              "      year         quarter         cases       \n",
              " Min.   :1984   Min.   :1.00   Min.   :  1.00  \n",
              " 1st Qu.:1985   1st Qu.:1.75   1st Qu.: 29.25  \n",
              " Median :1986   Median :2.50   Median : 57.00  \n",
              " Mean   :1986   Mean   :2.50   Mean   : 65.55  \n",
              " 3rd Qu.:1987   3rd Qu.:3.25   3rd Qu.: 98.75  \n",
              " Max.   :1988   Max.   :4.00   Max.   :159.00  "
            ]
          },
          "metadata": {}
        },
        {
          "output_type": "display_data",
          "data": {
            "text/html": [
              "<table class=\"dataframe\">\n",
              "<caption>A tibble: 20 × 3</caption>\n",
              "<thead>\n",
              "\t<tr><th scope=col>year</th><th scope=col>quarter</th><th scope=col>cases</th></tr>\n",
              "\t<tr><th scope=col>&lt;dbl&gt;</th><th scope=col>&lt;dbl&gt;</th><th scope=col>&lt;dbl&gt;</th></tr>\n",
              "</thead>\n",
              "<tbody>\n",
              "\t<tr><td>1984</td><td>1</td><td>  1</td></tr>\n",
              "\t<tr><td>1984</td><td>2</td><td>  6</td></tr>\n",
              "\t<tr><td>1984</td><td>3</td><td> 16</td></tr>\n",
              "\t<tr><td>1984</td><td>4</td><td> 23</td></tr>\n",
              "\t<tr><td>1985</td><td>1</td><td> 27</td></tr>\n",
              "\t<tr><td>1985</td><td>2</td><td> 39</td></tr>\n",
              "\t<tr><td>1985</td><td>3</td><td> 31</td></tr>\n",
              "\t<tr><td>1985</td><td>4</td><td> 30</td></tr>\n",
              "\t<tr><td>1986</td><td>1</td><td> 43</td></tr>\n",
              "\t<tr><td>1986</td><td>2</td><td> 51</td></tr>\n",
              "\t<tr><td>1986</td><td>3</td><td> 63</td></tr>\n",
              "\t<tr><td>1986</td><td>4</td><td> 70</td></tr>\n",
              "\t<tr><td>1987</td><td>1</td><td> 88</td></tr>\n",
              "\t<tr><td>1987</td><td>2</td><td> 97</td></tr>\n",
              "\t<tr><td>1987</td><td>3</td><td> 91</td></tr>\n",
              "\t<tr><td>1987</td><td>4</td><td>104</td></tr>\n",
              "\t<tr><td>1988</td><td>1</td><td>110</td></tr>\n",
              "\t<tr><td>1988</td><td>2</td><td>113</td></tr>\n",
              "\t<tr><td>1988</td><td>3</td><td>149</td></tr>\n",
              "\t<tr><td>1988</td><td>4</td><td>159</td></tr>\n",
              "</tbody>\n",
              "</table>\n"
            ],
            "text/markdown": "\nA tibble: 20 × 3\n\n| year &lt;dbl&gt; | quarter &lt;dbl&gt; | cases &lt;dbl&gt; |\n|---|---|---|\n| 1984 | 1 |   1 |\n| 1984 | 2 |   6 |\n| 1984 | 3 |  16 |\n| 1984 | 4 |  23 |\n| 1985 | 1 |  27 |\n| 1985 | 2 |  39 |\n| 1985 | 3 |  31 |\n| 1985 | 4 |  30 |\n| 1986 | 1 |  43 |\n| 1986 | 2 |  51 |\n| 1986 | 3 |  63 |\n| 1986 | 4 |  70 |\n| 1987 | 1 |  88 |\n| 1987 | 2 |  97 |\n| 1987 | 3 |  91 |\n| 1987 | 4 | 104 |\n| 1988 | 1 | 110 |\n| 1988 | 2 | 113 |\n| 1988 | 3 | 149 |\n| 1988 | 4 | 159 |\n\n",
            "text/latex": "A tibble: 20 × 3\n\\begin{tabular}{lll}\n year & quarter & cases\\\\\n <dbl> & <dbl> & <dbl>\\\\\n\\hline\n\t 1984 & 1 &   1\\\\\n\t 1984 & 2 &   6\\\\\n\t 1984 & 3 &  16\\\\\n\t 1984 & 4 &  23\\\\\n\t 1985 & 1 &  27\\\\\n\t 1985 & 2 &  39\\\\\n\t 1985 & 3 &  31\\\\\n\t 1985 & 4 &  30\\\\\n\t 1986 & 1 &  43\\\\\n\t 1986 & 2 &  51\\\\\n\t 1986 & 3 &  63\\\\\n\t 1986 & 4 &  70\\\\\n\t 1987 & 1 &  88\\\\\n\t 1987 & 2 &  97\\\\\n\t 1987 & 3 &  91\\\\\n\t 1987 & 4 & 104\\\\\n\t 1988 & 1 & 110\\\\\n\t 1988 & 2 & 113\\\\\n\t 1988 & 3 & 149\\\\\n\t 1988 & 4 & 159\\\\\n\\end{tabular}\n",
            "text/plain": [
              "   year quarter cases\n",
              "1  1984 1         1  \n",
              "2  1984 2         6  \n",
              "3  1984 3        16  \n",
              "4  1984 4        23  \n",
              "5  1985 1        27  \n",
              "6  1985 2        39  \n",
              "7  1985 3        31  \n",
              "8  1985 4        30  \n",
              "9  1986 1        43  \n",
              "10 1986 2        51  \n",
              "11 1986 3        63  \n",
              "12 1986 4        70  \n",
              "13 1987 1        88  \n",
              "14 1987 2        97  \n",
              "15 1987 3        91  \n",
              "16 1987 4       104  \n",
              "17 1988 1       110  \n",
              "18 1988 2       113  \n",
              "19 1988 3       149  \n",
              "20 1988 4       159  "
            ]
          },
          "metadata": {}
        }
      ]
    },
    {
      "cell_type": "code",
      "metadata": {
        "id": "D1k90EyJ9YOE"
      },
      "source": [
        "AIDS <- aids %>%\n",
        "  mutate(season = paste0(year,\":Q\",quarter),\n",
        "         time = yq(season))"
      ],
      "execution_count": 33,
      "outputs": []
    },
    {
      "cell_type": "code",
      "metadata": {
        "id": "CDt8D8bc8VAd",
        "colab": {
          "base_uri": "https://localhost:8080/",
          "height": 437
        },
        "outputId": "2c2b34a4-f9c7-4874-fa8c-bfb4f0585c53"
      },
      "source": [
        "p <- ggplot(AIDS, aes(x=time, y=cases)) +\n",
        "  geom_line() #+ \n",
        "  #scale_x_date(date_labels = \"%Y-%B\")+\n",
        "  #theme(axis.text.x=element_text(angle=60, hjust=1)) +\n",
        "  #scale_x_date(breaks = AIDS$time)\n",
        "p"
      ],
      "execution_count": 34,
      "outputs": [
        {
          "output_type": "display_data",
          "data": {
            "text/plain": [
              "plot without title"
            ],
            "image/png": "[encoded data removed]"
          },
          "metadata": {
            "image/png": {
              "width": 420,
              "height": 420
            }
          }
        }
      ]
    },
    {
      "cell_type": "code",
      "metadata": {
        "id": "bgkvLQ4t3uuQ",
        "colab": {
          "base_uri": "https://localhost:8080/",
          "height": 437
        },
        "outputId": "ceeb2aba-9552-4d9d-e054-3c08a9e4e713"
      },
      "source": [
        "\n",
        "X <- seq(1,20,1)\n",
        "Y <- aids$cases\n",
        "#Y <- c(1, 6, 16, 23, 27, 39, 31, 30, 43, 51, 63, 70, 88, 97, 91, 104, 110, 113, 149, 159)\n",
        "\n",
        "par(mfrow=c(1,3))\n",
        "plot(X,Y, col=\"red\", lwd=6, main=\"Obr. 1\")\n",
        "plot(log(X),Y, col=\"red\",lwd=6, main=\"Obr. 2 - log X\")\n",
        "plot(log(X),log(Y),col=\"red\",lwd=6, main=\"Obr. 3 - log X, log Y\")\n"
      ],
      "execution_count": 35,
      "outputs": [
        {
          "output_type": "display_data",
          "data": {
            "text/plain": [
              "Plot with title “Obr. 3 - log X, log Y”"
            ],
            "image/png": "[encoded data removed]"
          },
          "metadata": {
            "image/png": {
              "width": 420,
              "height": 420
            }
          }
        }
      ]
    },
    {
      "cell_type": "code",
      "metadata": {
        "id": "fZjF3Yee3uwz"
      },
      "source": [
        "#install.packages(\"plotly\")\n",
        "#library(plotly)\n",
        "#X <- seq(1,20,1)\n",
        "#Y <- c(1, 6, 16, 23, 27, 39, 31, 30, 43, 51, 63, 70, 88, 97, 91, 104, 110, 113, 149, 159)\n",
        "#\n",
        "#df2 <- data.frame(x = c(X,log(X),log(X)),\n",
        "#                  y = c(Y,Y,log(Y)),\n",
        "#                  group = rep(c(\"X vs. Y\",\"log(X) vs. Y\",\"log(X) vs. log(Y)\"), each = 20))\n",
        "#\n",
        "#pl <- plot_ly(df2, x=~ x, y=~y, mode = \"markers\",split = ~group) %>%\n",
        "#  layout(title = \"Scatter Plot by plotly\")\n",
        "#embed_notebook(pl)"
      ],
      "execution_count": 36,
      "outputs": []
    },
    {
      "cell_type": "markdown",
      "metadata": {
        "id": "7ty74jhWTzRL"
      },
      "source": [
        "### Write function to estimate coefficients by IWLS "
      ]
    },
    {
      "cell_type": "markdown",
      "metadata": {
        "id": "XK4VWe8XNkWR"
      },
      "source": [
        "Let us assume that the response $Y_i$ are Poisson random variables and model the relation ship between $log(Y_i)$ and $x_i$ as a straight line.\n",
        "$$log(E[Y_i]) = log(\\mu_i) = \\beta_1 + \\beta_2 x_i = x_i^T \\beta \\  \\Rightarrow \\ q(\\mu_i) = log(\\mu_i) =  x_i^T \\beta  = \\eta_i$$\n",
        "Therefore $\\frac{1}{g'(\\mu_i)} = \\mu_i \\ \\Rightarrow \\ w_{ii} = \\frac{1}{V[Y_i]g'(\\mu_i)^2} = \\mu_i = e^{\\beta_1 + \\beta_2x_i}$ \n",
        "\n",
        "$Z(\\beta) = diag(g'(\\mu_i)(y-\\mu))=diag(\\frac{1}{e^{\\beta_1 + \\beta_2x_i}}(y_i - e^{\\beta_1 + \\beta_2x_i})) = diag(\\frac{y_i}{e^{\\beta_1 + \\beta_2x_i}} - 1)$"
      ]
    },
    {
      "cell_type": "code",
      "source": [
        "X = log(X)\n",
        "Y = AIDS$cases\n",
        "n = length(X)\n",
        "X=cbind(rep(1,length(n)),X)"
      ],
      "metadata": {
        "id": "wwDXwFiKefeF"
      },
      "execution_count": 37,
      "outputs": []
    },
    {
      "cell_type": "code",
      "metadata": {
        "id": "EvP__vd59li9",
        "colab": {
          "base_uri": "https://localhost:8080/",
          "height": 167
        },
        "outputId": "c7214280-d494-430b-da01-e8e3744bb255"
      },
      "source": [
        "# Initial estimation\n",
        "beta_init <- t(t(c(2, 3)))\n",
        "beta_init\n"
      ],
      "execution_count": 38,
      "outputs": [
        {
          "output_type": "display_data",
          "data": {
            "text/html": [
              "<table class=\"dataframe\">\n",
              "<caption>A matrix: 2 × 1 of type dbl</caption>\n",
              "<tbody>\n",
              "\t<tr><td>2</td></tr>\n",
              "\t<tr><td>3</td></tr>\n",
              "</tbody>\n",
              "</table>\n"
            ],
            "text/markdown": "\nA matrix: 2 × 1 of type dbl\n\n| 2 |\n| 3 |\n\n",
            "text/latex": "A matrix: 2 × 1 of type dbl\n\\begin{tabular}{l}\n\t 2\\\\\n\t 3\\\\\n\\end{tabular}\n",
            "text/plain": [
              "     [,1]\n",
              "[1,] 2   \n",
              "[2,] 3   "
            ]
          },
          "metadata": {}
        }
      ]
    },
    {
      "cell_type": "code",
      "source": [
        "calc_W2 <- function(X,beta){\n",
        "  n = length(X[,1])\n",
        "  w = diag(c(exp(X%*%beta)),n,n)\n",
        "  #w = diag(c(exp(beta[1])*(1:20)^beta[2]),n,n)\n",
        "}"
      ],
      "metadata": {
        "id": "9zV5C_O2dhWC"
      },
      "execution_count": 39,
      "outputs": []
    },
    {
      "cell_type": "code",
      "source": [
        "w =calc_W2(X,beta_init)\n",
        "Z = diag(c(Y/exp(X%*%beta_init)-1),n,n)"
      ],
      "metadata": {
        "id": "i_RSspELhllS"
      },
      "execution_count": 40,
      "outputs": []
    },
    {
      "cell_type": "code",
      "metadata": {
        "id": "x6pY0t0WqymN"
      },
      "source": [
        "IWLS_2 <- function(X,Y,beta_init, maxiter, epsilon){\n",
        "  # Fisher-scoring algorithm\n",
        "  i <- 1     # first iteration\n",
        "  convergence <- FALSE\n",
        "  beta_i <- beta_init\n",
        "  while (convergence == FALSE & i <= maxiter)\n",
        "  {\n",
        "  Z = X%*%beta_i + c(Y/exp(X%*%beta_i)-1)\n",
        "  W = calc_W2(X,beta_i)\n",
        "  beta_i = solve(t(X)%*%W%*%X, t(X)%*%W%*%Z)\n",
        "  print(i)\n",
        "  diff   <- max(t(beta_i) - beta_all[i,])\n",
        "  print(paste(\"beta_i:\",beta_i))\n",
        "  print(paste(\"diff:\",diff))\n",
        "  if (any(abs(diff)>=epsilon)){\n",
        "     i <- i+1\n",
        "     beta_all <- rbind(beta_all,t(beta_i))\n",
        "  }\n",
        "  else\n",
        "     convergence <- TRUE\n",
        "  }\n",
        "  return(data.frame(beta_all))\n",
        "}"
      ],
      "execution_count": 41,
      "outputs": []
    },
    {
      "cell_type": "code",
      "source": [
        "betas <- IWLS_2(X,Y,beta_init, maxiter, epsilon)\n",
        "names(betas) <-c(\"beta0\",\"beta1\")\n",
        "betas"
      ],
      "metadata": {
        "id": "ehm6eOfTd-Nr",
        "colab": {
          "base_uri": "https://localhost:8080/",
          "height": 964
        },
        "outputId": "f2de24f8-71c1-4e4a-c331-bf2ad0e52869"
      },
      "execution_count": 42,
      "outputs": [
        {
          "output_type": "stream",
          "name": "stdout",
          "text": [
            "[1] 1\n",
            "[1] \"beta_i: 1.03604756897916\" \"beta_i: 2.98843773957678\"\n",
            "[1] \"diff: -2.01156226042322\"\n",
            "[1] 2\n",
            "[1] \"beta_i: 0.132768846931244\" \"beta_i: 2.95744144885365\" \n",
            "[1] \"diff: -0.0309962907231212\"\n",
            "[1] 3\n",
            "[1] \"beta_i: -0.613408844482413\" \"beta_i: 2.87629525441996\"  \n",
            "[1] \"diff: -0.0811461944336984\"\n",
            "[1] 4\n",
            "[1] \"beta_i: -0.985680662415119\" \"beta_i: 2.67699137338052\"  \n",
            "[1] \"diff: -0.199303881039439\"\n",
            "[1] 5\n",
            "[1] \"beta_i: -0.654511603586013\" \"beta_i: 2.26322800230667\"  \n",
            "[1] \"diff: 0.331169058829106\"\n",
            "[1] 6\n",
            "[1] \"beta_i: 0.31225602265386\" \"beta_i: 1.69752972700607\"\n",
            "[1] \"diff: 0.966767626239873\"\n",
            "[1] 7\n",
            "[1] \"beta_i: 0.912614235219566\" \"beta_i: 1.3763022828607\"  \n",
            "[1] \"diff: 0.600358212565706\"\n",
            "[1] 8\n",
            "[1] \"beta_i: 0.994020293705745\" \"beta_i: 1.32784840139734\" \n",
            "[1] \"diff: 0.081406058486179\"\n",
            "[1] 9\n",
            "[1] \"beta_i: 0.99599663253292\" \"beta_i: 1.32661056550726\"\n",
            "[1] \"diff: 0.00197633882717563\"\n",
            "[1] 10\n",
            "[1] \"beta_i: 0.995998048471111\" \"beta_i: 1.32660967239952\" \n",
            "[1] \"diff: 1.41593819080743e-06\"\n"
          ]
        },
        {
          "output_type": "display_data",
          "data": {
            "text/html": [
              "<table class=\"dataframe\">\n",
              "<caption>A data.frame: 11 × 2</caption>\n",
              "<thead>\n",
              "\t<tr><th></th><th scope=col>beta0</th><th scope=col>beta1</th></tr>\n",
              "\t<tr><th></th><th scope=col>&lt;dbl&gt;</th><th scope=col>&lt;dbl&gt;</th></tr>\n",
              "</thead>\n",
              "<tbody>\n",
              "\t<tr><th scope=row>beta_init</th><td> 7.0000000</td><td>5.000000</td></tr>\n",
              "\t<tr><th scope=row>X</th><td> 1.0360476</td><td>2.988438</td></tr>\n",
              "\t<tr><th scope=row>X.1</th><td> 0.1327688</td><td>2.957441</td></tr>\n",
              "\t<tr><th scope=row>X.2</th><td>-0.6134088</td><td>2.876295</td></tr>\n",
              "\t<tr><th scope=row>X.3</th><td>-0.9856807</td><td>2.676991</td></tr>\n",
              "\t<tr><th scope=row>X.4</th><td>-0.6545116</td><td>2.263228</td></tr>\n",
              "\t<tr><th scope=row>X.5</th><td> 0.3122560</td><td>1.697530</td></tr>\n",
              "\t<tr><th scope=row>X.6</th><td> 0.9126142</td><td>1.376302</td></tr>\n",
              "\t<tr><th scope=row>X.7</th><td> 0.9940203</td><td>1.327848</td></tr>\n",
              "\t<tr><th scope=row>X.8</th><td> 0.9959966</td><td>1.326611</td></tr>\n",
              "\t<tr><th scope=row>X.9</th><td> 0.9959980</td><td>1.326610</td></tr>\n",
              "</tbody>\n",
              "</table>\n"
            ],
            "text/markdown": "\nA data.frame: 11 × 2\n\n| <!--/--> | beta0 &lt;dbl&gt; | beta1 &lt;dbl&gt; |\n|---|---|---|\n| beta_init |  7.0000000 | 5.000000 |\n| X |  1.0360476 | 2.988438 |\n| X.1 |  0.1327688 | 2.957441 |\n| X.2 | -0.6134088 | 2.876295 |\n| X.3 | -0.9856807 | 2.676991 |\n| X.4 | -0.6545116 | 2.263228 |\n| X.5 |  0.3122560 | 1.697530 |\n| X.6 |  0.9126142 | 1.376302 |\n| X.7 |  0.9940203 | 1.327848 |\n| X.8 |  0.9959966 | 1.326611 |\n| X.9 |  0.9959980 | 1.326610 |\n\n",
            "text/latex": "A data.frame: 11 × 2\n\\begin{tabular}{r|ll}\n  & beta0 & beta1\\\\\n  & <dbl> & <dbl>\\\\\n\\hline\n\tbeta\\_init &  7.0000000 & 5.000000\\\\\n\tX &  1.0360476 & 2.988438\\\\\n\tX.1 &  0.1327688 & 2.957441\\\\\n\tX.2 & -0.6134088 & 2.876295\\\\\n\tX.3 & -0.9856807 & 2.676991\\\\\n\tX.4 & -0.6545116 & 2.263228\\\\\n\tX.5 &  0.3122560 & 1.697530\\\\\n\tX.6 &  0.9126142 & 1.376302\\\\\n\tX.7 &  0.9940203 & 1.327848\\\\\n\tX.8 &  0.9959966 & 1.326611\\\\\n\tX.9 &  0.9959980 & 1.326610\\\\\n\\end{tabular}\n",
            "text/plain": [
              "          beta0      beta1   \n",
              "beta_init  7.0000000 5.000000\n",
              "X          1.0360476 2.988438\n",
              "X.1        0.1327688 2.957441\n",
              "X.2       -0.6134088 2.876295\n",
              "X.3       -0.9856807 2.676991\n",
              "X.4       -0.6545116 2.263228\n",
              "X.5        0.3122560 1.697530\n",
              "X.6        0.9126142 1.376302\n",
              "X.7        0.9940203 1.327848\n",
              "X.8        0.9959966 1.326611\n",
              "X.9        0.9959980 1.326610"
            ]
          },
          "metadata": {}
        }
      ]
    },
    {
      "cell_type": "code",
      "metadata": {
        "id": "em72-qmSqysg",
        "colab": {
          "base_uri": "https://localhost:8080/",
          "height": 416
        },
        "outputId": "bbe57f0c-263a-4221-8895-debf2ed02e3e"
      },
      "source": [
        "model = glm(Y ~ X, family = poisson(link = \"log\"))\n",
        "summary(model)"
      ],
      "execution_count": 43,
      "outputs": [
        {
          "output_type": "display_data",
          "data": {
            "text/plain": [
              "\n",
              "Call:\n",
              "glm(formula = Y ~ X, family = poisson(link = \"log\"))\n",
              "\n",
              "Deviance Residuals: \n",
              "    Min       1Q   Median       3Q      Max  \n",
              "-2.0568  -0.8302  -0.3072   0.9279   1.7310  \n",
              "\n",
              "Coefficients: (1 not defined because of singularities)\n",
              "            Estimate Std. Error z value Pr(>|z|)    \n",
              "(Intercept)  0.99600    0.16971   5.869 4.39e-09 ***\n",
              "X                 NA         NA      NA       NA    \n",
              "XX           1.32661    0.06463  20.525  < 2e-16 ***\n",
              "---\n",
              "Signif. codes:  0 ‘***’ 0.001 ‘**’ 0.01 ‘*’ 0.05 ‘.’ 0.1 ‘ ’ 1\n",
              "\n",
              "(Dispersion parameter for poisson family taken to be 1)\n",
              "\n",
              "    Null deviance: 677.264  on 19  degrees of freedom\n",
              "Residual deviance:  21.755  on 18  degrees of freedom\n",
              "AIC: 138.05\n",
              "\n",
              "Number of Fisher Scoring iterations: 4\n"
            ]
          },
          "metadata": {}
        }
      ]
    },
    {
      "cell_type": "code",
      "source": [
        "plot(X[,2],log(Y))\n",
        "lines(X[,2], log(model$fitted.values), col = 'red', type = 'l')"
      ],
      "metadata": {
        "id": "myQg_wQx4nWk",
        "colab": {
          "base_uri": "https://localhost:8080/",
          "height": 437
        },
        "outputId": "a34d8889-c384-4742-b371-2c33b1599fd7"
      },
      "execution_count": 44,
      "outputs": [
        {
          "output_type": "display_data",
          "data": {
            "text/plain": [
              "plot without title"
            ],
            "image/png": "[encoded data removed]"
          },
          "metadata": {
            "image/png": {
              "width": 420,
              "height": 420
            }
          }
        }
      ]
    },
    {
      "cell_type": "code",
      "source": [
        "plot(X[,2],Y)\n",
        "lines(X[,2], model$fitted.values, col = 'red', type = 'l')"
      ],
      "metadata": {
        "id": "jjbBvmOEDwsI",
        "colab": {
          "base_uri": "https://localhost:8080/",
          "height": 437
        },
        "outputId": "dfe69cba-4952-4168-ff7f-20bd59d759fc"
      },
      "execution_count": 45,
      "outputs": [
        {
          "output_type": "display_data",
          "data": {
            "text/plain": [
              "plot without title"
            ],
            "image/png": "[encoded data removed]"
          },
          "metadata": {
            "image/png": {
              "width": 420,
              "height": 420
            }
          }
        }
      ]
    },
    {
      "cell_type": "code",
      "source": [
        "plot(exp(X[,2]),(Y))\n",
        "lines(exp(X[,2]), model$fitted.values, col = 'red', type = 'l')"
      ],
      "metadata": {
        "id": "RopcRhLPDocr",
        "colab": {
          "base_uri": "https://localhost:8080/",
          "height": 437
        },
        "outputId": "3289bc9a-55c9-4649-dc75-a92ef73ff60d"
      },
      "execution_count": 46,
      "outputs": [
        {
          "output_type": "display_data",
          "data": {
            "text/plain": [
              "plot without title"
            ],
            "image/png": "[encoded data removed]"
          },
          "metadata": {
            "image/png": {
              "width": 420,
              "height": 420
            }
          }
        }
      ]
    },
    {
      "cell_type": "code",
      "metadata": {
        "id": "JcDobOsvqyxX"
      },
      "source": [],
      "execution_count": null,
      "outputs": []
    },
    {
      "cell_type": "code",
      "source": [],
      "metadata": {
        "id": "7oPAMJ3f01_e"
      },
      "execution_count": null,
      "outputs": []
    },
    {
      "cell_type": "markdown",
      "source": [
        "## Another Solutuion with strange convergence"
      ],
      "metadata": {
        "id": "N2qydGwb02Xt"
      }
    },
    {
      "cell_type": "code",
      "metadata": {
        "id": "hFdwlrwzqy4A"
      },
      "source": [],
      "execution_count": 47,
      "outputs": []
    },
    {
      "cell_type": "markdown",
      "metadata": {
        "id": "bDMx4Cja1o6P"
      },
      "source": [
        "Estimate $W^{-1}(\\beta)$\n",
        "\n",
        "$$W^{-1}(\\beta) = diag(\\frac{1}{V[Y_i]g'(\\mu_i)^2)} = diag(\\frac{\\lambda_i^2}{\\lambda_i}) = diag(e^{\\beta_0 + \\beta_1 x_i })$$\n"
      ]
    },
    {
      "cell_type": "code",
      "metadata": {
        "id": "8PKB7Gx8nPXn"
      },
      "source": [
        "# function to calcualate weights\n",
        "calc2_W_inv <- function(X,beta){\n",
        "  n = length(X[,1])\n",
        "  W = diag(c(exp(X%*%beta)),n,n)\n",
        "  return(W)\n",
        "}"
      ],
      "execution_count": 48,
      "outputs": []
    },
    {
      "cell_type": "markdown",
      "metadata": {
        "id": "1mb9lTIs2_nR"
      },
      "source": [
        "Estimate $Z_i(\\beta)$\n",
        "\n",
        "$$Z_i(\\beta) = X \\beta + diag(g'(\\mu_i))(y-\\mu) = X \\beta + \\frac{y -e^{\\beta_0 + \\beta_1 x_i}}{e^{\\beta_0 + \\beta_1 x_i}}$$\n"
      ]
    },
    {
      "cell_type": "code",
      "metadata": {
        "id": "--qruvdbd8BK"
      },
      "source": [
        "# function to calcualate weights\n",
        "calc2_Z <- function(X,Y,beta){\n",
        "  Z = X%*%(beta) + (Y-exp(X%*%beta))/exp(X%*%beta)\n",
        "  return(Z)\n",
        " }"
      ],
      "execution_count": 49,
      "outputs": []
    },
    {
      "cell_type": "code",
      "metadata": {
        "id": "f52B2X6dcyec"
      },
      "source": [
        "Y <- aids$cases\n",
        "n <- length(Y) \n",
        "X <- cbind(rep(1,n), log(seq(1,n,1)))\n",
        "#cbind(Y,X)"
      ],
      "execution_count": 50,
      "outputs": []
    },
    {
      "cell_type": "code",
      "metadata": {
        "id": "M-PllN4unaiM"
      },
      "source": [
        "### Initial values ###\n",
        "beta_init      <- lm(log(Y)~ -1+ X)$coeff\n",
        "dim(beta_init) <- c(2,1) # column vector\n",
        "#print(beta_init)\n",
        "\n",
        "Z_1<- calc2_Z(X,Y,beta_init)\n",
        "#print(z_1)\n",
        "\n",
        "# Compute Weight matrix\n",
        "W_1 <- calc2_W_inv(X,beta_init)\n",
        "#diag(W_1)"
      ],
      "execution_count": 51,
      "outputs": []
    },
    {
      "cell_type": "code",
      "metadata": {
        "id": "THHPfwTgni2p",
        "outputId": "0331f2f1-8d22-41be-cca6-eab22f70cac1",
        "colab": {
          "base_uri": "https://localhost:8080/",
          "height": 212
        }
      },
      "source": [
        "# Step from beta_0 to beta_1 and \n",
        "beta_1 = solve(t(X)%*%W_1%*%X, t(X)%*%W_1%*%Z_1)\n",
        "beta_1\n",
        "# variance-covariance matrix for estamtes beta_1\n",
        "W_2 = calc2_W_inv(X,beta_1)\n",
        "solve((t(X)%*%W_2%*%X))"
      ],
      "execution_count": 52,
      "outputs": [
        {
          "output_type": "display_data",
          "data": {
            "text/html": [
              "<table class=\"dataframe\">\n",
              "<caption>A matrix: 2 × 1 of type dbl</caption>\n",
              "<tbody>\n",
              "\t<tr><td>1.007624</td></tr>\n",
              "\t<tr><td>1.322786</td></tr>\n",
              "</tbody>\n",
              "</table>\n"
            ],
            "text/markdown": "\nA matrix: 2 × 1 of type dbl\n\n| 1.007624 |\n| 1.322786 |\n\n",
            "text/latex": "A matrix: 2 × 1 of type dbl\n\\begin{tabular}{l}\n\t 1.007624\\\\\n\t 1.322786\\\\\n\\end{tabular}\n",
            "text/plain": [
              "     [,1]    \n",
              "[1,] 1.007624\n",
              "[2,] 1.322786"
            ]
          },
          "metadata": {}
        },
        {
          "output_type": "display_data",
          "data": {
            "text/html": [
              "<table class=\"dataframe\">\n",
              "<caption>A matrix: 2 × 2 of type dbl</caption>\n",
              "<tbody>\n",
              "\t<tr><td> 0.02864799</td><td>-0.01076709</td></tr>\n",
              "\t<tr><td>-0.01076709</td><td> 0.00415721</td></tr>\n",
              "</tbody>\n",
              "</table>\n"
            ],
            "text/markdown": "\nA matrix: 2 × 2 of type dbl\n\n|  0.02864799 | -0.01076709 |\n| -0.01076709 |  0.00415721 |\n\n",
            "text/latex": "A matrix: 2 × 2 of type dbl\n\\begin{tabular}{ll}\n\t  0.02864799 & -0.01076709\\\\\n\t -0.01076709 &  0.00415721\\\\\n\\end{tabular}\n",
            "text/plain": [
              "     [,1]        [,2]       \n",
              "[1,]  0.02864799 -0.01076709\n",
              "[2,] -0.01076709  0.00415721"
            ]
          },
          "metadata": {}
        }
      ]
    },
    {
      "cell_type": "code",
      "metadata": {
        "id": "ZSIeJWqFnaoY"
      },
      "source": [
        "# IWLS for example 2\n",
        "IWLS_2 <- function(X,Y,beta_init,maxiter,epsilon){\n",
        "  # Fisher-scoring algorithm\n",
        "  i <- 1     # first iteration\n",
        "  convergence <- F\n",
        "  beta_all <- matrix(NA, nrow=maxiter, ncol=length(beta_init))\n",
        "  beta_all[1,] <- t(beta_init)\n",
        "  beta_i <- beta_init\n",
        "\n",
        "  while (convergence == F & i <= maxiter){\n",
        "    W = calc2_W_inv(X,beta_i)\n",
        "    Z = calc2_Z(X,Y,beta_i)\n",
        "    beta_i = solve(t(X)%*%W%*%X, t(X)%*%W%*%Z)\n",
        "    #print(i)\n",
        "    #print(t(X)%*%W%*%X)\n",
        "    #print(t(beta_i))\n",
        "    diff   <- max(abs(t(beta_i) - beta_all[i,]))\n",
        "    #print(diff)\n",
        "    if (diff>=epsilon){\n",
        "      i <- i+1\n",
        "      beta_all[i,] <- t(beta_i)\n",
        "    }\n",
        "    else\n",
        "      convergence <- T\n",
        "    }\n",
        "  return(data.frame(beta_all) %>% na.omit)\n",
        "}"
      ],
      "execution_count": 53,
      "outputs": []
    },
    {
      "cell_type": "code",
      "metadata": {
        "id": "jl1B3077BJn3",
        "outputId": "755b3c30-afc2-4364-d490-e6f98968179d",
        "colab": {
          "base_uri": "https://localhost:8080/",
          "height": 223
        }
      },
      "source": [
        "# Initialization\n",
        "maxiter = 100\n",
        "epsilon = 10^(-8)\n",
        "\n",
        "# Estimation of betas\n",
        "betas <- IWLS_2(X,Y,beta_init,maxiter,epsilon)\n",
        "names(betas) <-c(\"beta0\",\"beta1\")\n",
        "betas"
      ],
      "execution_count": 54,
      "outputs": [
        {
          "output_type": "display_data",
          "data": {
            "text/html": [
              "<table class=\"dataframe\">\n",
              "<caption>A data.frame: 4 × 2</caption>\n",
              "<thead>\n",
              "\t<tr><th></th><th scope=col>beta0</th><th scope=col>beta1</th></tr>\n",
              "\t<tr><th></th><th scope=col>&lt;dbl&gt;</th><th scope=col>&lt;dbl&gt;</th></tr>\n",
              "</thead>\n",
              "<tbody>\n",
              "\t<tr><th scope=row>1</th><td>0.6858337</td><td>1.454341</td></tr>\n",
              "\t<tr><th scope=row>2</th><td>1.0076238</td><td>1.322786</td></tr>\n",
              "\t<tr><th scope=row>3</th><td>0.9960335</td><td>1.326597</td></tr>\n",
              "\t<tr><th scope=row>4</th><td>0.9959980</td><td>1.326610</td></tr>\n",
              "</tbody>\n",
              "</table>\n"
            ],
            "text/markdown": "\nA data.frame: 4 × 2\n\n| <!--/--> | beta0 &lt;dbl&gt; | beta1 &lt;dbl&gt; |\n|---|---|---|\n| 1 | 0.6858337 | 1.454341 |\n| 2 | 1.0076238 | 1.322786 |\n| 3 | 0.9960335 | 1.326597 |\n| 4 | 0.9959980 | 1.326610 |\n\n",
            "text/latex": "A data.frame: 4 × 2\n\\begin{tabular}{r|ll}\n  & beta0 & beta1\\\\\n  & <dbl> & <dbl>\\\\\n\\hline\n\t1 & 0.6858337 & 1.454341\\\\\n\t2 & 1.0076238 & 1.322786\\\\\n\t3 & 0.9960335 & 1.326597\\\\\n\t4 & 0.9959980 & 1.326610\\\\\n\\end{tabular}\n",
            "text/plain": [
              "  beta0     beta1   \n",
              "1 0.6858337 1.454341\n",
              "2 1.0076238 1.322786\n",
              "3 0.9960335 1.326597\n",
              "4 0.9959980 1.326610"
            ]
          },
          "metadata": {}
        }
      ]
    },
    {
      "cell_type": "code",
      "metadata": {
        "id": "MexGEaQ18mph",
        "outputId": "817a89fa-9976-4b35-abf8-86cd22f9e7d3",
        "colab": {
          "base_uri": "https://localhost:8080/",
          "height": 437
        }
      },
      "source": [
        "betas <- betas %>% mutate(iteration = c(1:dim(betas)[1]))\n",
        "p = ggplot() + \n",
        "  geom_line(data = betas, aes(x = iteration, y = beta0), color = \"blue\") +\n",
        "  geom_line(data = betas, aes(x = iteration, y = beta1), color = \"red\") +\n",
        "  xlab('iteration') +\n",
        "  ylab('coeff value')\n",
        "print(p)"
      ],
      "execution_count": 55,
      "outputs": [
        {
          "output_type": "display_data",
          "data": {
            "text/plain": [
              "plot without title"
            ],
            "image/png": "[encoded data removed]"
          },
          "metadata": {
            "image/png": {
              "width": 420,
              "height": 420
            }
          }
        }
      ]
    },
    {
      "cell_type": "code",
      "metadata": {
        "id": "7nPUytlfBJxy",
        "outputId": "86be2604-18fa-4f5f-81bb-8e700f98a474",
        "colab": {
          "base_uri": "https://localhost:8080/",
          "height": 1000
        }
      },
      "source": [
        "# Use beta_init = c(1,1)\n",
        "betas <- IWLS_2(X,Y,c(0.1,0.1),maxiter,epsilon)\n",
        "names(betas) <-c(\"beta0\",\"beta1\")\n",
        "betas"
      ],
      "execution_count": 56,
      "outputs": [
        {
          "output_type": "display_data",
          "data": {
            "text/html": [
              "<table class=\"dataframe\">\n",
              "<caption>A data.frame: 76 × 2</caption>\n",
              "<thead>\n",
              "\t<tr><th></th><th scope=col>beta0</th><th scope=col>beta1</th></tr>\n",
              "\t<tr><th></th><th scope=col>&lt;dbl&gt;</th><th scope=col>&lt;dbl&gt;</th></tr>\n",
              "</thead>\n",
              "<tbody>\n",
              "\t<tr><th scope=row>1</th><td>  0.10000</td><td> 0.10000</td></tr>\n",
              "\t<tr><th scope=row>2</th><td>-28.26912</td><td>34.65547</td></tr>\n",
              "\t<tr><th scope=row>3</th><td>-29.26912</td><td>34.65547</td></tr>\n",
              "\t<tr><th scope=row>4</th><td>-30.26912</td><td>34.65547</td></tr>\n",
              "\t<tr><th scope=row>5</th><td>-31.26912</td><td>34.65547</td></tr>\n",
              "\t<tr><th scope=row>6</th><td>-32.26912</td><td>34.65547</td></tr>\n",
              "\t<tr><th scope=row>7</th><td>-33.26912</td><td>34.65547</td></tr>\n",
              "\t<tr><th scope=row>8</th><td>-34.26912</td><td>34.65547</td></tr>\n",
              "\t<tr><th scope=row>9</th><td>-35.26912</td><td>34.65547</td></tr>\n",
              "\t<tr><th scope=row>10</th><td>-36.26912</td><td>34.65547</td></tr>\n",
              "\t<tr><th scope=row>11</th><td>-37.26912</td><td>34.65547</td></tr>\n",
              "\t<tr><th scope=row>12</th><td>-38.26912</td><td>34.65547</td></tr>\n",
              "\t<tr><th scope=row>13</th><td>-39.26912</td><td>34.65547</td></tr>\n",
              "\t<tr><th scope=row>14</th><td>-40.26912</td><td>34.65547</td></tr>\n",
              "\t<tr><th scope=row>15</th><td>-41.26912</td><td>34.65547</td></tr>\n",
              "\t<tr><th scope=row>16</th><td>-42.26912</td><td>34.65547</td></tr>\n",
              "\t<tr><th scope=row>17</th><td>-43.26912</td><td>34.65547</td></tr>\n",
              "\t<tr><th scope=row>18</th><td>-44.26912</td><td>34.65547</td></tr>\n",
              "\t<tr><th scope=row>19</th><td>-45.26912</td><td>34.65547</td></tr>\n",
              "\t<tr><th scope=row>20</th><td>-46.26912</td><td>34.65547</td></tr>\n",
              "\t<tr><th scope=row>21</th><td>-47.26912</td><td>34.65547</td></tr>\n",
              "\t<tr><th scope=row>22</th><td>-48.26912</td><td>34.65547</td></tr>\n",
              "\t<tr><th scope=row>23</th><td>-49.26912</td><td>34.65547</td></tr>\n",
              "\t<tr><th scope=row>24</th><td>-50.26912</td><td>34.65547</td></tr>\n",
              "\t<tr><th scope=row>25</th><td>-51.26912</td><td>34.65547</td></tr>\n",
              "\t<tr><th scope=row>26</th><td>-52.26912</td><td>34.65547</td></tr>\n",
              "\t<tr><th scope=row>27</th><td>-53.26912</td><td>34.65547</td></tr>\n",
              "\t<tr><th scope=row>28</th><td>-54.26912</td><td>34.65547</td></tr>\n",
              "\t<tr><th scope=row>29</th><td>-55.26912</td><td>34.65547</td></tr>\n",
              "\t<tr><th scope=row>30</th><td>-56.26912</td><td>34.65547</td></tr>\n",
              "\t<tr><th scope=row>⋮</th><td>⋮</td><td>⋮</td></tr>\n",
              "\t<tr><th scope=row>47</th><td>-73.2691199</td><td>34.655465</td></tr>\n",
              "\t<tr><th scope=row>48</th><td>-74.2691198</td><td>34.655465</td></tr>\n",
              "\t<tr><th scope=row>49</th><td>-75.2691195</td><td>34.655465</td></tr>\n",
              "\t<tr><th scope=row>50</th><td>-76.2691187</td><td>34.655465</td></tr>\n",
              "\t<tr><th scope=row>51</th><td>-77.2691164</td><td>34.655464</td></tr>\n",
              "\t<tr><th scope=row>52</th><td>-78.2691101</td><td>34.655462</td></tr>\n",
              "\t<tr><th scope=row>53</th><td>-79.2690932</td><td>34.655456</td></tr>\n",
              "\t<tr><th scope=row>54</th><td>-80.2690471</td><td>34.655441</td></tr>\n",
              "\t<tr><th scope=row>55</th><td>-81.2689219</td><td>34.655399</td></tr>\n",
              "\t<tr><th scope=row>56</th><td>-82.2685814</td><td>34.655285</td></tr>\n",
              "\t<tr><th scope=row>57</th><td>-83.2676560</td><td>34.654975</td></tr>\n",
              "\t<tr><th scope=row>58</th><td>-84.2651406</td><td>34.654133</td></tr>\n",
              "\t<tr><th scope=row>59</th><td>-85.2583033</td><td>34.651844</td></tr>\n",
              "\t<tr><th scope=row>60</th><td>-86.2397208</td><td>34.645623</td></tr>\n",
              "\t<tr><th scope=row>61</th><td>-87.1892314</td><td>34.628721</td></tr>\n",
              "\t<tr><th scope=row>62</th><td>-88.0521574</td><td>34.582834</td></tr>\n",
              "\t<tr><th scope=row>63</th><td>-88.6808068</td><td>34.458518</td></tr>\n",
              "\t<tr><th scope=row>64</th><td>-88.6805758</td><td>34.123666</td></tr>\n",
              "\t<tr><th scope=row>65</th><td>-87.0282760</td><td>33.235693</td></tr>\n",
              "\t<tr><th scope=row>66</th><td>-81.2839716</td><td>30.977386</td></tr>\n",
              "\t<tr><th scope=row>67</th><td>-66.9177306</td><td>25.829744</td></tr>\n",
              "\t<tr><th scope=row>68</th><td>-41.2382059</td><td>16.880257</td></tr>\n",
              "\t<tr><th scope=row>69</th><td>-16.4271375</td><td> 8.186703</td></tr>\n",
              "\t<tr><th scope=row>70</th><td> -5.5567061</td><td> 4.157847</td></tr>\n",
              "\t<tr><th scope=row>71</th><td> -0.9135065</td><td> 2.267182</td></tr>\n",
              "\t<tr><th scope=row>72</th><td>  0.6184837</td><td> 1.538120</td></tr>\n",
              "\t<tr><th scope=row>73</th><td>  0.9663049</td><td> 1.344768</td></tr>\n",
              "\t<tr><th scope=row>74</th><td>  0.9957132</td><td> 1.326789</td></tr>\n",
              "\t<tr><th scope=row>75</th><td>  0.9959980</td><td> 1.326610</td></tr>\n",
              "\t<tr><th scope=row>76</th><td>  0.9959980</td><td> 1.326610</td></tr>\n",
              "</tbody>\n",
              "</table>\n"
            ],
            "text/markdown": "\nA data.frame: 76 × 2\n\n| <!--/--> | beta0 &lt;dbl&gt; | beta1 &lt;dbl&gt; |\n|---|---|---|\n| 1 |   0.10000 |  0.10000 |\n| 2 | -28.26912 | 34.65547 |\n| 3 | -29.26912 | 34.65547 |\n| 4 | -30.26912 | 34.65547 |\n| 5 | -31.26912 | 34.65547 |\n| 6 | -32.26912 | 34.65547 |\n| 7 | -33.26912 | 34.65547 |\n| 8 | -34.26912 | 34.65547 |\n| 9 | -35.26912 | 34.65547 |\n| 10 | -36.26912 | 34.65547 |\n| 11 | -37.26912 | 34.65547 |\n| 12 | -38.26912 | 34.65547 |\n| 13 | -39.26912 | 34.65547 |\n| 14 | -40.26912 | 34.65547 |\n| 15 | -41.26912 | 34.65547 |\n| 16 | -42.26912 | 34.65547 |\n| 17 | -43.26912 | 34.65547 |\n| 18 | -44.26912 | 34.65547 |\n| 19 | -45.26912 | 34.65547 |\n| 20 | -46.26912 | 34.65547 |\n| 21 | -47.26912 | 34.65547 |\n| 22 | -48.26912 | 34.65547 |\n| 23 | -49.26912 | 34.65547 |\n| 24 | -50.26912 | 34.65547 |\n| 25 | -51.26912 | 34.65547 |\n| 26 | -52.26912 | 34.65547 |\n| 27 | -53.26912 | 34.65547 |\n| 28 | -54.26912 | 34.65547 |\n| 29 | -55.26912 | 34.65547 |\n| 30 | -56.26912 | 34.65547 |\n| ⋮ | ⋮ | ⋮ |\n| 47 | -73.2691199 | 34.655465 |\n| 48 | -74.2691198 | 34.655465 |\n| 49 | -75.2691195 | 34.655465 |\n| 50 | -76.2691187 | 34.655465 |\n| 51 | -77.2691164 | 34.655464 |\n| 52 | -78.2691101 | 34.655462 |\n| 53 | -79.2690932 | 34.655456 |\n| 54 | -80.2690471 | 34.655441 |\n| 55 | -81.2689219 | 34.655399 |\n| 56 | -82.2685814 | 34.655285 |\n| 57 | -83.2676560 | 34.654975 |\n| 58 | -84.2651406 | 34.654133 |\n| 59 | -85.2583033 | 34.651844 |\n| 60 | -86.2397208 | 34.645623 |\n| 61 | -87.1892314 | 34.628721 |\n| 62 | -88.0521574 | 34.582834 |\n| 63 | -88.6808068 | 34.458518 |\n| 64 | -88.6805758 | 34.123666 |\n| 65 | -87.0282760 | 33.235693 |\n| 66 | -81.2839716 | 30.977386 |\n| 67 | -66.9177306 | 25.829744 |\n| 68 | -41.2382059 | 16.880257 |\n| 69 | -16.4271375 |  8.186703 |\n| 70 |  -5.5567061 |  4.157847 |\n| 71 |  -0.9135065 |  2.267182 |\n| 72 |   0.6184837 |  1.538120 |\n| 73 |   0.9663049 |  1.344768 |\n| 74 |   0.9957132 |  1.326789 |\n| 75 |   0.9959980 |  1.326610 |\n| 76 |   0.9959980 |  1.326610 |\n\n",
            "text/latex": "A data.frame: 76 × 2\n\\begin{tabular}{r|ll}\n  & beta0 & beta1\\\\\n  & <dbl> & <dbl>\\\\\n\\hline\n\t1 &   0.10000 &  0.10000\\\\\n\t2 & -28.26912 & 34.65547\\\\\n\t3 & -29.26912 & 34.65547\\\\\n\t4 & -30.26912 & 34.65547\\\\\n\t5 & -31.26912 & 34.65547\\\\\n\t6 & -32.26912 & 34.65547\\\\\n\t7 & -33.26912 & 34.65547\\\\\n\t8 & -34.26912 & 34.65547\\\\\n\t9 & -35.26912 & 34.65547\\\\\n\t10 & -36.26912 & 34.65547\\\\\n\t11 & -37.26912 & 34.65547\\\\\n\t12 & -38.26912 & 34.65547\\\\\n\t13 & -39.26912 & 34.65547\\\\\n\t14 & -40.26912 & 34.65547\\\\\n\t15 & -41.26912 & 34.65547\\\\\n\t16 & -42.26912 & 34.65547\\\\\n\t17 & -43.26912 & 34.65547\\\\\n\t18 & -44.26912 & 34.65547\\\\\n\t19 & -45.26912 & 34.65547\\\\\n\t20 & -46.26912 & 34.65547\\\\\n\t21 & -47.26912 & 34.65547\\\\\n\t22 & -48.26912 & 34.65547\\\\\n\t23 & -49.26912 & 34.65547\\\\\n\t24 & -50.26912 & 34.65547\\\\\n\t25 & -51.26912 & 34.65547\\\\\n\t26 & -52.26912 & 34.65547\\\\\n\t27 & -53.26912 & 34.65547\\\\\n\t28 & -54.26912 & 34.65547\\\\\n\t29 & -55.26912 & 34.65547\\\\\n\t30 & -56.26912 & 34.65547\\\\\n\t⋮ & ⋮ & ⋮\\\\\n\t47 & -73.2691199 & 34.655465\\\\\n\t48 & -74.2691198 & 34.655465\\\\\n\t49 & -75.2691195 & 34.655465\\\\\n\t50 & -76.2691187 & 34.655465\\\\\n\t51 & -77.2691164 & 34.655464\\\\\n\t52 & -78.2691101 & 34.655462\\\\\n\t53 & -79.2690932 & 34.655456\\\\\n\t54 & -80.2690471 & 34.655441\\\\\n\t55 & -81.2689219 & 34.655399\\\\\n\t56 & -82.2685814 & 34.655285\\\\\n\t57 & -83.2676560 & 34.654975\\\\\n\t58 & -84.2651406 & 34.654133\\\\\n\t59 & -85.2583033 & 34.651844\\\\\n\t60 & -86.2397208 & 34.645623\\\\\n\t61 & -87.1892314 & 34.628721\\\\\n\t62 & -88.0521574 & 34.582834\\\\\n\t63 & -88.6808068 & 34.458518\\\\\n\t64 & -88.6805758 & 34.123666\\\\\n\t65 & -87.0282760 & 33.235693\\\\\n\t66 & -81.2839716 & 30.977386\\\\\n\t67 & -66.9177306 & 25.829744\\\\\n\t68 & -41.2382059 & 16.880257\\\\\n\t69 & -16.4271375 &  8.186703\\\\\n\t70 &  -5.5567061 &  4.157847\\\\\n\t71 &  -0.9135065 &  2.267182\\\\\n\t72 &   0.6184837 &  1.538120\\\\\n\t73 &   0.9663049 &  1.344768\\\\\n\t74 &   0.9957132 &  1.326789\\\\\n\t75 &   0.9959980 &  1.326610\\\\\n\t76 &   0.9959980 &  1.326610\\\\\n\\end{tabular}\n",
            "text/plain": [
              "   beta0       beta1    \n",
              "1    0.10000    0.10000 \n",
              "2  -28.26912   34.65547 \n",
              "3  -29.26912   34.65547 \n",
              "4  -30.26912   34.65547 \n",
              "5  -31.26912   34.65547 \n",
              "6  -32.26912   34.65547 \n",
              "7  -33.26912   34.65547 \n",
              "8  -34.26912   34.65547 \n",
              "9  -35.26912   34.65547 \n",
              "10 -36.26912   34.65547 \n",
              "11 -37.26912   34.65547 \n",
              "12 -38.26912   34.65547 \n",
              "13 -39.26912   34.65547 \n",
              "14 -40.26912   34.65547 \n",
              "15 -41.26912   34.65547 \n",
              "16 -42.26912   34.65547 \n",
              "17 -43.26912   34.65547 \n",
              "18 -44.26912   34.65547 \n",
              "19 -45.26912   34.65547 \n",
              "20 -46.26912   34.65547 \n",
              "21 -47.26912   34.65547 \n",
              "22 -48.26912   34.65547 \n",
              "23 -49.26912   34.65547 \n",
              "24 -50.26912   34.65547 \n",
              "25 -51.26912   34.65547 \n",
              "26 -52.26912   34.65547 \n",
              "27 -53.26912   34.65547 \n",
              "28 -54.26912   34.65547 \n",
              "29 -55.26912   34.65547 \n",
              "30 -56.26912   34.65547 \n",
              "⋮  ⋮           ⋮        \n",
              "47 -73.2691199 34.655465\n",
              "48 -74.2691198 34.655465\n",
              "49 -75.2691195 34.655465\n",
              "50 -76.2691187 34.655465\n",
              "51 -77.2691164 34.655464\n",
              "52 -78.2691101 34.655462\n",
              "53 -79.2690932 34.655456\n",
              "54 -80.2690471 34.655441\n",
              "55 -81.2689219 34.655399\n",
              "56 -82.2685814 34.655285\n",
              "57 -83.2676560 34.654975\n",
              "58 -84.2651406 34.654133\n",
              "59 -85.2583033 34.651844\n",
              "60 -86.2397208 34.645623\n",
              "61 -87.1892314 34.628721\n",
              "62 -88.0521574 34.582834\n",
              "63 -88.6808068 34.458518\n",
              "64 -88.6805758 34.123666\n",
              "65 -87.0282760 33.235693\n",
              "66 -81.2839716 30.977386\n",
              "67 -66.9177306 25.829744\n",
              "68 -41.2382059 16.880257\n",
              "69 -16.4271375  8.186703\n",
              "70  -5.5567061  4.157847\n",
              "71  -0.9135065  2.267182\n",
              "72   0.6184837  1.538120\n",
              "73   0.9663049  1.344768\n",
              "74   0.9957132  1.326789\n",
              "75   0.9959980  1.326610\n",
              "76   0.9959980  1.326610"
            ]
          },
          "metadata": {}
        }
      ]
    },
    {
      "cell_type": "code",
      "metadata": {
        "id": "9RJbtMW89DJN",
        "outputId": "6ab1b1cf-e61d-4b36-ace6-1bc499442964",
        "colab": {
          "base_uri": "https://localhost:8080/",
          "height": 437
        }
      },
      "source": [
        "betas <- betas %>% mutate(iteration = c(1:dim(betas)[1]))\n",
        "p = ggplot() + \n",
        "  geom_line(data = betas, aes(x = iteration, y = beta0), color = \"blue\") +\n",
        "  geom_line(data = betas, aes(x = iteration, y = beta1), color = \"red\") +\n",
        "  xlab('iteration') +\n",
        "  ylab('coeff value')\n",
        "print(p)"
      ],
      "execution_count": 57,
      "outputs": [
        {
          "output_type": "display_data",
          "data": {
            "text/plain": [
              "plot without title"
            ],
            "image/png": "[encoded data removed]"
          },
          "metadata": {
            "image/png": {
              "width": 420,
              "height": 420
            }
          }
        }
      ]
    },
    {
      "cell_type": "markdown",
      "metadata": {
        "id": "aeWGVAgnqwnM"
      },
      "source": [
        "## Apendix: Solution by TH from the lecture"
      ]
    },
    {
      "cell_type": "markdown",
      "metadata": {
        "id": "vOMj0-ZUrCE2"
      },
      "source": [
        "\n",
        "\n",
        "Direct computation of $U(\\beta)$ and $I(\\beta)$"
      ]
    },
    {
      "cell_type": "code",
      "metadata": {
        "id": "WvQ5jh9Z5fwj"
      },
      "source": [
        "# TH solution from the lecture\n",
        "FishScor2 <- function(x,Y,b){\n",
        "  result <- list(FM=NA, SV=NA)\n",
        "  pom <- exp(b[2]*x)\n",
        "  \n",
        "  a11 <- exp(b[1])*sum(pom)\n",
        "  a12 <- exp(b[1])*sum(x*pom)\n",
        "  a22 <- exp(b[1])*sum(x^2*pom)\n",
        "  \n",
        "  # Information matrix\n",
        "  result$FM <- matrix(data=c(a11,a12,a12,a22), nrow = 2)\n",
        "  \n",
        "  # Score vector\n",
        "  u1 <- sum(Y) - exp(b[1])*sum(pom)\n",
        "  u2 <- sum(x*Y) - exp(b[1])*sum(x*pom)\n",
        "  \n",
        "  result$SV <- matrix(data=c(u1,u2), nrow = 2)\n",
        "  return(result)\n",
        "}\n"
      ],
      "execution_count": null,
      "outputs": []
    },
    {
      "cell_type": "code",
      "metadata": {
        "id": "Gp5Gk7e75fwk",
        "colab": {
          "base_uri": "https://localhost:8080/",
          "height": 34
        },
        "outputId": "0343ec5e-7a81-4852-d979-eaba68743b8c"
      },
      "source": [
        "# Initialization\n",
        "X2 <- seq(1,20,1)\n",
        "Y2 <- c(1, 6, 16, 23, 27, 39, 31, 30, 43, 51, 63, 70, 88, 97, 91, 104, 110, 113, 149, 159)\n",
        "maxiter <- 20         # maximalni pocet iteraci\n",
        "epsilon <- 10^(-6)    # presnost\n",
        "\n",
        "i <- 1     # aktualni iterace\n",
        "beta <- matrix(0,2,maxiter)\n",
        "beta[,1] <- beta_init\n",
        "convergence <- F\n",
        "\n",
        "# Fisher-scoring algoritmus\n",
        "while (convergence == F & i <= maxiter){\n",
        "  FS <- FishScor2(log(X2),Y2,beta[,i])\n",
        "  # print(FS$FM) # Information matrix\n",
        "  \n",
        "  beta[,i+1] <- beta[,i] + solve(FS$FM)%*%FS$SV\n",
        "  \n",
        "  diff <- (abs(beta[,i+1] - beta[,i]))\n",
        "  if (any(diff>=epsilon)){\n",
        "    i <- i+1\n",
        "  }\n",
        "  else\n",
        "    convergence <- TRUE\n",
        "}\n",
        "beta.est <- beta[,i] \n",
        "beta.est\n"
      ],
      "execution_count": null,
      "outputs": [
        {
          "output_type": "display_data",
          "data": {
            "text/html": [
              "<style>\n",
              ".list-inline {list-style: none; margin:0; padding: 0}\n",
              ".list-inline>li {display: inline-block}\n",
              ".list-inline>li:not(:last-child)::after {content: \"\\00b7\"; padding: 0 .5ex}\n",
              "</style>\n",
              "<ol class=list-inline><li>0.995998048471123</li><li>1.32660967239952</li></ol>\n"
            ],
            "text/markdown": "1. 0.995998048471123\n2. 1.32660967239952\n\n\n",
            "text/latex": "\\begin{enumerate*}\n\\item 0.995998048471123\n\\item 1.32660967239952\n\\end{enumerate*}\n",
            "text/plain": [
              "[1] 0.995998 1.326610"
            ]
          },
          "metadata": {}
        }
      ]
    },
    {
      "cell_type": "code",
      "metadata": {
        "id": "cuNIq9I85fwk",
        "colab": {
          "base_uri": "https://localhost:8080/",
          "height": 888
        },
        "outputId": "805de928-468f-4983-f59e-874ae8100272"
      },
      "source": [
        "#############################################\n",
        "## Use glm() function: Built-in function from R\n",
        "\n",
        "model <- glm(formula=Y2~log(X2),family=poisson(link = \"log\"))\n",
        "summary(model) # souhrn modelu\n",
        "beta.e <- coefficients(model); beta.e  # odhadnute parametry\n",
        "y.hat  <- model$fitted.values\n",
        "\n",
        "#############################################\n",
        "## Plot data and estimation\n",
        "plot(X2,Y, col=\"red\", cex=1.5, lwd=2, \n",
        "      main=\"Poissonův model\",\n",
        "      xlab=\"číslo čtvrtletí\",\n",
        "      ylab=\"Počet nových případů\",\n",
        "      cex.lab=1.2)\n",
        "lines(y.hat, col=\"blue\", type = \"l\", lwd=3)\n",
        "text <- c(\"model\", \"data\")\n",
        "legend(x=1, y=160, text, col = c(4,2), bty=\"n\", lwd = 2, pch=c(26,1), cex=1.3, lty=c(1,0))\n",
        "dev.off()\n"
      ],
      "execution_count": null,
      "outputs": [
        {
          "output_type": "display_data",
          "data": {
            "text/plain": [
              "\n",
              "Call:\n",
              "glm(formula = Y2 ~ log(X2), family = poisson(link = \"log\"))\n",
              "\n",
              "Deviance Residuals: \n",
              "    Min       1Q   Median       3Q      Max  \n",
              "-2.0568  -0.8302  -0.3072   0.9279   1.7310  \n",
              "\n",
              "Coefficients:\n",
              "            Estimate Std. Error z value Pr(>|z|)    \n",
              "(Intercept)  0.99600    0.16971   5.869 4.39e-09 ***\n",
              "log(X2)      1.32661    0.06463  20.525  < 2e-16 ***\n",
              "---\n",
              "Signif. codes:  0 ‘***’ 0.001 ‘**’ 0.01 ‘*’ 0.05 ‘.’ 0.1 ‘ ’ 1\n",
              "\n",
              "(Dispersion parameter for poisson family taken to be 1)\n",
              "\n",
              "    Null deviance: 677.264  on 19  degrees of freedom\n",
              "Residual deviance:  21.755  on 18  degrees of freedom\n",
              "AIC: 138.05\n",
              "\n",
              "Number of Fisher Scoring iterations: 4\n"
            ]
          },
          "metadata": {}
        },
        {
          "output_type": "display_data",
          "data": {
            "text/html": [
              "<style>\n",
              ".dl-inline {width: auto; margin:0; padding: 0}\n",
              ".dl-inline>dt, .dl-inline>dd {float: none; width: auto; display: inline-block}\n",
              ".dl-inline>dt::after {content: \":\\0020\"; padding-right: .5ex}\n",
              ".dl-inline>dt:not(:first-of-type) {padding-left: .5ex}\n",
              "</style><dl class=dl-inline><dt>(Intercept)</dt><dd>0.995998048471893</dd><dt>log(X2)</dt><dd>1.32660967239904</dd></dl>\n"
            ],
            "text/markdown": "(Intercept)\n:   0.995998048471893log(X2)\n:   1.32660967239904\n\n",
            "text/latex": "\\begin{description*}\n\\item[(Intercept)] 0.995998048471893\n\\item[log(X2)] 1.32660967239904\n\\end{description*}\n",
            "text/plain": [
              "(Intercept)     log(X2) \n",
              "   0.995998    1.326610 "
            ]
          },
          "metadata": {}
        },
        {
          "output_type": "stream",
          "name": "stderr",
          "text": [
            "Warning message in plot.xy(xy.coords(x, y), type = type, ...):\n",
            "“unimplemented pch value '26'”\n"
          ]
        },
        {
          "output_type": "display_data",
          "data": {
            "text/html": [
              "<strong>null device:</strong> 1"
            ],
            "text/markdown": "**null device:** 1",
            "text/latex": "\\textbf{null device:} 1",
            "text/plain": [
              "null device \n",
              "          1 "
            ]
          },
          "metadata": {}
        },
        {
          "output_type": "display_data",
          "data": {
            "text/plain": [
              "Plot with title “Poissonův model”"
            ],
            "image/png": "[encoded data removed]"
          },
          "metadata": {
            "image/png": {
              "width": 420,
              "height": 420
            }
          }
        }
      ]
    },
    {
      "cell_type": "markdown",
      "source": [
        "Logistic regression and IWLS\n",
        "\n",
        "http://www.jtrive.com/estimating-logistic-regression-coefficents-from-scratch-r-version.html"
      ],
      "metadata": {
        "id": "aju38HeIOimd"
      }
    }
  ]
}