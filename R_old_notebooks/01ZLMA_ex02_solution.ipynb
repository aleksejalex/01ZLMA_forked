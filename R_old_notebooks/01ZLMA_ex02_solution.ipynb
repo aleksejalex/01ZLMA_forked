{
  "nbformat": 4,
  "nbformat_minor": 0,
  "metadata": {
    "colab": {
      "name": "01ZLMA_ex02_solution.ipynb",
      "private_outputs": true,
      "provenance": [],
      "collapsed_sections": [],
      "authorship_tag": "ABX9TyNeWzfqe03+U4JicP1yQtCf",
      "include_colab_link": true
    },
    "kernelspec": {
      "name": "ir",
      "display_name": "R"
    }
  },
  "cells": [
    {
      "cell_type": "markdown",
      "metadata": {
        "id": "view-in-github",
        "colab_type": "text"
      },
      "source": [
        "<a href=\"https://colab.research.google.com/github/francji1/01ZLMA/blob/main/R/01ZLMA_ex02_solution.ipynb\" target=\"_parent\"><img src=\"https://colab.research.google.com/assets/colab-badge.svg\" alt=\"Open In Colab\"/></a>"
      ]
    },
    {
      "cell_type": "markdown",
      "metadata": {
        "id": "x-i6MbNFm4Zt"
      },
      "source": [
        "# 01ZLMA - Exercise 02\r\n",
        "Exercise 02 of the course 01ZLMA. \r\n",
        "\r\n",
        "## Contents\r\n",
        "\r\n",
        "* Fast and furious necessary theory recap from Lectures 01-03\r\n",
        " ---\r\n",
        "* Numeric methods of MLE calculations \r\n",
        " ---\r\n",
        "* Newton-Raphson\r\n",
        "* Fiher scoring - IWLS\r\n",
        "* SGD\r\n",
        "* ..\r\n",
        "\r\n"
      ]
    },
    {
      "cell_type": "markdown",
      "metadata": {
        "id": "593Mg4ZbbeEE"
      },
      "source": [
        "#  Necessary theory recap from Lectures 01-03\r\n",
        "\r\n",
        "Let's consider (m1):\r\n",
        "  1. realization $(y_i,\\ldots,y_n)$ of $iid$ random variables $Y_1,\\ldots,Y_n$ with probability density function $f(y;\\theta;\\phi)$ from an exponential family of probability distributions\r\n",
        "  $$f(y;\\theta;\\phi) = exp(\\frac{y \\theta - b(\\theta)}{a(\\phi)} - c(y,\\phi)),$$\r\n",
        "  where conditions of regularity are fulfilled (one dimensional case, i.e. $y_i,\\theta_i \\in R)$.\r\n",
        "  2. Regression matrix $X$ and vector of unknown parameters $\\beta$, linear predictor $η = X \\beta$\r\n",
        "  3. A link function $g(x)$\r\n",
        "  $$\\eta_i = g(\\mu_i) = x_i^T \\beta, \\ \\text{where} \\ \\mu_i = E[Y_i] \\ \\ i = 1,\\ldots,n$$\r\n",
        "\r\n",
        "The dispersion $a(\\phi)$ is typically known. If not, we take it as nuisance parameter.\r\n",
        "\r\n",
        "Link function satisfying $g(\\mu_i) = \\theta_i$ is called canonical."
      ]
    },
    {
      "cell_type": "markdown",
      "metadata": {
        "id": "SpQUiXf-QkGA"
      },
      "source": [
        "For $b(\\theta) \\in C^2$ we showed:\r\n",
        "$$E[Y] = b'(\\theta) $$\r\n",
        "$$V[Y] = a(\\phi) b''(\\theta) $$\r\n",
        "and defined variance function $v(\\mu) = \\frac{\\partial \\mu}{\\partial \\theta}$, i.e. $V[Y] = a(\\phi) v(\\mu)$"
      ]
    },
    {
      "cell_type": "markdown",
      "metadata": {
        "id": "lcJB1uOTZEBZ"
      },
      "source": [
        "Relations:\r\n",
        "\r\n",
        "$$\r\n",
        "\\beta \\xrightarrow[]{\\eta_i = x_i^T\\beta} \\eta\r\n",
        "\\xrightarrow[]{\\mu_i = g^{-1}(\\eta_i)}  \\mu\r\n",
        "\\xrightarrow[]{\\theta_i = (b')^{-1}(\\mu_i)}  \\theta\r\n",
        "$$ \r\n",
        "\r\n",
        "Inverse relatiions\r\n",
        "$$\r\n",
        "\\eta_i \r\n",
        "\\xleftarrow[]{}  \\mu\r\n",
        "\\xleftarrow[]{}  \\theta\r\n",
        "$$ \r\n"
      ]
    },
    {
      "cell_type": "markdown",
      "metadata": {
        "id": "w2c7jDIXSGGL"
      },
      "source": [
        "## Exercise 0\r\n",
        "\r\n",
        "Compute $E[Y]$, $V[Y]$, and $v(Y)$ by the help of moment generating function theory for the following disributions:\r\n",
        "*  Normal: $N(\\mu,\\sigma^2)$\r\n",
        "*  Gamma: $\\Gamma[a,p]$\r\n",
        "* Inverse: Gaussian $IG[\\mu, \\lambda]$\r\n",
        "* Poisson: $Poi(\\lambda)$\r\n",
        "* Bernoulli: $Ber(p)$\r\n",
        "\r\n",
        "Questions:\r\n",
        "* Which distributions can fulfill homoscedasticity?\r\n",
        "* For which distribution the variance increases with the square of the mean value?\r\n",
        "* Does exists a distribution, where $v(Y) = k \\cdot \\mu$ ?\r\n"
      ]
    },
    {
      "cell_type": "markdown",
      "metadata": {
        "id": "Gd7Z1sV3YNOm"
      },
      "source": [
        "## Likelihood, Score function, Information matrix\r\n",
        "\r\n",
        "* Likelihood function:\r\n",
        "$$L_n(\\Theta) = L_n(\\Theta|Y) = \\prod_{i=1}^{n} f(y_i|\\Theta) $$\r\n",
        "* log-likelihood function:\r\n",
        "$$l_n(\\Theta) = l_n(\\Theta|Y) = \\sum_{i=1}^{n} \\text{ln} f(y_i|\\Theta) $$\r\n",
        "* Score function:  ($R^m \\rightarrow R^m$):\r\n",
        "$$U = U(\\Theta|Y_i) = \\frac{\\partial \\text{ln} f(y_i|\\Theta)}{\\partial \\Theta} $$\r\n",
        "* Score vector (statistics):\r\n",
        "$$U_{n} = U_{n}(\\Theta|Y) = \\sum_{i=1}^{n} U(\\Theta|Y_i)= \\sum_{i=1}^{n} \\frac{\\partial l_i(\\Theta|y_i)}{\\partial \\Theta} $$\r\n",
        "* Fisher Information matrix\r\n",
        "$$ I_n (\\Theta) = E_{\\theta}[U_nU_n^T]$$\r\n",
        "with elements\r\n",
        "$$ I_{n,j,k} = E_{\\theta}[\\frac{\\partial l}{\\partial \\theta_j}\\frac{\\partial l}{\\partial \\theta_k}] = -E_{\\theta}[\\frac{\\partial^2 l}{\\theta_j \\theta_k}]$$\r\n",
        "\r\n",
        "\r\n",
        "Question:\r\n",
        "Why is the second derivative called information?\r\n",
        "\r\n"
      ]
    },
    {
      "cell_type": "markdown",
      "metadata": {
        "id": "f_Th51iYp4QL"
      },
      "source": [
        ""
      ]
    },
    {
      "cell_type": "code",
      "metadata": {
        "id": "wV3e4NaLbVZg"
      },
      "source": [
        "library(tidyverse)\r\n",
        "library(lubridate)\r\n",
        "library(MASS)\r\n",
        "\r\n",
        "#install.packages(\"car\")\r\n",
        "#library(car)\r\n",
        "#install.packages(\"GGally\")\r\n",
        "#library(GGally)\r\n",
        "\r\n",
        "\r\n",
        "#For sure: set dplyr functions\r\n",
        "select    <- dplyr::select;\r\n",
        "rename    <- dplyr::rename;\r\n",
        "mutate    <- dplyr::mutate; \r\n",
        "summarize <- dplyr::summarize;\r\n",
        "arrange   <- dplyr::arrange;\r\n",
        "slice     <- dplyr::slice;\r\n",
        "filter    <- dplyr::filter;\r\n",
        "recode    <- dplyr::recode\r\n",
        "\r\n"
      ],
      "execution_count": null,
      "outputs": []
    },
    {
      "cell_type": "code",
      "metadata": {
        "id": "Aj6hwXVQ0cXV"
      },
      "source": [
        "data()"
      ],
      "execution_count": null,
      "outputs": []
    },
    {
      "cell_type": "markdown",
      "metadata": {
        "id": "pxEycwoDWr1H"
      },
      "source": [
        "Datasets we will use:\r\n",
        "\r\n",
        "Peter K. Dunn • Gordon K. Smyth, Generalized Linear ModelsWith Examples in R\r\n",
        "\r\n",
        "https://link.springer.com/content/pdf/10.1007%2F978-1-4419-0118-7.pdf"
      ]
    },
    {
      "cell_type": "code",
      "metadata": {
        "id": "dtjmAUwlXCxB"
      },
      "source": [
        "install.packages(\"GLMsData\")\r\n",
        "library(GLMsData)\r\n",
        "#install.packages(\"splines\")\r\n",
        "#library(splines)\r\n",
        "#install.packages(\"statmod\")\r\n",
        "#library(statmod)\r\n",
        "#install.packages(\"tweedie\")\r\n",
        "#library(tweedie)"
      ],
      "execution_count": null,
      "outputs": []
    },
    {
      "cell_type": "markdown",
      "metadata": {
        "id": "azYBX7-3XXVw"
      },
      "source": [
        "A. J. Dobson AN INTRODUCTION TO GENERALIZED LINEAR MODELS\r\n",
        "\r\n",
        "\r\n",
        "https://link.springer.com/content/pdf/10.https://reneues.files.wordpress.com/2010/01/an-introduction-to-generalized-linear-models-second-edition-dobson.pdf"
      ]
    },
    {
      "cell_type": "code",
      "metadata": {
        "id": "Z_t4k-_RXXoZ"
      },
      "source": [
        "install.packages(\"dobson\")\r\n",
        "library(dobson)"
      ],
      "execution_count": null,
      "outputs": []
    },
    {
      "cell_type": "markdown",
      "metadata": {
        "id": "L0Tpj89I0ltg"
      },
      "source": [
        ""
      ]
    },
    {
      "cell_type": "markdown",
      "metadata": {
        "id": "oCR1hTq70SeK"
      },
      "source": [
        "CRAN packages for generalized linear models and with related methods\r\n",
        "\r\n",
        "https://cran.r-project.org/web/packages/cranly/vignettes/glms.html\r\n",
        "\r\n"
      ]
    },
    {
      "cell_type": "code",
      "metadata": {
        "id": "rf9DWDSoXYtd"
      },
      "source": [
        "data()"
      ],
      "execution_count": null,
      "outputs": []
    },
    {
      "cell_type": "markdown",
      "metadata": {
        "id": "IeGgMpKWX1EE"
      },
      "source": [
        "Exercise 01\r\n",
        "\r\n",
        "Estimate parameters $\\beta$ by MLE for M1.\r\n",
        "\r\n",
        "log-likelihood function is\r\n",
        "$$ l(\\theta, \\phi, y) = \\sum_{i=1}^n \\frac{y_i \\theta_i - b(\\theta_i)}{a_i(\\phi)} + \\sum_{i=1}^n c(y,\\phi) $$\r\n",
        "and we want to estimate $\\beta = (\\beta_1, \\ldots, \\beta_n)^T$, i.e.\r\n",
        "$$ \\hat{\\beta} = argmax_{\\beta}(l(\\theta,\\phi,y))$$\r\n",
        "$$\\Rightarrow$$\r\n",
        "$$ U_n = \\sum_{i=1}^n \\frac{y_i - \\mu_i}{V[Y_i]  g'(\\mu_i)} x_i = X^T M^{-1}(y-\\mu) = 0$$\r\n",
        "$$\\Rightarrow$$\r\n",
        "$$ U_n = X^T W(\\beta)^{-1}Z(\\beta) = 0,$$\\\r\n",
        "where $W(\\beta) = diag(V[Y_i]g'(\\mu_i)^2)$ and $Z(\\beta) = diag(g'(\\mu_i))(y-\\mu)$\r\n"
      ]
    },
    {
      "cell_type": "markdown",
      "metadata": {
        "id": "GB8eoMx10gQN"
      },
      "source": [
        "It can be shown \r\n",
        "$$I_n = X^T W(\\beta)^{-1} X $$"
      ]
    },
    {
      "cell_type": "markdown",
      "metadata": {
        "id": "JKJ3w-ZY1WAS"
      },
      "source": [
        "## Newton Rapson\r\n",
        "\r\n",
        "For MLE using the score function, the estimating equation is\r\n",
        "$$\\hat{\\beta}^{(r+1)} = \\hat{\\beta}^{(r)} + \\frac{U(\\hat{\\beta}^{(r)})}{\\frac{d U(\\hat{\\beta}^{(r)})}{d \\theta}}$$\r\n",
        "\r\n",
        "Question: What are advantages and disadvantages of this method."
      ]
    },
    {
      "cell_type": "markdown",
      "metadata": {
        "id": "zLJSX9Vr8gwe"
      },
      "source": [
        "## Fisher Scoring\r\n",
        "\r\n",
        "$$\\hat{\\beta}^{(r+1)} =  \\hat{\\beta}^{(r)} + \\frac{U(\\hat{\\beta}^{(r)})}{E [\\frac{d U(\\hat{\\beta}^{(r)})}{d \\theta} ]} = \\hat{\\beta}^{(r)} + \\frac{U(\\hat{\\beta}^{(r)})}{I(\\hat{\\beta}^{(r)})}$$\r\n",
        "\r\n",
        "Question: What are advantages and disadvantages of this method."
      ]
    },
    {
      "cell_type": "markdown",
      "metadata": {
        "id": "_9WHH77u97dn"
      },
      "source": [
        "# IWLS\r\n",
        "\r\n",
        "$$I(\\hat{\\beta}^{(r)}) \\hat{\\beta}^{(r+1)}  =  I(\\hat{\\beta}^{(r)}) \\hat{\\beta}^{(r)} + U(\\hat{\\beta}^{(r)})$$\r\n",
        "$$ \\Rightarrow$$\r\n",
        "$$(X^T W(\\hat{\\beta}^{(r)})^{-1} X) \\hat{\\beta}^{(r+1)}  = X^T W(\\hat{\\beta}^{(r)})^{-1} Z(\\hat{\\beta}^{(r)})  $$\r\n",
        "$$ \\Rightarrow$$\r\n",
        "$$  \\hat{\\beta}^{(r+1)}  =  (X^T W(\\hat{\\beta}^{(r)})^{-1} X)^{-1} X^T W(\\hat{\\beta}^{(r)})^{-1} Z(\\hat{\\beta}^{(r)})  $$ \r\n",
        "where $Z(\\beta) = X \\beta + diag(g'(\\mu_i))(y-\\mu)$"
      ]
    },
    {
      "cell_type": "code",
      "metadata": {
        "id": "4vuRvxDiYAoe"
      },
      "source": [
        ""
      ],
      "execution_count": null,
      "outputs": []
    },
    {
      "cell_type": "markdown",
      "metadata": {
        "id": "8d4KK-T_YA_Q"
      },
      "source": [
        "\r\n",
        "\r\n",
        "## Poisson regression example (Dobson 4.4)\r\n",
        "\r\n"
      ]
    },
    {
      "cell_type": "code",
      "metadata": {
        "id": "I7zgGjhh1PLY"
      },
      "source": [
        "# Generate and plot the Dataset\r\n",
        "\r\n",
        "X <- c(-1,-1,0,0,0,0,1,1,1,2,2,2,2)\r\n",
        "Y <- c(2,3,6,7,8,9,10,12,15,16,23,20,25)\r\n",
        "n <- length(X)\r\n",
        "\r\n",
        "df1 <- data.frame(X=X, Y=Y)\r\n",
        "plot(X,Y,xlim = c(-1.5, 2.5), ylim = c(0, 30), col=\"red\",lwd=6)"
      ],
      "execution_count": null,
      "outputs": []
    },
    {
      "cell_type": "code",
      "metadata": {
        "id": "fAOmEAkLIB3O"
      },
      "source": [
        "install.packages(\"plotly\")\r\n",
        "library(plotly)\r\n",
        "plot_ly(df1, x=~ X, y=~Y, mode = \"markers\") %>%\r\n",
        " layout(title = \"Scatter Plot by plotly\") %>%\r\n",
        "embed_notebook()"
      ],
      "execution_count": null,
      "outputs": []
    },
    {
      "cell_type": "markdown",
      "metadata": {
        "id": "iGs3-yFPADyY"
      },
      "source": [
        "Let us assume that the response $Y_i$ are Poisson random variables and model \r\n",
        "\r\n",
        "the relation ship between $Y_i$ and $x_i$ by the straight line, i.e.\r\n",
        "$$E[Y_i] = \\mu_i = \\beta_1 + \\beta_2 x_i = x_i^T \\beta \\  \\Rightarrow \\ q(\\mu_i) = \\mu_i =  x_i^T \\beta  = \\eta_i$$\r\n",
        "Therefore $\\frac{1}{g'(\\mu_i)} = 1 \\ \\Rightarrow \\ w_{ii} = \\frac{1}{V[Y]} = \\frac{1}{\\beta_1 + \\beta_2x_i}$ "
      ]
    },
    {
      "cell_type": "code",
      "metadata": {
        "id": "CM_S6yrHACvN"
      },
      "source": [
        "# function to calcualate weights\r\n",
        "calc1_W <- function(X,beta){\r\n",
        "  n=length(X[,1])\r\n",
        "w = diag(c(1/(X%*%beta)),n,n)\r\n",
        "}"
      ],
      "execution_count": null,
      "outputs": []
    },
    {
      "cell_type": "code",
      "metadata": {
        "id": "6kQ-hKRn8SNP"
      },
      "source": [
        ""
      ],
      "execution_count": null,
      "outputs": []
    },
    {
      "cell_type": "code",
      "metadata": {
        "id": "02IDNNJpC3Hh"
      },
      "source": [
        "# Initial values\r\n",
        "X=cbind(rep(1,length(n)),c(-1,-1,0,0,0,0,1,1,1,2,2,2,2))\r\n",
        "beta_0 = c(7,5)\r\n",
        "z = Y"
      ],
      "execution_count": null,
      "outputs": []
    },
    {
      "cell_type": "code",
      "metadata": {
        "id": "BRhZk1xhESxC"
      },
      "source": [
        "# Compute Weight matrix\r\n",
        "W <- calc1_W(X,beta_0)\r\n",
        "W"
      ],
      "execution_count": null,
      "outputs": []
    },
    {
      "cell_type": "code",
      "metadata": {
        "id": "6RhNW5a7_rNS"
      },
      "source": [
        "# Step from beta_0 to beta_1\r\n",
        "beta_1 = solve(t(X)%*%W%*%X, t(X)%*%W%*%z)\r\n",
        "beta_1"
      ],
      "execution_count": null,
      "outputs": []
    },
    {
      "cell_type": "code",
      "metadata": {
        "id": "Hqib7OjtIjCS"
      },
      "source": [
        "# variance-covariance matrix for estamtes beta_1\r\n",
        "W = calc1_W(X,beta_1)\r\n",
        "solve((t(X)%*%W%*%X))"
      ],
      "execution_count": null,
      "outputs": []
    },
    {
      "cell_type": "code",
      "metadata": {
        "id": "mEcamDGw0K6W"
      },
      "source": [
        "#Write function"
      ],
      "execution_count": null,
      "outputs": []
    },
    {
      "cell_type": "markdown",
      "metadata": {
        "id": "cAmB4PDZJKEl"
      },
      "source": [
        "# Your turn:\r\n",
        "1. Write function to calculate IWLS for example 1 with following parameters\r\n",
        " * maximal number of iteration\r\n",
        " * accuracy\r\n",
        " * initial estimation\r\n",
        "2. Try different initialization (ols, random, lecture, ...). Plot convergence of parameters $\\beta_i$ depends on initial estimation.\r\n"
      ]
    },
    {
      "cell_type": "code",
      "metadata": {
        "id": "hxmpHN8M1PP2"
      },
      "source": [
        "beta_init = lm(Y~-1+X)$coeff\r\n",
        "beta_init"
      ],
      "execution_count": null,
      "outputs": []
    },
    {
      "cell_type": "code",
      "metadata": {
        "id": "m2QAtB_zRb6x"
      },
      "source": [
        "# Set initial parameters\r\n",
        "maxiter <- 20        # maximal number of iteration\r\n",
        "epsilon <- 10^(-6)   # accuracy\r\n",
        "#beta_init <- c(10,5)\r\n",
        "beta_all <- rbind(beta_init)\r\n",
        "beta_all"
      ],
      "execution_count": null,
      "outputs": []
    },
    {
      "cell_type": "code",
      "metadata": {
        "id": "hhyREPEK95Ud"
      },
      "source": [
        "  W = calc1_W(X,beta_init)\r\n",
        "  diag(W)"
      ],
      "execution_count": null,
      "outputs": []
    },
    {
      "cell_type": "code",
      "metadata": {
        "id": "hVF3EMVzRiPc"
      },
      "source": [
        "IWLS_1 <- function(X,Y,beta_init,maxiter,epsilon){\r\n",
        "  # Fisher-scoring algorithm\r\n",
        "  i <- 1     # first iteration\r\n",
        "  convergence <- FALSE\r\n",
        "  beta_i <- beta_init\r\n",
        "  while (convergence == FALSE & i <= maxiter)\r\n",
        "  {\r\n",
        "  ## Place for your code ###\r\n",
        "  W = calc1_W(X,beta_i)\r\n",
        "  beta_i = solve(t(X)%*%W%*%X, t(X)%*%W%*%Y)\r\n",
        "  print(i)\r\n",
        "  print(beta_i)\r\n",
        "  print(beta_all)\r\n",
        "  diff   <- max(abs(t(beta_i) - beta_all[i,]))\r\n",
        "  print(diff)\r\n",
        "  if (any(diff>=epsilon)){\r\n",
        "     i <- i+1\r\n",
        "     beta_all <- rbind(beta_all,t(beta_i))\r\n",
        "  }\r\n",
        "  else\r\n",
        "     convergence <- TRUE\r\n",
        "  }\r\n",
        "  return(data.frame(beta_all))\r\n",
        "}"
      ],
      "execution_count": null,
      "outputs": []
    },
    {
      "cell_type": "code",
      "metadata": {
        "id": "1joSTqhKRA0Y"
      },
      "source": [
        "betas <- IWLS_1(X,Y,beta_init,maxiter,epsilon)\r\n",
        "names(betas) <-c(\"beta0\",\"beta1\")\r\n",
        "betas <- betas %>% mutate(iteration = c(1:dim(betas)[1]))\r\n",
        "betas"
      ],
      "execution_count": null,
      "outputs": []
    },
    {
      "cell_type": "code",
      "metadata": {
        "id": "EqEb_5df7Zhm"
      },
      "source": [
        "p = ggplot() + \r\n",
        "  geom_line(data = betas, aes(x = iteration, y = beta0), color = \"blue\") +\r\n",
        "  geom_line(data = betas, aes(x = iteration, y = beta1), color = \"red\") +\r\n",
        "  xlab('iteration') +\r\n",
        "  ylab('coeff value')\r\n",
        "print(p)"
      ],
      "execution_count": null,
      "outputs": []
    },
    {
      "cell_type": "code",
      "metadata": {
        "id": "QXv_fgQP1teL"
      },
      "source": [
        "#############################################\r\n",
        "## By default R function\r\n",
        "\r\n",
        "model <- glm(Y~-1+X, family=poisson(link = \"identity\"))\r\n",
        "\r\n",
        "summary(model) \r\n",
        "#beta_hat <- coefficients(model)  \r\n",
        "#beta_hat"
      ],
      "execution_count": null,
      "outputs": []
    },
    {
      "cell_type": "code",
      "metadata": {
        "id": "nZh0p0TSUFtu"
      },
      "source": [
        ""
      ],
      "execution_count": null,
      "outputs": []
    },
    {
      "cell_type": "markdown",
      "metadata": {
        "id": "v1fGjyJW1sd8"
      },
      "source": [
        "# Example 2"
      ]
    },
    {
      "cell_type": "markdown",
      "metadata": {
        "id": "6IQ58Goz6hkm"
      },
      "source": [
        "\r\n",
        "An example 4.1. from the book \"An Introduction to Generalized Linear Models\" by Dobson. The data in Table 4.5 show the numbers of cases of AIDS in Australia by date of diagnosis for successive 3-months periods from 1984 to 1988.\r\n",
        "\r\n",
        "* Plot the number of cases $y_i$ against time period (i = 1 ... 20).\r\n",
        "* Use the Poisson distribution with parameter $\\lambda_i = i^{\\theta}$ or equivalently $log(\\lambda_i) = \\theta log(i)$. Plot $log(y_i)$ against $log(i)$ to examne this model.\r\n",
        "* Fit a generalized linear model to these data using the Poisson distribution and the log-link function, ie \r\n",
        "$$ g(\\lambda_i) = log(\\lambda_i) = \\beta_1 + \\beta_2 x_i,$$\r\n",
        "where $x_i = log_i$."
      ]
    },
    {
      "cell_type": "code",
      "metadata": {
        "id": "k8FrflnA8TGz"
      },
      "source": [
        "data(aids)\r\n",
        "summary(aids)\r\n",
        "aids"
      ],
      "execution_count": null,
      "outputs": []
    },
    {
      "cell_type": "code",
      "metadata": {
        "id": "D1k90EyJ9YOE"
      },
      "source": [
        "AIDS <- aids %>%\r\n",
        "  mutate(season = paste0(year,\":Q\",quarter),\r\n",
        "         time = yq(season))\r\n",
        "head(AIDS)"
      ],
      "execution_count": null,
      "outputs": []
    },
    {
      "cell_type": "code",
      "metadata": {
        "id": "CDt8D8bc8VAd"
      },
      "source": [
        "p <- ggplot(AIDS, aes(x=time, y=cases)) +\r\n",
        "  geom_line() + \r\n",
        "  #scale_x_date(date_labels = \"%Y-%B\")#+\r\n",
        "  theme(axis.text.x=element_text(angle=60, hjust=1)) +\r\n",
        "  scale_x_date(breaks = AIDS$time)\r\n",
        "p"
      ],
      "execution_count": null,
      "outputs": []
    },
    {
      "cell_type": "code",
      "metadata": {
        "id": "bgkvLQ4t3uuQ"
      },
      "source": [
        "X <- seq(1,20,1)\r\n",
        "Y <- aids$cases\r\n",
        "\r\n",
        "par(mfrow=c(1,3))\r\n",
        "plot(X,Y, col=\"red\", lwd=6, main=\"Obr. 1\")\r\n",
        "plot(log(X),Y, col=\"red\",lwd=6, main=\"Obr. 2 - log X\")\r\n",
        "plot(log(X),log(Y),col=\"red\",lwd=6, main=\"Obr. 3 - log X, log Y\")\r\n"
      ],
      "execution_count": null,
      "outputs": []
    },
    {
      "cell_type": "code",
      "metadata": {
        "id": "fZjF3Yee3uwz"
      },
      "source": [
        "install.packages(\"plotly\")\r\n",
        "library(plotly)\r\n",
        "#X <- seq(1,20,1)\r\n",
        "#Y <- c(1, 6, 16, 23, 27, 39, 31, 30, 43, 51, 63, 70, 88, 97, 91, 104, 110, 113, 149, 159)\r\n",
        "\r\n",
        "df2 <- data.frame(x = c(X,log(X),log(X)),\r\n",
        "                  y = c(Y,Y,log(Y)),\r\n",
        "                  group = rep(c(\"X vs. Y\",\"log(X) vs. Y\",\"log(X) vs. log(Y)\"), each = 20))\r\n",
        "\r\n",
        "pl <- plot_ly(df2, x=~ x, y=~y, mode = \"markers\",split = ~group) %>%\r\n",
        "  layout(title = \"Scatter Plot by plotly\")\r\n",
        "embed_notebook(pl)"
      ],
      "execution_count": null,
      "outputs": []
    },
    {
      "cell_type": "markdown",
      "metadata": {
        "id": "7ty74jhWTzRL"
      },
      "source": [
        "## Your turn:\r\n",
        "Write function to estimate coefficients by IWLS in Example 2 "
      ]
    },
    {
      "cell_type": "markdown",
      "metadata": {
        "id": "bDMx4Cja1o6P"
      },
      "source": [
        "Estimate $W^{-1}(\\beta)$\r\n",
        "\r\n",
        "$$W^{-1}(\\beta) = diag(\\frac{1}{V[Y_i]g'(\\mu_i)^2)} = diag(\\frac{\\lambda_i^2}{\\lambda_i}) = diag(e^{\\beta_0 + \\beta_1 x_i })$$\r\n"
      ]
    },
    {
      "cell_type": "code",
      "metadata": {
        "id": "8PKB7Gx8nPXn"
      },
      "source": [
        "# function to calcualate weights\r\n",
        "calc2_W_inv <- function(X,beta){\r\n",
        "  n = length(X[,1])\r\n",
        "  W = diag(c(exp(X%*%beta)),n,n)\r\n",
        "  return(W)\r\n",
        "}"
      ],
      "execution_count": null,
      "outputs": []
    },
    {
      "cell_type": "markdown",
      "metadata": {
        "id": "1mb9lTIs2_nR"
      },
      "source": [
        "Estimate $Z_i(\\beta)$\r\n",
        "\r\n",
        "$$Z_i(\\beta) = X \\beta + diag(g'(\\mu_i))(y-\\mu) = X \\beta + \\frac{y -e^{\\beta_0 + \\beta_1 x_i}}{e^{\\beta_0 + \\beta_1 x_i}}$$\r\n"
      ]
    },
    {
      "cell_type": "code",
      "metadata": {
        "id": "--qruvdbd8BK"
      },
      "source": [
        "# function to calcualate weights\r\n",
        "calc2_Z <- function(X,Y,beta){\r\n",
        "  Z = X%*%(beta) + (Y-exp(X%*%beta))/exp(X%*%beta)\r\n",
        "  return(Z)\r\n",
        " }"
      ],
      "execution_count": null,
      "outputs": []
    },
    {
      "cell_type": "code",
      "metadata": {
        "id": "f52B2X6dcyec"
      },
      "source": [
        "Y <- aids$cases\r\n",
        "n <- length(Y) \r\n",
        "X <- cbind(rep(1,n), log(seq(1,n,1)))\r\n",
        "#cbind(Y,X)"
      ],
      "execution_count": null,
      "outputs": []
    },
    {
      "cell_type": "code",
      "metadata": {
        "id": "M-PllN4unaiM"
      },
      "source": [
        "### Initial values ###\r\n",
        "beta_init      <- lm(log(Y)~ -1+ X)$coeff\r\n",
        "dim(beta_init) <- c(2,1) # column vector\r\n",
        "#print(beta_init)\r\n",
        "\r\n",
        "Z_1<- calc2_Z(X,Y,beta_init)\r\n",
        "#print(z_1)\r\n",
        "\r\n",
        "# Compute Weight matrix\r\n",
        "W_1 <- calc2_W_inv(X,beta_init)\r\n",
        "#diag(W_1)"
      ],
      "execution_count": null,
      "outputs": []
    },
    {
      "cell_type": "code",
      "metadata": {
        "id": "THHPfwTgni2p"
      },
      "source": [
        "# Step from beta_0 to beta_1 and \r\n",
        "beta_1 = solve(t(X)%*%W_1%*%X, t(X)%*%W_1%*%Z_1)\r\n",
        "beta_1\r\n",
        "# variance-covariance matrix for estamtes beta_1\r\n",
        "W_2 = calc2_W_inv(X,beta_1)\r\n",
        "solve((t(X)%*%W_2%*%X))"
      ],
      "execution_count": null,
      "outputs": []
    },
    {
      "cell_type": "code",
      "metadata": {
        "id": "ZSIeJWqFnaoY"
      },
      "source": [
        "# IWLS for example 2\r\n",
        "IWLS_2 <- function(X,Y,beta_init,maxiter,epsilon){\r\n",
        "  # Fisher-scoring algorithm\r\n",
        "  i <- 1     # first iteration\r\n",
        "  convergence <- F\r\n",
        "  beta_all <- matrix(NA, nrow=maxiter, ncol=length(beta_init))\r\n",
        "  beta_all[1,] <- t(beta_init)\r\n",
        "  beta_i <- beta_init\r\n",
        "\r\n",
        "  while (convergence == F & i <= maxiter){\r\n",
        "    W = calc2_W_inv(X,beta_i)\r\n",
        "    Z = calc2_Z(X,Y,beta_i)\r\n",
        "    beta_i = solve(t(X)%*%W%*%X, t(X)%*%W%*%Z)\r\n",
        "    #print(i)\r\n",
        "    #print(t(X)%*%W%*%X)\r\n",
        "    #print(t(beta_i))\r\n",
        "    diff   <- max(abs(t(beta_i) - beta_all[i,]))\r\n",
        "    #print(diff)\r\n",
        "    if (diff>=epsilon){\r\n",
        "      i <- i+1\r\n",
        "      beta_all[i,] <- t(beta_i)\r\n",
        "    }\r\n",
        "    else\r\n",
        "      convergence <- T\r\n",
        "    }\r\n",
        "  return(data.frame(beta_all) %>% na.omit)\r\n",
        "}"
      ],
      "execution_count": null,
      "outputs": []
    },
    {
      "cell_type": "code",
      "metadata": {
        "id": "jl1B3077BJn3"
      },
      "source": [
        "# Initialization\r\n",
        "maxiter = 100\r\n",
        "epsilon = 10^(-8)\r\n",
        "\r\n",
        "# Estimation of betas\r\n",
        "betas <- IWLS_2(X,Y,beta_init,maxiter,epsilon)\r\n",
        "names(betas) <-c(\"beta0\",\"beta1\")\r\n",
        "betas"
      ],
      "execution_count": null,
      "outputs": []
    },
    {
      "cell_type": "code",
      "metadata": {
        "id": "MexGEaQ18mph"
      },
      "source": [
        "betas <- betas %>% mutate(iteration = c(1:dim(betas)[1]))\r\n",
        "p = ggplot() + \r\n",
        "  geom_line(data = betas, aes(x = iteration, y = beta0), color = \"blue\") +\r\n",
        "  geom_line(data = betas, aes(x = iteration, y = beta1), color = \"red\") +\r\n",
        "  xlab('iteration') +\r\n",
        "  ylab('coeff value')\r\n",
        "print(p)"
      ],
      "execution_count": null,
      "outputs": []
    },
    {
      "cell_type": "code",
      "metadata": {
        "id": "7nPUytlfBJxy"
      },
      "source": [
        "# Use beta_init = c(1,1)\r\n",
        "betas <- IWLS_2(X,Y,c(0.1,0.1),maxiter,epsilon)\r\n",
        "names(betas) <-c(\"beta0\",\"beta1\")\r\n",
        "betas"
      ],
      "execution_count": null,
      "outputs": []
    },
    {
      "cell_type": "code",
      "metadata": {
        "id": "9RJbtMW89DJN"
      },
      "source": [
        "betas <- betas %>% mutate(iteration = c(1:dim(betas)[1]))\r\n",
        "p = ggplot() + \r\n",
        "  geom_line(data = betas, aes(x = iteration, y = beta0), color = \"blue\") +\r\n",
        "  geom_line(data = betas, aes(x = iteration, y = beta1), color = \"red\") +\r\n",
        "  xlab('iteration') +\r\n",
        "  ylab('coeff value')\r\n",
        "print(p)"
      ],
      "execution_count": null,
      "outputs": []
    },
    {
      "cell_type": "markdown",
      "metadata": {
        "id": "vOMj0-ZUrCE2"
      },
      "source": [
        "## Solution from the lecture. \r\n",
        "\r\n",
        "Direct computation of $U(\\beta)$ and $I(\\beta)$"
      ]
    },
    {
      "cell_type": "code",
      "metadata": {
        "id": "lMUd76O_0K9d"
      },
      "source": [
        "# TH solution from the lecture\r\n",
        "FishScor2 <- function(x,Y,b){\r\n",
        "  result <- list(FM=NA, SV=NA)\r\n",
        "  pom <- exp(b[2]*x)\r\n",
        "  \r\n",
        "  a11 <- exp(b[1])*sum(pom)\r\n",
        "  a12 <- exp(b[1])*sum(x*pom)\r\n",
        "  a22 <- exp(b[1])*sum(x^2*pom)\r\n",
        "  \r\n",
        "  # Information matrix\r\n",
        "  result$FM <- matrix(data=c(a11,a12,a12,a22), nrow = 2)\r\n",
        "  \r\n",
        "  # Score vector\r\n",
        "  u1 <- sum(Y) - exp(b[1])*sum(pom)\r\n",
        "  u2 <- sum(x*Y) - exp(b[1])*sum(x*pom)\r\n",
        "  \r\n",
        "  result$SV <- matrix(data=c(u1,u2), nrow = 2)\r\n",
        "  return(result)\r\n",
        "}\r\n"
      ],
      "execution_count": null,
      "outputs": []
    },
    {
      "cell_type": "code",
      "metadata": {
        "id": "V2sz19RHBcKe"
      },
      "source": [
        "# Initialization\r\n",
        "X2 <- seq(1,20,1)\r\n",
        "Y2 <- c(1, 6, 16, 23, 27, 39, 31, 30, 43, 51, 63, 70, 88, 97, 91, 104, 110, 113, 149, 159)\r\n",
        "maxiter <- 20         # maximalni pocet iteraci\r\n",
        "epsilon <- 10^(-6)    # presnost\r\n",
        "\r\n",
        "i <- 1     # aktualni iterace\r\n",
        "beta <- matrix(0,2,maxiter)\r\n",
        "beta[,1] <- beta_init\r\n",
        "convergence <- F\r\n",
        "\r\n",
        "# Fisher-scoring algoritmus\r\n",
        "while (convergence == F & i <= maxiter){\r\n",
        "  FS <- FishScor2(log(X2),Y2,beta[,i])\r\n",
        "  # print(FS$FM) # Information matrix\r\n",
        "  \r\n",
        "  beta[,i+1] <- beta[,i] + solve(FS$FM)%*%FS$SV\r\n",
        "  \r\n",
        "  diff <- (abs(beta[,i+1] - beta[,i]))\r\n",
        "  if (any(diff>=epsilon)){\r\n",
        "    i <- i+1\r\n",
        "  }\r\n",
        "  else\r\n",
        "    convergence <- TRUE\r\n",
        "}\r\n",
        "beta.est <- beta[,i] \r\n",
        "beta.est\r\n"
      ],
      "execution_count": null,
      "outputs": []
    },
    {
      "cell_type": "code",
      "metadata": {
        "id": "XPd-O4B60_KA"
      },
      "source": [
        "#############################################\r\n",
        "## Use glm() function: Built-in function from R\r\n",
        "\r\n",
        "model <- glm(formula=Y~log(X2),family=poisson(link = \"log\"))\r\n",
        "summary(model) # souhrn modelu\r\n",
        "beta.e <- coefficients(model); beta.e  # odhadnute parametry\r\n",
        "y.hat  <- model$fitted.values\r\n",
        "\r\n",
        "#############################################\r\n",
        "## Plot data and estimation\r\n",
        "plot(X2,Y, col=\"red\", cex=1.5, lwd=2, \r\n",
        "      main=\"Poissonův model\",\r\n",
        "      xlab=\"číslo čtvrtletí\",\r\n",
        "      ylab=\"Počet nových případů\",\r\n",
        "      cex.lab=1.2)\r\n",
        "lines(y.hat, col=\"blue\", type = \"l\", lwd=3)\r\n",
        "text <- c(\"model\", \"data\")\r\n",
        "legend(x=1, y=160, text, col = c(4,2), bty=\"n\", lwd = 2, pch=c(26,1), cex=1.3, lty=c(1,0))\r\n",
        "dev.off()\r\n"
      ],
      "execution_count": null,
      "outputs": []
    },
    {
      "cell_type": "markdown",
      "metadata": {
        "id": "7AZd-KpK0LVi"
      },
      "source": [
        "## Logistic regression and IWLS"
      ]
    },
    {
      "cell_type": "markdown",
      "metadata": {
        "id": "EkAeJsz70LYq"
      },
      "source": [
        "http://www.jtrive.com/estimating-logistic-regression-coefficents-from-scratch-r-version.html"
      ]
    },
    {
      "cell_type": "code",
      "metadata": {
        "id": "3O60Qhn1rV7Z"
      },
      "source": [
        ""
      ],
      "execution_count": null,
      "outputs": []
    }
  ]
}